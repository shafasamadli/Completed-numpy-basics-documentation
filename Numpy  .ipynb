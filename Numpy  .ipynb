{
 "cells": [
  {
   "cell_type": "markdown",
   "id": "539c9cec",
   "metadata": {},
   "source": [
    "# Numpy training "
   ]
  },
  {
   "cell_type": "raw",
   "id": "7cdd7034",
   "metadata": {},
   "source": [
    "Initializing numpy array"
   ]
  },
  {
   "cell_type": "code",
   "execution_count": 1,
   "id": "d88545ac",
   "metadata": {},
   "outputs": [],
   "source": [
    "import numpy as np "
   ]
  },
  {
   "cell_type": "code",
   "execution_count": null,
   "id": "c239884c",
   "metadata": {},
   "outputs": [],
   "source": []
  },
  {
   "cell_type": "code",
   "execution_count": 2,
   "id": "6b440132",
   "metadata": {},
   "outputs": [
    {
     "data": {
      "text/plain": [
       "array([1, 2, 3])"
      ]
     },
     "execution_count": 2,
     "metadata": {},
     "output_type": "execute_result"
    }
   ],
   "source": [
    "numpy_array_1=np.array([1,2,3]) # one dimensional array\n",
    "numpy_array_1          # numpy_array_1=np.array([1,2,3],dtype='int64')"
   ]
  },
  {
   "cell_type": "code",
   "execution_count": 3,
   "id": "2c1fe665",
   "metadata": {},
   "outputs": [
    {
     "data": {
      "text/plain": [
       "array([[1., 2., 3.],\n",
       "       [4., 5., 6.]])"
      ]
     },
     "execution_count": 3,
     "metadata": {},
     "output_type": "execute_result"
    }
   ],
   "source": [
    "numpy_array_2=np.array([[1.0,2.0,3.0],[4.0,5.0,6.0]]) # two-dimensional array \n",
    "numpy_array_2"
   ]
  },
  {
   "cell_type": "raw",
   "id": "920c76ce",
   "metadata": {},
   "source": [
    "Shape- arrayin olcusunu gosterir yeni row,column"
   ]
  },
  {
   "cell_type": "code",
   "execution_count": 4,
   "id": "c947db22",
   "metadata": {},
   "outputs": [
    {
     "data": {
      "text/plain": [
       "(2, 3)"
      ]
     },
     "execution_count": 4,
     "metadata": {},
     "output_type": "execute_result"
    }
   ],
   "source": [
    "numpy_array_2.shape"
   ]
  },
  {
   "cell_type": "raw",
   "id": "09b38e5a",
   "metadata": {},
   "source": [
    "SIZE- Arrayde olan umumi elementlerin sayini gosterir"
   ]
  },
  {
   "cell_type": "code",
   "execution_count": 5,
   "id": "87dc520b",
   "metadata": {},
   "outputs": [
    {
     "data": {
      "text/plain": [
       "6"
      ]
     },
     "execution_count": 5,
     "metadata": {},
     "output_type": "execute_result"
    }
   ],
   "source": [
    "numpy_array_2.size"
   ]
  },
  {
   "cell_type": "raw",
   "id": "00239f92",
   "metadata": {},
   "source": [
    "ndim- Arrayin dimensionunu gosterir yani one-dimensional,two dimensional bunu da acilan ve ya baglanan bracekts sayindan bilmek olar "
   ]
  },
  {
   "cell_type": "code",
   "execution_count": 6,
   "id": "472b8cf8",
   "metadata": {},
   "outputs": [
    {
     "data": {
      "text/plain": [
       "2"
      ]
     },
     "execution_count": 6,
     "metadata": {},
     "output_type": "execute_result"
    }
   ],
   "source": [
    "numpy_array_2.ndim"
   ]
  },
  {
   "cell_type": "raw",
   "id": "5af2ed9f",
   "metadata": {},
   "source": [
    "dtype- Arrayin icinde olan elementlerin data typelarini gosterir"
   ]
  },
  {
   "cell_type": "code",
   "execution_count": 7,
   "id": "23368f35",
   "metadata": {},
   "outputs": [
    {
     "data": {
      "text/plain": [
       "dtype('float64')"
      ]
     },
     "execution_count": 7,
     "metadata": {},
     "output_type": "execute_result"
    }
   ],
   "source": [
    "numpy_array_2.dtype"
   ]
  },
  {
   "cell_type": "code",
   "execution_count": 8,
   "id": "f357bbcb",
   "metadata": {},
   "outputs": [
    {
     "data": {
      "text/plain": [
       "dtype('int32')"
      ]
     },
     "execution_count": 8,
     "metadata": {},
     "output_type": "execute_result"
    }
   ],
   "source": [
    "numpy_array_1.dtype"
   ]
  },
  {
   "cell_type": "code",
   "execution_count": 9,
   "id": "71a3ad83",
   "metadata": {},
   "outputs": [
    {
     "data": {
      "text/plain": [
       "4"
      ]
     },
     "execution_count": 9,
     "metadata": {},
     "output_type": "execute_result"
    }
   ],
   "source": [
    "numpy_array_1.itemsize"
   ]
  },
  {
   "cell_type": "code",
   "execution_count": 10,
   "id": "211dbe6f",
   "metadata": {},
   "outputs": [
    {
     "data": {
      "text/plain": [
       "8"
      ]
     },
     "execution_count": 10,
     "metadata": {},
     "output_type": "execute_result"
    }
   ],
   "source": [
    "numpy_array_2.itemsize"
   ]
  },
  {
   "cell_type": "raw",
   "id": "1c76aa93",
   "metadata": {},
   "source": [
    "nbytes=itemsize*size"
   ]
  },
  {
   "cell_type": "code",
   "execution_count": 11,
   "id": "8c4be95b",
   "metadata": {},
   "outputs": [
    {
     "data": {
      "text/plain": [
       "12"
      ]
     },
     "execution_count": 11,
     "metadata": {},
     "output_type": "execute_result"
    }
   ],
   "source": [
    "numpy_array_1.nbytes "
   ]
  },
  {
   "cell_type": "code",
   "execution_count": 12,
   "id": "0daf24b5",
   "metadata": {},
   "outputs": [
    {
     "data": {
      "text/plain": [
       "48"
      ]
     },
     "execution_count": 12,
     "metadata": {},
     "output_type": "execute_result"
    }
   ],
   "source": [
    "numpy_array_2.nbytes"
   ]
  },
  {
   "cell_type": "raw",
   "id": "8bb4ba2c",
   "metadata": {},
   "source": [
    "We can specify the data types of elements of array "
   ]
  },
  {
   "cell_type": "code",
   "execution_count": 13,
   "id": "c0164c5d",
   "metadata": {},
   "outputs": [
    {
     "data": {
      "text/plain": [
       "array([1, 2, 3], dtype=int64)"
      ]
     },
     "execution_count": 13,
     "metadata": {},
     "output_type": "execute_result"
    }
   ],
   "source": [
    "numpy_array_3=np.array([1,2,3],dtype='int64')\n",
    "numpy_array_3 "
   ]
  },
  {
   "cell_type": "code",
   "execution_count": null,
   "id": "98b4599a",
   "metadata": {},
   "outputs": [],
   "source": []
  },
  {
   "cell_type": "code",
   "execution_count": 14,
   "id": "688f19b2",
   "metadata": {},
   "outputs": [
    {
     "data": {
      "text/plain": [
       "array([[ 1,  2,  3,  4,  5,  6,  7],\n",
       "       [ 8,  9, 10, 11, 12, 13, 14]])"
      ]
     },
     "execution_count": 14,
     "metadata": {},
     "output_type": "execute_result"
    }
   ],
   "source": [
    "numpy_array_4=np.array([[1,2,3,4,5,6,7],[8,9,10,11,12,13,14]])\n",
    "numpy_array_4"
   ]
  },
  {
   "cell_type": "raw",
   "id": "9b220492",
   "metadata": {},
   "source": [
    "yuxari-asagi sayi (2 setir), soldan-saga(sutunlarin sayi)\n",
    "shape -> row,column"
   ]
  },
  {
   "cell_type": "code",
   "execution_count": 15,
   "id": "23da188f",
   "metadata": {},
   "outputs": [
    {
     "data": {
      "text/plain": [
       "(2, 7)"
      ]
     },
     "execution_count": 15,
     "metadata": {},
     "output_type": "execute_result"
    }
   ],
   "source": [
    "numpy_array_4.shape "
   ]
  },
  {
   "cell_type": "raw",
   "id": "6f0d6be3",
   "metadata": {},
   "source": [
    "Indexleme pythonda oldugu kimi 0 ile baslayir \n",
    "Ilk olaraq rowun nomresi sonra ile column nomresi yazilir "
   ]
  },
  {
   "cell_type": "code",
   "execution_count": 16,
   "id": "afc1f464",
   "metadata": {},
   "outputs": [
    {
     "data": {
      "text/plain": [
       "7"
      ]
     },
     "execution_count": 16,
     "metadata": {},
     "output_type": "execute_result"
    }
   ],
   "source": [
    "numpy_array_4[0,6]"
   ]
  },
  {
   "cell_type": "code",
   "execution_count": 17,
   "id": "a70fdf46",
   "metadata": {},
   "outputs": [
    {
     "data": {
      "text/plain": [
       "array([[ 1,  2,  3,  4,  5,  6,  7],\n",
       "       [ 8,  9, 10, 11, 12, 13, 14]])"
      ]
     },
     "execution_count": 17,
     "metadata": {},
     "output_type": "execute_result"
    }
   ],
   "source": [
    "numpy_array_4"
   ]
  },
  {
   "cell_type": "raw",
   "id": "9157784f",
   "metadata": {},
   "source": [
    "Hansisa bir rowu almaq ucun "
   ]
  },
  {
   "cell_type": "code",
   "execution_count": 18,
   "id": "e95cd690",
   "metadata": {},
   "outputs": [
    {
     "data": {
      "text/plain": [
       "array([1, 2, 3, 4, 5, 6, 7])"
      ]
     },
     "execution_count": 18,
     "metadata": {},
     "output_type": "execute_result"
    }
   ],
   "source": [
    "numpy_array_4[0,:]"
   ]
  },
  {
   "cell_type": "code",
   "execution_count": 19,
   "id": "813af6e0",
   "metadata": {},
   "outputs": [
    {
     "data": {
      "text/plain": [
       "array([ 8,  9, 10, 11, 12, 13, 14])"
      ]
     },
     "execution_count": 19,
     "metadata": {},
     "output_type": "execute_result"
    }
   ],
   "source": [
    "numpy_array_4[1,:] # indexi 1 olan rowu qaytardi"
   ]
  },
  {
   "cell_type": "raw",
   "id": "85db9e2a",
   "metadata": {},
   "source": [
    "Hansisa columnu qaytarmaq ucun "
   ]
  },
  {
   "cell_type": "code",
   "execution_count": 20,
   "id": "50865be8",
   "metadata": {},
   "outputs": [
    {
     "data": {
      "text/plain": [
       "array([1, 8])"
      ]
     },
     "execution_count": 20,
     "metadata": {},
     "output_type": "execute_result"
    }
   ],
   "source": [
    "numpy_array_4[:,0] "
   ]
  },
  {
   "cell_type": "code",
   "execution_count": 21,
   "id": "58d765d2",
   "metadata": {},
   "outputs": [
    {
     "data": {
      "text/plain": [
       "array([2, 9])"
      ]
     },
     "execution_count": 21,
     "metadata": {},
     "output_type": "execute_result"
    }
   ],
   "source": [
    "numpy_array_4[:,1]"
   ]
  },
  {
   "cell_type": "code",
   "execution_count": 22,
   "id": "23c2ee77",
   "metadata": {},
   "outputs": [
    {
     "data": {
      "text/plain": [
       "array([[[ 1,  2,  3,  4,  5,  6,  7,  8,  9, 10],\n",
       "        [11, 12, 13, 14, 15, 16, 17, 18, 19, 20],\n",
       "        [21, 22, 23, 24, 25, 26, 27, 28, 29, 30]]])"
      ]
     },
     "execution_count": 22,
     "metadata": {},
     "output_type": "execute_result"
    }
   ],
   "source": [
    "numpy_array_5=np.array([[[1,2,3,4,5,6,7,8,9,10],[11,12,13,14,15,16,17,18,19,20],[21,22,23,24,25,26,27,28,29,30]]])\n",
    "numpy_array_5"
   ]
  },
  {
   "cell_type": "code",
   "execution_count": 23,
   "id": "28fa5201",
   "metadata": {},
   "outputs": [
    {
     "data": {
      "text/plain": [
       "30"
      ]
     },
     "execution_count": 23,
     "metadata": {},
     "output_type": "execute_result"
    }
   ],
   "source": [
    "numpy_array_5.size"
   ]
  },
  {
   "cell_type": "code",
   "execution_count": 24,
   "id": "fb93422c",
   "metadata": {},
   "outputs": [
    {
     "data": {
      "text/plain": [
       "3"
      ]
     },
     "execution_count": 24,
     "metadata": {},
     "output_type": "execute_result"
    }
   ],
   "source": [
    "numpy_array_5.ndim"
   ]
  },
  {
   "cell_type": "code",
   "execution_count": 25,
   "id": "d3fef077",
   "metadata": {},
   "outputs": [
    {
     "data": {
      "text/plain": [
       "(1, 3, 10)"
      ]
     },
     "execution_count": 25,
     "metadata": {},
     "output_type": "execute_result"
    }
   ],
   "source": [
    "numpy_array_5.shape"
   ]
  },
  {
   "cell_type": "code",
   "execution_count": 26,
   "id": "e4b55701",
   "metadata": {},
   "outputs": [
    {
     "data": {
      "text/plain": [
       "dtype('int32')"
      ]
     },
     "execution_count": 26,
     "metadata": {},
     "output_type": "execute_result"
    }
   ],
   "source": [
    "numpy_array_5.dtype"
   ]
  },
  {
   "cell_type": "code",
   "execution_count": 27,
   "id": "453619c4",
   "metadata": {},
   "outputs": [
    {
     "data": {
      "text/plain": [
       "4"
      ]
     },
     "execution_count": 27,
     "metadata": {},
     "output_type": "execute_result"
    }
   ],
   "source": [
    "numpy_array_5.itemsize"
   ]
  },
  {
   "cell_type": "markdown",
   "id": "459c48f7",
   "metadata": {},
   "source": [
    "# Notes from documentation"
   ]
  },
  {
   "cell_type": "code",
   "execution_count": 28,
   "id": "c4d29e13",
   "metadata": {},
   "outputs": [
    {
     "name": "stdout",
     "output_type": "stream",
     "text": [
      "[4, 6, 8, 10, 12, 14, 16, 18, 20, 22, 24, 26, 28, 30, 32, 34, 36, 38, 40, 42, 44, 46, 48, 50, 52]\n"
     ]
    }
   ],
   "source": [
    "list1=[x*2 for x in range(2,27)]\n",
    "print(list1)"
   ]
  },
  {
   "cell_type": "code",
   "execution_count": 29,
   "id": "2049363f",
   "metadata": {},
   "outputs": [
    {
     "name": "stdout",
     "output_type": "stream",
     "text": [
      "Requirement already satisfied: names in c:\\users\\acer\\anaconda3\\lib\\site-packages (0.3.0)\n",
      "['Carolyn Howard', 'Joshua Viars', 'Samuel Dawson', 'Liliana Bennett', 'Jody Martin', 'Timothy Edwards', 'Robert Orton', 'Jeanine Davis', 'Vanessa Tunis', 'William Remington']\n"
     ]
    }
   ],
   "source": [
    "!pip install names\n",
    "import names \n",
    "list3=[names.get_full_name() for x in range(10)]\n",
    "print(list3)"
   ]
  },
  {
   "cell_type": "code",
   "execution_count": 30,
   "id": "e3064179",
   "metadata": {},
   "outputs": [
    {
     "name": "stdout",
     "output_type": "stream",
     "text": [
      "[(1, 'Carolyn Howard'), (2, 'Joshua Viars'), (3, 'Samuel Dawson'), (4, 'Liliana Bennett'), (5, 'Jody Martin'), (6, 'Timothy Edwards'), (7, 'Robert Orton'), (8, 'Jeanine Davis'), (9, 'Vanessa Tunis'), (10, 'William Remington')]\n"
     ]
    }
   ],
   "source": [
    "list4=[x for x in enumerate(list3,1)]  # enumerate requires iterable data type \n",
    "print(list4)"
   ]
  },
  {
   "cell_type": "code",
   "execution_count": 31,
   "id": "b7c188a2",
   "metadata": {},
   "outputs": [
    {
     "name": "stdout",
     "output_type": "stream",
     "text": [
      "[['1' 'Carolyn Howard']\n",
      " ['2' 'Joshua Viars']\n",
      " ['3' 'Samuel Dawson']\n",
      " ['4' 'Liliana Bennett']\n",
      " ['5' 'Jody Martin']\n",
      " ['6' 'Timothy Edwards']\n",
      " ['7' 'Robert Orton']\n",
      " ['8' 'Jeanine Davis']\n",
      " ['9' 'Vanessa Tunis']\n",
      " ['10' 'William Remington']]\n",
      "<class 'numpy.ndarray'>\n"
     ]
    }
   ],
   "source": [
    "np_array_1=np.array(list4)\n",
    "print(np_array_1)\n",
    "print(type(np_array_1)) # nd array it means that this type of list is numpy array"
   ]
  },
  {
   "cell_type": "code",
   "execution_count": 32,
   "id": "b2976312",
   "metadata": {},
   "outputs": [
    {
     "name": "stdout",
     "output_type": "stream",
     "text": [
      "[1 2 3 4]\n",
      "<class 'numpy.ndarray'>\n",
      "['Smith' 'Charles' '2' 'True']\n"
     ]
    }
   ],
   "source": [
    "np_array=np.array([1,2,3,4])\n",
    "np_array_test=np.array([\"Smith\",\"Charles\",2,True]) \n",
    "# Numpy contain just one type of data it means that if our list consists of int,string and bool type of elements numpy will convert all of them to string\n",
    "print(np_array)\n",
    "print(type(np_array))\n",
    "print(np_array_test)"
   ]
  },
  {
   "cell_type": "code",
   "execution_count": 88,
   "id": "e6169079",
   "metadata": {},
   "outputs": [
    {
     "name": "stdout",
     "output_type": "stream",
     "text": [
      "It is numpy array,\n",
      " [[ 1  2  3  4]\n",
      " [ 5  6  7  8]\n",
      " [ 9 10 11 12]] and type of it <class 'numpy.ndarray'>\n",
      "The elements which index is 2 [ 9 10 11 12]\n"
     ]
    }
   ],
   "source": [
    "a = np.array([[1, 2, 3, 4], [5, 6, 7, 8], [9, 10, 11, 12]])\n",
    "print(f\"It is numpy array,\\n {a} and type of it {type(a)}\")\n",
    "print(f\"The elements which index is 2 {a[2]}\")"
   ]
  },
  {
   "cell_type": "raw",
   "id": "b2781d09",
   "metadata": {},
   "source": [
    "A vector is an array with a single dimension (there’s no difference between row and column vectors)\n",
    "A matrix refers to an array with two dimensions. For 3-D or higher dimensional arrays, the term tensor is also commonly used.\n",
    "Dimensions are called axes"
   ]
  },
  {
   "cell_type": "code",
   "execution_count": 34,
   "id": "842ec137",
   "metadata": {},
   "outputs": [
    {
     "name": "stdout",
     "output_type": "stream",
     "text": [
      "[0. 0. 0. 0. 0.]\n"
     ]
    }
   ],
   "source": [
    "# Create numpy array which all elements of this array will be zero and it is called zeros nd array\n",
    "print(np.zeros(5)) # output shown as float"
   ]
  },
  {
   "cell_type": "code",
   "execution_count": 35,
   "id": "1c024ed1",
   "metadata": {},
   "outputs": [
    {
     "name": "stdout",
     "output_type": "stream",
     "text": [
      "[1. 1. 1. 1. 1. 1. 1.]\n"
     ]
    }
   ],
   "source": [
    "# We also have ones numpy array or ndarray and all elements of this array is one\n",
    "print(np.ones(7)) # again output will be float"
   ]
  },
  {
   "cell_type": "code",
   "execution_count": 36,
   "id": "ae951c5a",
   "metadata": {},
   "outputs": [
    {
     "name": "stdout",
     "output_type": "stream",
     "text": [
      "[0.00000000e+000 0.00000000e+000 0.00000000e+000 0.00000000e+000\n",
      " 0.00000000e+000 6.66000491e-321 3.23439613e+218 1.52783697e-311]\n"
     ]
    }
   ],
   "source": [
    "# Sometimes we create empty ndarray  instead of zeros ndarray due to the speed factor\n",
    "# This array consists of randomly numbers\n",
    "print(np.empty(8))"
   ]
  },
  {
   "cell_type": "code",
   "execution_count": 37,
   "id": "e82f9c14",
   "metadata": {},
   "outputs": [
    {
     "name": "stdout",
     "output_type": "stream",
     "text": [
      "[  5.          13.63636364  22.27272727  30.90909091  39.54545455\n",
      "  48.18181818  56.81818182  65.45454545  74.09090909  82.72727273\n",
      "  91.36363636 100.        ]\n"
     ]
    }
   ],
   "source": [
    "print(np.linspace(5,100,12)) # bu function verilen araliqda neçə interval olmasina gore bolur ededleri\n",
    "# yani burada 5 ve 12 arasinda 4 beraber yere bolunmesini isteyir. Ilk ve son yani serhed olmasi ucun yazdigimiz araliqdaki ededler (5,30) eyni qalir"
   ]
  },
  {
   "cell_type": "code",
   "execution_count": 38,
   "id": "e49c3df8",
   "metadata": {},
   "outputs": [
    {
     "name": "stdout",
     "output_type": "stream",
     "text": [
      "[1 1 1 1 1]\n",
      "[0 0 0 0 0 0 0 0 0 0 0 0]\n"
     ]
    }
   ],
   "source": [
    "print(np.ones(5,dtype=np.int64)) # normally it must return float64 type of data however when we want to convert the type of it we can use this code part\n",
    "print(np.zeros(12,dtype=np.int64))"
   ]
  },
  {
   "cell_type": "code",
   "execution_count": 39,
   "id": "2c9003ba",
   "metadata": {},
   "outputs": [
    {
     "name": "stdout",
     "output_type": "stream",
     "text": [
      "[19 24  3 10 15 30 43]\n",
      "[ 3 10 15 19 24 30 43]\n"
     ]
    }
   ],
   "source": [
    "list_random=[19,24,3,10,15,30,43]\n",
    "np_array_random=np.array(list_random)\n",
    "print(np_array_random)\n",
    "print(np.sort(np_array_random))"
   ]
  },
  {
   "cell_type": "code",
   "execution_count": 40,
   "id": "6b8cded6",
   "metadata": {},
   "outputs": [
    {
     "data": {
      "text/plain": [
       "array([[ 4, 10],\n",
       "       [ 1,  3]])"
      ]
     },
     "execution_count": 40,
     "metadata": {},
     "output_type": "execute_result"
    }
   ],
   "source": [
    "b = np.array([[10,4],[3,1]]) # sort along the last axis, her setirdeki matricin ve ya vectorun icini sort edir \n",
    "np.sort(b) "
   ]
  },
  {
   "cell_type": "code",
   "execution_count": 41,
   "id": "fb236855",
   "metadata": {},
   "outputs": [
    {
     "data": {
      "text/plain": [
       "array([ 1,  3,  4, 10])"
      ]
     },
     "execution_count": 41,
     "metadata": {},
     "output_type": "execute_result"
    }
   ],
   "source": [
    "np.sort(b, axis=None)  # sort the flattened array"
   ]
  },
  {
   "cell_type": "code",
   "execution_count": 42,
   "id": "039c24f6",
   "metadata": {},
   "outputs": [
    {
     "data": {
      "text/plain": [
       "array([[ 3,  1],\n",
       "       [10,  4]])"
      ]
     },
     "execution_count": 42,
     "metadata": {},
     "output_type": "execute_result"
    }
   ],
   "source": [
    "np.sort(b, axis=0)  # sort along the first axis"
   ]
  },
  {
   "cell_type": "code",
   "execution_count": 66,
   "id": "dd33d851",
   "metadata": {},
   "outputs": [
    {
     "name": "stdout",
     "output_type": "stream",
     "text": [
      "[ 0  1  2  3  4  5  6  7  8  9 10 11 12 13 14]\n",
      "[20 21 22 23 24 25 26 27 28 29 30 31 32 33 34]\n",
      "[20 22 24 26 28 30 32 34 36 38 40 42 44 46 48]\n"
     ]
    }
   ],
   "source": [
    "nd_array_1=np.array([x for x in range(0,15)])\n",
    "nd_array_2=np.array([y for y in range(20,35)])\n",
    "print(nd_array_1)\n",
    "print(nd_array_2)\n",
    "# to execute this operation we must pay attention the shape of numpy arrays if they aren't equal we will face error\n",
    "print(nd_array_1+nd_array_2) "
   ]
  },
  {
   "cell_type": "code",
   "execution_count": 67,
   "id": "17845570",
   "metadata": {},
   "outputs": [
    {
     "name": "stdout",
     "output_type": "stream",
     "text": [
      "[ 0  1  2  3  4  5  6  7  8  9 10 11 12 13 14]\n",
      "[20 21 22 23 24 25 26 27 28 29 30 31 32 33 34]\n",
      "[ 0  1  2  3  4  5  6  7  8  9 10 11 12 13 14 20 21 22 23 24 25 26 27 28\n",
      " 29 30 31 32 33 34]\n"
     ]
    }
   ],
   "source": [
    "nd_array_1=np.array([0,1,2,3,4,5,6,7,8,9,10,11,12,13,14])\n",
    "nd_array_2=np.array([20,21,22,23,24,25,26,27,28,29,30,31,32,33,34])\n",
    "print(nd_array_1)\n",
    "print(nd_array_2)\n",
    "print(np.concatenate((nd_array_1,nd_array_2))) # pay attention the number of bracelets"
   ]
  },
  {
   "cell_type": "code",
   "execution_count": 68,
   "id": "3b534e15",
   "metadata": {},
   "outputs": [
    {
     "name": "stdout",
     "output_type": "stream",
     "text": [
      "[[1 2]\n",
      " [3 4]\n",
      " [5 6]]\n"
     ]
    }
   ],
   "source": [
    "x = np.array([[1, 2], [3, 4]])\n",
    "y = np.array([[5, 6]])\n",
    "print(np.concatenate((x,y)))\n",
    "# print(np.shape(np.concatenate((x,y))))"
   ]
  },
  {
   "cell_type": "code",
   "execution_count": 69,
   "id": "335b99f7",
   "metadata": {},
   "outputs": [
    {
     "name": "stdout",
     "output_type": "stream",
     "text": [
      "[[[0 1 2 3]\n",
      "  [4 5 6 7]]\n",
      "\n",
      " [[0 1 2 3]\n",
      "  [4 5 6 7]]\n",
      "\n",
      " [[0 1 2 3]\n",
      "  [4 5 6 7]]]\n",
      "Dimension of array is: 3\n"
     ]
    }
   ],
   "source": [
    "# ndarray.ndim will tell you the number of axes, or dimensions, of the array\n",
    "# sondaki moterizelerin sayina gore bilmek olar\n",
    "array_example = np.array([[[0, 1, 2, 3],\n",
    "                           [4, 5, 6, 7]],\n",
    "\n",
    "                          [[0, 1, 2, 3],\n",
    "                           [4, 5, 6, 7]],\n",
    "\n",
    "                          [[0 ,1 ,2, 3],\n",
    "                           [4, 5, 6, 7]]])\n",
    "print(array_example)\n",
    "print(f\"Dimension of array is: {array_example.ndim}\")"
   ]
  },
  {
   "cell_type": "code",
   "execution_count": 70,
   "id": "d842c7d7",
   "metadata": {},
   "outputs": [
    {
     "name": "stdout",
     "output_type": "stream",
     "text": [
      "[[[0 1 2 3]\n",
      "  [4 5 6 7]]\n",
      "\n",
      " [[0 1 2 3]\n",
      "  [4 5 6 7]]\n",
      "\n",
      " [[0 1 2 3]\n",
      "  [4 5 6 7]]]\n",
      "Size of array is: 24\n"
     ]
    }
   ],
   "source": [
    "# ndarray.size will tell you the total number of elements of the array. This is the product of the elements of the array’s shape\n",
    "array_example_1 = np.array([[[0, 1, 2, 3],\n",
    "                           [4, 5, 6, 7]],\n",
    "\n",
    "                          [[0, 1, 2, 3],\n",
    "                           [4, 5, 6, 7]],\n",
    "\n",
    "                          [[0 ,1 ,2, 3],\n",
    "                           [4, 5, 6, 7]]])\n",
    "print(array_example_1)\n",
    "print(f\"Size of array is: {array_example_1.size}\") # 6*4=24"
   ]
  },
  {
   "cell_type": "code",
   "execution_count": 71,
   "id": "62752b19",
   "metadata": {},
   "outputs": [
    {
     "name": "stdout",
     "output_type": "stream",
     "text": [
      "Shape of array is: (3, 2, 4)\n"
     ]
    }
   ],
   "source": [
    "# ndarray.shape will display a tuple of integers that indicate the number of elements stored along each dimension of the array. If, for example, you have a 2-D array with 2 rows and 3 columns, the shape of your array is (2, 3)\n",
    "array_example_2 = np.array([[[0, 1, 2, 3],\n",
    "                           [4, 5, 6, 7]],\n",
    "\n",
    "                          [[0, 1, 2, 3],\n",
    "                           [4, 5, 6, 7]],\n",
    "\n",
    "                          [[0 ,1 ,2, 3],\n",
    "                           [4, 5, 6, 7]]])\n",
    "# print(array_example_2)\n",
    "# shape of ndarray is also called as attribute of ndarray\n",
    "print(f\"Shape of array is: {array_example_2.shape}\") # 3- dimension, 2-rows, 4-columns  row*column"
   ]
  },
  {
   "cell_type": "raw",
   "id": "1293226d",
   "metadata": {},
   "source": [
    "Note: The value before the comma specifies the row, the value after the comma specifies the column"
   ]
  },
  {
   "cell_type": "raw",
   "id": "3e6f102f",
   "metadata": {},
   "source": [
    "Notes for data science with Numpy \n",
    "np.mean(ndarray)\n",
    "np.std(ndarray)\n",
    "np.median(ndarray)\n",
    "np.corrcoef(ndarray)\n",
    "gk_heights=np_heights[np_positions=='GK']\n",
    "other_heights=np_heights[np_positions!='GK']"
   ]
  },
  {
   "cell_type": "code",
   "execution_count": 75,
   "id": "a144a990",
   "metadata": {},
   "outputs": [
    {
     "data": {
      "text/plain": [
       "84"
      ]
     },
     "execution_count": 75,
     "metadata": {},
     "output_type": "execute_result"
    }
   ],
   "source": [
    "array_example_2.sum()"
   ]
  },
  {
   "cell_type": "code",
   "execution_count": 76,
   "id": "d4a21728",
   "metadata": {},
   "outputs": [
    {
     "data": {
      "text/plain": [
       "array([[[100, 101, 102, 103],\n",
       "        [104, 105, 106, 107]],\n",
       "\n",
       "       [[100, 101, 102, 103],\n",
       "        [104, 105, 106, 107]],\n",
       "\n",
       "       [[100, 101, 102, 103],\n",
       "        [104, 105, 106, 107]]])"
      ]
     },
     "execution_count": 76,
     "metadata": {},
     "output_type": "execute_result"
    }
   ],
   "source": [
    "array_example_2 + 100"
   ]
  },
  {
   "cell_type": "code",
   "execution_count": 77,
   "id": "4216b3ad",
   "metadata": {},
   "outputs": [
    {
     "data": {
      "text/plain": [
       "array([[[ 0,  3,  6,  9],\n",
       "        [12, 15, 18, 21]],\n",
       "\n",
       "       [[ 0,  3,  6,  9],\n",
       "        [12, 15, 18, 21]],\n",
       "\n",
       "       [[ 0,  3,  6,  9],\n",
       "        [12, 15, 18, 21]]])"
      ]
     },
     "execution_count": 77,
     "metadata": {},
     "output_type": "execute_result"
    }
   ],
   "source": [
    "array_example_2 * 3"
   ]
  },
  {
   "cell_type": "code",
   "execution_count": 78,
   "id": "438f043f",
   "metadata": {},
   "outputs": [
    {
     "data": {
      "text/plain": [
       "array([[[0. , 0.5, 1. , 1.5],\n",
       "        [2. , 2.5, 3. , 3.5]],\n",
       "\n",
       "       [[0. , 0.5, 1. , 1.5],\n",
       "        [2. , 2.5, 3. , 3.5]],\n",
       "\n",
       "       [[0. , 0.5, 1. , 1.5],\n",
       "        [2. , 2.5, 3. , 3.5]]])"
      ]
     },
     "execution_count": 78,
     "metadata": {},
     "output_type": "execute_result"
    }
   ],
   "source": [
    "array_example_2 / 2"
   ]
  },
  {
   "cell_type": "code",
   "execution_count": 79,
   "id": "3b768de2",
   "metadata": {},
   "outputs": [
    {
     "data": {
      "text/plain": [
       "array([[[ 0.        ,  0.84147098,  0.90929743,  0.14112001],\n",
       "        [-0.7568025 , -0.95892427, -0.2794155 ,  0.6569866 ]],\n",
       "\n",
       "       [[ 0.        ,  0.84147098,  0.90929743,  0.14112001],\n",
       "        [-0.7568025 , -0.95892427, -0.2794155 ,  0.6569866 ]],\n",
       "\n",
       "       [[ 0.        ,  0.84147098,  0.90929743,  0.14112001],\n",
       "        [-0.7568025 , -0.95892427, -0.2794155 ,  0.6569866 ]]])"
      ]
     },
     "execution_count": 79,
     "metadata": {},
     "output_type": "execute_result"
    }
   ],
   "source": [
    "np.sin(array_example_2) # arrayin icindeki butun elementlerin sinusunu qaytarir "
   ]
  },
  {
   "cell_type": "code",
   "execution_count": 81,
   "id": "939cc285",
   "metadata": {},
   "outputs": [],
   "source": [
    "# np.arcsin(array_example_2)"
   ]
  },
  {
   "cell_type": "code",
   "execution_count": 83,
   "id": "4118a7ac",
   "metadata": {},
   "outputs": [
    {
     "data": {
      "text/plain": [
       "array([[[0., 1., 2., 3.],\n",
       "        [4., 5., 6., 7.]],\n",
       "\n",
       "       [[0., 1., 2., 3.],\n",
       "        [4., 5., 6., 7.]],\n",
       "\n",
       "       [[0., 1., 2., 3.],\n",
       "        [4., 5., 6., 7.]]])"
      ]
     },
     "execution_count": 83,
     "metadata": {},
     "output_type": "execute_result"
    }
   ],
   "source": [
    "np.floor(array_example_2) # asagi yuvarlaqlasdirma "
   ]
  },
  {
   "cell_type": "code",
   "execution_count": 85,
   "id": "2aecc4e1",
   "metadata": {},
   "outputs": [
    {
     "data": {
      "text/plain": [
       "array([[[0., 1., 2., 3.],\n",
       "        [4., 5., 6., 7.]],\n",
       "\n",
       "       [[0., 1., 2., 3.],\n",
       "        [4., 5., 6., 7.]],\n",
       "\n",
       "       [[0., 1., 2., 3.],\n",
       "        [4., 5., 6., 7.]]])"
      ]
     },
     "execution_count": 85,
     "metadata": {},
     "output_type": "execute_result"
    }
   ],
   "source": [
    "np.ceil(array_example_2) # yuxari yuvarlaqlasdirmaq "
   ]
  },
  {
   "cell_type": "code",
   "execution_count": 93,
   "id": "59c09b88",
   "metadata": {},
   "outputs": [
    {
     "name": "stderr",
     "output_type": "stream",
     "text": [
      "C:\\Users\\ACER\\AppData\\Local\\Temp/ipykernel_8880/604002833.py:1: RuntimeWarning: divide by zero encountered in log2\n",
      "  np.log2(array_example_2)\n"
     ]
    },
    {
     "data": {
      "text/plain": [
       "array([[[      -inf, 0.        , 1.        , 1.5849625 ],\n",
       "        [2.        , 2.32192809, 2.5849625 , 2.80735492]],\n",
       "\n",
       "       [[      -inf, 0.        , 1.        , 1.5849625 ],\n",
       "        [2.        , 2.32192809, 2.5849625 , 2.80735492]],\n",
       "\n",
       "       [[      -inf, 0.        , 1.        , 1.5849625 ],\n",
       "        [2.        , 2.32192809, 2.5849625 , 2.80735492]]])"
      ]
     },
     "execution_count": 93,
     "metadata": {},
     "output_type": "execute_result"
    }
   ],
   "source": [
    "np.log2(array_example_2)"
   ]
  },
  {
   "cell_type": "code",
   "execution_count": 102,
   "id": "86de92ff",
   "metadata": {},
   "outputs": [
    {
     "data": {
      "text/plain": [
       "array([ 1,  2,  3,  4,  5,  6,  7,  8,  9, 10, 11, 12, 13, 14, 15, 16, 17,\n",
       "       18, 19, 20])"
      ]
     },
     "execution_count": 102,
     "metadata": {},
     "output_type": "execute_result"
    }
   ],
   "source": [
    "array_2=np.arange(1,21)\n",
    "array_2"
   ]
  },
  {
   "cell_type": "code",
   "execution_count": 103,
   "id": "1d77930b",
   "metadata": {},
   "outputs": [
    {
     "data": {
      "text/plain": [
       "array([[ 1,  2,  3,  4,  5],\n",
       "       [ 6,  7,  8,  9, 10],\n",
       "       [11, 12, 13, 14, 15],\n",
       "       [16, 17, 18, 19, 20]])"
      ]
     },
     "execution_count": 103,
     "metadata": {},
     "output_type": "execute_result"
    }
   ],
   "source": [
    "array_3 = array_2.reshape(4,5)\n",
    "array_3"
   ]
  },
  {
   "cell_type": "code",
   "execution_count": 105,
   "id": "b8f084a4",
   "metadata": {},
   "outputs": [
    {
     "data": {
      "text/plain": [
       "-2102132736"
      ]
     },
     "execution_count": 105,
     "metadata": {},
     "output_type": "execute_result"
    }
   ],
   "source": [
    "array_3.prod()"
   ]
  },
  {
   "cell_type": "code",
   "execution_count": null,
   "id": "65ef1e37",
   "metadata": {},
   "outputs": [],
   "source": [
    "# Numpy is element-wise therefore we can do all of mathematical operations without any limitations"
   ]
  },
  {
   "cell_type": "code",
   "execution_count": 106,
   "id": "c4d1a6b8",
   "metadata": {},
   "outputs": [
    {
     "data": {
      "text/plain": [
       "array([[[0, 1, 2, 3],\n",
       "        [4, 5, 6, 7]],\n",
       "\n",
       "       [[0, 1, 2, 3],\n",
       "        [4, 5, 6, 7]],\n",
       "\n",
       "       [[0, 1, 2, 3],\n",
       "        [4, 5, 6, 7]]])"
      ]
     },
     "execution_count": 106,
     "metadata": {},
     "output_type": "execute_result"
    }
   ],
   "source": [
    "array_example_1"
   ]
  },
  {
   "cell_type": "code",
   "execution_count": 109,
   "id": "8508a026",
   "metadata": {},
   "outputs": [
    {
     "data": {
      "text/plain": [
       "array([ 1,  2,  3,  4,  5,  6,  7,  8,  9, 10, 11, 12, 13, 14, 15, 16, 17,\n",
       "       18, 19, 20, 21, 22, 23, 24])"
      ]
     },
     "execution_count": 109,
     "metadata": {},
     "output_type": "execute_result"
    }
   ],
   "source": [
    "array_example = np.arange(1,25)\n",
    "array_example"
   ]
  },
  {
   "cell_type": "code",
   "execution_count": 110,
   "id": "8cd5460b",
   "metadata": {},
   "outputs": [
    {
     "data": {
      "text/plain": [
       "array([[ 1,  2,  3,  4,  5,  6],\n",
       "       [ 7,  8,  9, 10, 11, 12],\n",
       "       [13, 14, 15, 16, 17, 18],\n",
       "       [19, 20, 21, 22, 23, 24]])"
      ]
     },
     "execution_count": 110,
     "metadata": {},
     "output_type": "execute_result"
    }
   ],
   "source": [
    "array_example_3 = array_example.reshape(4,6)\n",
    "array_example_3"
   ]
  },
  {
   "cell_type": "code",
   "execution_count": 117,
   "id": "41a93496",
   "metadata": {},
   "outputs": [
    {
     "data": {
      "text/plain": [
       "array([31, 32, 33, 34, 35, 36, 37, 38, 39, 40, 41, 42, 43, 44, 45, 46, 47,\n",
       "       48, 49, 50, 51, 52, 53, 54])"
      ]
     },
     "execution_count": 117,
     "metadata": {},
     "output_type": "execute_result"
    }
   ],
   "source": [
    "array_new = np.arange(31,55)\n",
    "array_new"
   ]
  },
  {
   "cell_type": "code",
   "execution_count": 118,
   "id": "89882707",
   "metadata": {},
   "outputs": [
    {
     "data": {
      "text/plain": [
       "array([[31, 32, 33, 34, 35, 36],\n",
       "       [37, 38, 39, 40, 41, 42],\n",
       "       [43, 44, 45, 46, 47, 48],\n",
       "       [49, 50, 51, 52, 53, 54]])"
      ]
     },
     "execution_count": 118,
     "metadata": {},
     "output_type": "execute_result"
    }
   ],
   "source": [
    "array_example_4 = array_new.reshape(4,6)\n",
    "array_example_4"
   ]
  },
  {
   "cell_type": "code",
   "execution_count": 119,
   "id": "bdd3816a",
   "metadata": {},
   "outputs": [
    {
     "data": {
      "text/plain": [
       "array([[32, 34, 36, 38, 40, 42],\n",
       "       [44, 46, 48, 50, 52, 54],\n",
       "       [56, 58, 60, 62, 64, 66],\n",
       "       [68, 70, 72, 74, 76, 78]])"
      ]
     },
     "execution_count": 119,
     "metadata": {},
     "output_type": "execute_result"
    }
   ],
   "source": [
    "array_example_3 + array_example_4 "
   ]
  },
  {
   "cell_type": "code",
   "execution_count": 120,
   "id": "ce6b4e06",
   "metadata": {},
   "outputs": [
    {
     "data": {
      "text/plain": [
       "array([[  31,   64,   99,  136,  175,  216],\n",
       "       [ 259,  304,  351,  400,  451,  504],\n",
       "       [ 559,  616,  675,  736,  799,  864],\n",
       "       [ 931, 1000, 1071, 1144, 1219, 1296]])"
      ]
     },
     "execution_count": 120,
     "metadata": {},
     "output_type": "execute_result"
    }
   ],
   "source": [
    "array_example_3 * array_example_4"
   ]
  },
  {
   "cell_type": "code",
   "execution_count": 121,
   "id": "eb1eb757",
   "metadata": {},
   "outputs": [
    {
     "data": {
      "text/plain": [
       "array([[0.03225806, 0.0625    , 0.09090909, 0.11764706, 0.14285714,\n",
       "        0.16666667],\n",
       "       [0.18918919, 0.21052632, 0.23076923, 0.25      , 0.26829268,\n",
       "        0.28571429],\n",
       "       [0.30232558, 0.31818182, 0.33333333, 0.34782609, 0.36170213,\n",
       "        0.375     ],\n",
       "       [0.3877551 , 0.4       , 0.41176471, 0.42307692, 0.43396226,\n",
       "        0.44444444]])"
      ]
     },
     "execution_count": 121,
     "metadata": {},
     "output_type": "execute_result"
    }
   ],
   "source": [
    "array_example_3 / array_example_4"
   ]
  },
  {
   "cell_type": "code",
   "execution_count": 123,
   "id": "3130e5fb",
   "metadata": {},
   "outputs": [
    {
     "data": {
      "text/plain": [
       "array([[30, 30, 30, 30, 30, 30],\n",
       "       [30, 30, 30, 30, 30, 30],\n",
       "       [30, 30, 30, 30, 30, 30],\n",
       "       [30, 30, 30, 30, 30, 30]])"
      ]
     },
     "execution_count": 123,
     "metadata": {},
     "output_type": "execute_result"
    }
   ],
   "source": [
    "array_example_4 - array_example_3"
   ]
  },
  {
   "cell_type": "code",
   "execution_count": 126,
   "id": "41d4fcd2",
   "metadata": {},
   "outputs": [
    {
     "data": {
      "text/plain": [
       "array([[ 1,  2,  3,  4,  5,  6],\n",
       "       [ 7,  8,  9, 10, 11, 12],\n",
       "       [13, 14, 15, 16, 17, 18],\n",
       "       [19, 20, 21, 22, 23, 24]])"
      ]
     },
     "execution_count": 126,
     "metadata": {},
     "output_type": "execute_result"
    }
   ],
   "source": [
    "array_example_3"
   ]
  },
  {
   "cell_type": "code",
   "execution_count": 127,
   "id": "cfd14f17",
   "metadata": {},
   "outputs": [
    {
     "data": {
      "text/plain": [
       "array([[31, 32, 33, 34, 35, 36],\n",
       "       [37, 38, 39, 40, 41, 42],\n",
       "       [43, 44, 45, 46, 47, 48],\n",
       "       [49, 50, 51, 52, 53, 54]])"
      ]
     },
     "execution_count": 127,
     "metadata": {},
     "output_type": "execute_result"
    }
   ],
   "source": [
    "array_example_4"
   ]
  },
  {
   "cell_type": "code",
   "execution_count": 128,
   "id": "4e90c2ac",
   "metadata": {},
   "outputs": [
    {
     "data": {
      "text/plain": [
       "numpy.ndarray"
      ]
     },
     "execution_count": 128,
     "metadata": {},
     "output_type": "execute_result"
    }
   ],
   "source": [
    "type(array_example_3)"
   ]
  },
  {
   "cell_type": "code",
   "execution_count": 130,
   "id": "abef807d",
   "metadata": {},
   "outputs": [
    {
     "data": {
      "text/plain": [
       "array([[31, 32, 33, 34],\n",
       "       [37, 38, 39, 40],\n",
       "       [43, 44, 45, 46],\n",
       "       [49, 50, 51, 52]])"
      ]
     },
     "execution_count": 130,
     "metadata": {},
     "output_type": "execute_result"
    }
   ],
   "source": [
    "array_5= np.array([[31, 32, 33, 34],\n",
    "                   [37, 38, 39, 40],\n",
    "                   [43, 44, 45, 46],\n",
    "                   [49, 50, 51, 52]])\n",
    "array_5"
   ]
  },
  {
   "cell_type": "code",
   "execution_count": 132,
   "id": "a89e468f",
   "metadata": {},
   "outputs": [
    {
     "data": {
      "text/plain": [
       "array([[ 1,  2,  3,  4],\n",
       "       [ 7,  8,  9, 10],\n",
       "       [13, 14, 15, 16],\n",
       "       [19, 20, 21, 22]])"
      ]
     },
     "execution_count": 132,
     "metadata": {},
     "output_type": "execute_result"
    }
   ],
   "source": [
    "array_6 = np.array([[ 1,  2,  3,  4],\n",
    "            [ 7,  8,  9, 10],\n",
    "            [13, 14, 15, 16],\n",
    "            [19, 20, 21, 22]])\n",
    "array_6"
   ]
  },
  {
   "cell_type": "code",
   "execution_count": 133,
   "id": "97dc4d95",
   "metadata": {},
   "outputs": [
    {
     "data": {
      "text/plain": [
       "array([[1330, 1460, 1590, 1720],\n",
       "       [1570, 1724, 1878, 2032],\n",
       "       [1810, 1988, 2166, 2344],\n",
       "       [2050, 2252, 2454, 2656]])"
      ]
     },
     "execution_count": 133,
     "metadata": {},
     "output_type": "execute_result"
    }
   ],
   "source": [
    "array_5 @ array_6 # row_sayi=column_sayi olmasa error verir "
   ]
  },
  {
   "cell_type": "markdown",
   "id": "0a265ebf",
   "metadata": {},
   "source": [
    "# Slicing in 2 dimensional array "
   ]
  },
  {
   "cell_type": "code",
   "execution_count": null,
   "id": "28006aca",
   "metadata": {},
   "outputs": [],
   "source": []
  },
  {
   "cell_type": "code",
   "execution_count": 49,
   "id": "d128266f",
   "metadata": {},
   "outputs": [
    {
     "data": {
      "text/plain": [
       "array([16])"
      ]
     },
     "execution_count": 49,
     "metadata": {},
     "output_type": "execute_result"
    }
   ],
   "source": [
    "numpy_array_5[:,1,5]"
   ]
  },
  {
   "cell_type": "code",
   "execution_count": 50,
   "id": "59104153",
   "metadata": {},
   "outputs": [
    {
     "data": {
      "text/plain": [
       "array([], shape=(0, 1), dtype=int32)"
      ]
     },
     "execution_count": 50,
     "metadata": {},
     "output_type": "execute_result"
    }
   ],
   "source": [
    "numpy_array_5[1:, 2:, 0]"
   ]
  },
  {
   "cell_type": "markdown",
   "id": "07a7818f",
   "metadata": {},
   "source": [
    "# Dimensionu 3 olan numpy arrayde de eyni mexanizm isleyir \n",
    "numpy_arrayi[:,row,:] rowun yerine bize hansi setir lazimdirsa onun indexini yaziriq \n",
    "numpy_arrayi[:,:,column] column yerine de bize lazimmolan sutunun indexini yaziriq \n",
    "hem row, hem column secirikse numpy_arrayi[:row,:,column]"
   ]
  },
  {
   "cell_type": "code",
   "execution_count": 51,
   "id": "7dec0e1b",
   "metadata": {},
   "outputs": [
    {
     "data": {
      "text/plain": [
       "array([[11, 12, 13, 14, 15, 16, 17, 18, 19, 20]])"
      ]
     },
     "execution_count": 51,
     "metadata": {},
     "output_type": "execute_result"
    }
   ],
   "source": [
    "numpy_array_5[:,1,:]"
   ]
  },
  {
   "cell_type": "code",
   "execution_count": 52,
   "id": "ce0cf596",
   "metadata": {},
   "outputs": [
    {
     "data": {
      "text/plain": [
       "array([[[ 1,  2,  3,  4,  5,  6,  7,  8,  9, 10],\n",
       "        [11, 12, 13, 14, 15, 16, 17, 18, 19, 20],\n",
       "        [21, 22, 23, 24, 25, 26, 27, 28, 29, 30]]])"
      ]
     },
     "execution_count": 52,
     "metadata": {},
     "output_type": "execute_result"
    }
   ],
   "source": [
    "numpy_array_5"
   ]
  },
  {
   "cell_type": "code",
   "execution_count": 53,
   "id": "0beb0211",
   "metadata": {},
   "outputs": [
    {
     "data": {
      "text/plain": [
       "array([[ 2, 12, 22]])"
      ]
     },
     "execution_count": 53,
     "metadata": {},
     "output_type": "execute_result"
    }
   ],
   "source": [
    "numpy_array_5[:1,:,1] # 1-ci row, 1-ci columnda yerlesenler"
   ]
  },
  {
   "cell_type": "code",
   "execution_count": 54,
   "id": "e4a31518",
   "metadata": {},
   "outputs": [
    {
     "data": {
      "text/plain": [
       "array([[10, 20, 30]])"
      ]
     },
     "execution_count": 54,
     "metadata": {},
     "output_type": "execute_result"
    }
   ],
   "source": [
    "numpy_array_5[:2,:,-1]"
   ]
  },
  {
   "cell_type": "code",
   "execution_count": 55,
   "id": "72d3f0df",
   "metadata": {},
   "outputs": [
    {
     "data": {
      "text/plain": [
       "array([[ 1,  2,  3],\n",
       "       [ 5,  6,  7],\n",
       "       [ 8,  9, 10]])"
      ]
     },
     "execution_count": 55,
     "metadata": {},
     "output_type": "execute_result"
    }
   ],
   "source": [
    "numpy_array=np.array([[1,2,3],[5,6,7],[8,9,10]])\n",
    "numpy_array"
   ]
  },
  {
   "cell_type": "code",
   "execution_count": 56,
   "id": "1cc0017b",
   "metadata": {},
   "outputs": [
    {
     "data": {
      "text/plain": [
       "2"
      ]
     },
     "execution_count": 56,
     "metadata": {},
     "output_type": "execute_result"
    }
   ],
   "source": [
    "numpy_array.ndim"
   ]
  },
  {
   "cell_type": "code",
   "execution_count": 57,
   "id": "31dc8f7f",
   "metadata": {},
   "outputs": [
    {
     "data": {
      "text/plain": [
       "(3, 3)"
      ]
     },
     "execution_count": 57,
     "metadata": {},
     "output_type": "execute_result"
    }
   ],
   "source": [
    "numpy_array.shape"
   ]
  },
  {
   "cell_type": "code",
   "execution_count": 58,
   "id": "eaa13453",
   "metadata": {},
   "outputs": [
    {
     "data": {
      "text/plain": [
       "9"
      ]
     },
     "execution_count": 58,
     "metadata": {},
     "output_type": "execute_result"
    }
   ],
   "source": [
    "numpy_array[2,1]"
   ]
  },
  {
   "cell_type": "code",
   "execution_count": 59,
   "id": "ff00eb75",
   "metadata": {},
   "outputs": [
    {
     "data": {
      "text/plain": [
       "3"
      ]
     },
     "execution_count": 59,
     "metadata": {},
     "output_type": "execute_result"
    }
   ],
   "source": [
    "numpy_array[0,2]"
   ]
  },
  {
   "cell_type": "code",
   "execution_count": 60,
   "id": "cdeee806",
   "metadata": {},
   "outputs": [
    {
     "data": {
      "text/plain": [
       "array([ 8,  9, 10])"
      ]
     },
     "execution_count": 60,
     "metadata": {},
     "output_type": "execute_result"
    }
   ],
   "source": [
    "numpy_array[2,:] # indexi 2 olan rowu qaytarir "
   ]
  },
  {
   "cell_type": "code",
   "execution_count": 61,
   "id": "17d78015",
   "metadata": {},
   "outputs": [
    {
     "data": {
      "text/plain": [
       "array([[ 1,  2,  3],\n",
       "       [ 5,  6,  7],\n",
       "       [ 8,  9, 10]])"
      ]
     },
     "execution_count": 61,
     "metadata": {},
     "output_type": "execute_result"
    }
   ],
   "source": [
    "numpy_array"
   ]
  },
  {
   "cell_type": "code",
   "execution_count": 62,
   "id": "45897127",
   "metadata": {},
   "outputs": [
    {
     "data": {
      "text/plain": [
       "array([8, 9])"
      ]
     },
     "execution_count": 62,
     "metadata": {},
     "output_type": "execute_result"
    }
   ],
   "source": [
    "numpy_array[2,:2] # indexi 2 olan rowu ve hemin setirde columnun indexi 2-ye qeder olanlari secdi"
   ]
  },
  {
   "cell_type": "markdown",
   "id": "928c881b",
   "metadata": {},
   "source": [
    "https://www.youtube.com/channel/UCV6AXruFZEpdfafdLOkVo_A"
   ]
  },
  {
   "cell_type": "code",
   "execution_count": 63,
   "id": "362259b8",
   "metadata": {},
   "outputs": [
    {
     "data": {
      "text/plain": [
       "array([0., 0., 0., 0., 0., 0., 0., 0., 0., 0.])"
      ]
     },
     "execution_count": 63,
     "metadata": {},
     "output_type": "execute_result"
    }
   ],
   "source": [
    "numpy_zeros=np.zeros(10)\n",
    "numpy_zeros"
   ]
  },
  {
   "cell_type": "code",
   "execution_count": 64,
   "id": "cc867f1a",
   "metadata": {},
   "outputs": [
    {
     "data": {
      "text/plain": [
       "array([1., 1., 1., 1., 1.])"
      ]
     },
     "execution_count": 64,
     "metadata": {},
     "output_type": "execute_result"
    }
   ],
   "source": [
    "numpy_ones=np.ones(5)\n",
    "numpy_ones"
   ]
  },
  {
   "cell_type": "code",
   "execution_count": 65,
   "id": "e72b6762",
   "metadata": {},
   "outputs": [
    {
     "data": {
      "text/plain": [
       "array([0.00000000e+000, 0.00000000e+000, 0.00000000e+000, 0.00000000e+000,\n",
       "       0.00000000e+000, 6.66000491e-321, 3.23439613e+218, 1.52783697e-311])"
      ]
     },
     "execution_count": 65,
     "metadata": {},
     "output_type": "execute_result"
    }
   ],
   "source": [
    "numpy_random_empty=np.empty(8)\n",
    "numpy_random_empty"
   ]
  },
  {
   "cell_type": "code",
   "execution_count": 66,
   "id": "b7f31d65",
   "metadata": {},
   "outputs": [
    {
     "data": {
      "text/plain": [
       "array([ 0,  1,  2,  3,  4,  5,  6,  7,  8,  9, 10, 11, 12, 13, 14])"
      ]
     },
     "execution_count": 66,
     "metadata": {},
     "output_type": "execute_result"
    }
   ],
   "source": [
    "# 0-dan verilen edede qeder hamisini goturub array yaradir\n",
    "numpy_arange=np.arange(15)\n",
    "numpy_arange"
   ]
  },
  {
   "cell_type": "code",
   "execution_count": 67,
   "id": "75f98dda",
   "metadata": {},
   "outputs": [
    {
     "data": {
      "text/plain": [
       "array([ 17. ,  21.5,  26. ,  30.5,  35. ,  39.5,  44. ,  48.5,  53. ,\n",
       "        57.5,  62. ,  66.5,  71. ,  75.5,  80. ,  84.5,  89. ,  93.5,\n",
       "        98. , 102.5, 107. , 111.5, 116. ])"
      ]
     },
     "execution_count": 67,
     "metadata": {},
     "output_type": "execute_result"
    }
   ],
   "source": [
    "#3-cu eded ilk ededle ikinci eded araliginda yelesen nece ededi goturmek istediyini gosterir\n",
    "# ikinci eded-ilk eded / son eded\n",
    "numpy_linspace=np.linspace(17,116,23)\n",
    "numpy_linspace"
   ]
  },
  {
   "cell_type": "raw",
   "id": "5d15ea28",
   "metadata": {},
   "source": [
    "Arrayi sort etmek diger faylda izahli sekilde var burada sadece bir numune gosterecem "
   ]
  },
  {
   "cell_type": "code",
   "execution_count": 68,
   "id": "b2a945c2",
   "metadata": {},
   "outputs": [
    {
     "data": {
      "text/plain": [
       "array([[[10,  2, 29],\n",
       "        [45, 17, 36],\n",
       "        [41, 42, 43]]])"
      ]
     },
     "execution_count": 68,
     "metadata": {},
     "output_type": "execute_result"
    }
   ],
   "source": [
    "numpy_new_array=np.array([[[10,2,29],[45,17,36],[41,42,43]]])\n",
    "numpy_new_array"
   ]
  },
  {
   "cell_type": "code",
   "execution_count": 69,
   "id": "728a5ccc",
   "metadata": {},
   "outputs": [
    {
     "data": {
      "text/plain": [
       "array([[[ 2, 10, 29],\n",
       "        [17, 36, 45],\n",
       "        [41, 42, 43]]])"
      ]
     },
     "execution_count": 69,
     "metadata": {},
     "output_type": "execute_result"
    }
   ],
   "source": [
    "np.sort(numpy_new_array)"
   ]
  },
  {
   "cell_type": "raw",
   "id": "c67e1588",
   "metadata": {},
   "source": [
    "Concatenate 2 numpy arrays - sadece arrayleri birlesdirir"
   ]
  },
  {
   "cell_type": "code",
   "execution_count": 70,
   "id": "1ffcc585",
   "metadata": {},
   "outputs": [
    {
     "data": {
      "text/plain": [
       "array([[[ 14,  16,  18],\n",
       "        [  4,   5,   6],\n",
       "        [100, 110, 120]]])"
      ]
     },
     "execution_count": 70,
     "metadata": {},
     "output_type": "execute_result"
    }
   ],
   "source": [
    "numpy_second_array=np.array([[[14,16,18],[4,5,6],[100,110,120]]])\n",
    "numpy_second_array"
   ]
  },
  {
   "cell_type": "code",
   "execution_count": 71,
   "id": "3412ed9c",
   "metadata": {},
   "outputs": [
    {
     "data": {
      "text/plain": [
       "array([[[ 10,   2,  29],\n",
       "        [ 45,  17,  36],\n",
       "        [ 41,  42,  43]],\n",
       "\n",
       "       [[ 14,  16,  18],\n",
       "        [  4,   5,   6],\n",
       "        [100, 110, 120]]])"
      ]
     },
     "execution_count": 71,
     "metadata": {},
     "output_type": "execute_result"
    }
   ],
   "source": [
    "np.concatenate((numpy_new_array,numpy_second_array))"
   ]
  },
  {
   "cell_type": "code",
   "execution_count": 72,
   "id": "11d4ba25",
   "metadata": {},
   "outputs": [
    {
     "data": {
      "text/plain": [
       "(2, 3, 3)"
      ]
     },
     "execution_count": 72,
     "metadata": {},
     "output_type": "execute_result"
    }
   ],
   "source": [
    "np.concatenate((numpy_new_array,numpy_second_array)).shape"
   ]
  },
  {
   "cell_type": "code",
   "execution_count": 73,
   "id": "d033814d",
   "metadata": {},
   "outputs": [
    {
     "data": {
      "text/plain": [
       "18"
      ]
     },
     "execution_count": 73,
     "metadata": {},
     "output_type": "execute_result"
    }
   ],
   "source": [
    "np.concatenate((numpy_new_array,numpy_second_array)).size"
   ]
  },
  {
   "cell_type": "code",
   "execution_count": 74,
   "id": "dabcb35c",
   "metadata": {},
   "outputs": [
    {
     "data": {
      "text/plain": [
       "3"
      ]
     },
     "execution_count": 74,
     "metadata": {},
     "output_type": "execute_result"
    }
   ],
   "source": [
    "np.concatenate((numpy_new_array,numpy_second_array)).ndim"
   ]
  },
  {
   "cell_type": "code",
   "execution_count": 75,
   "id": "0f6d85d3",
   "metadata": {},
   "outputs": [
    {
     "data": {
      "text/plain": [
       "array([[[ 10,   2,  29],\n",
       "        [ 45,  17,  36],\n",
       "        [ 41,  42,  43]],\n",
       "\n",
       "       [[ 14,  16,  18],\n",
       "        [  4,   5,   6],\n",
       "        [100, 110, 120]]])"
      ]
     },
     "execution_count": 75,
     "metadata": {},
     "output_type": "execute_result"
    }
   ],
   "source": [
    "np.concatenate((numpy_new_array,numpy_second_array),axis=0)"
   ]
  },
  {
   "cell_type": "raw",
   "id": "3efcecbe",
   "metadata": {},
   "source": [
    "Reshape Numpy array \n",
    "Ilk olaraq array reshape ederken row ve column hasilinin reshape etdiyiniz arrayin size'na beraber olmasi lazimdir "
   ]
  },
  {
   "cell_type": "code",
   "execution_count": 76,
   "id": "5bd8eea6",
   "metadata": {},
   "outputs": [
    {
     "data": {
      "text/plain": [
       "array([0, 1, 2, 3, 4, 5, 6, 7, 8, 9])"
      ]
     },
     "execution_count": 76,
     "metadata": {},
     "output_type": "execute_result"
    }
   ],
   "source": [
    "array_1=np.arange(10)\n",
    "array_1"
   ]
  },
  {
   "cell_type": "code",
   "execution_count": 77,
   "id": "efbcd9fa",
   "metadata": {},
   "outputs": [
    {
     "data": {
      "text/plain": [
       "array([[0, 1, 2, 3, 4],\n",
       "       [5, 6, 7, 8, 9]])"
      ]
     },
     "execution_count": 77,
     "metadata": {},
     "output_type": "execute_result"
    }
   ],
   "source": [
    "array_2=array_1.reshape(2,5)\n",
    "array_2"
   ]
  },
  {
   "cell_type": "code",
   "execution_count": 78,
   "id": "625cdbaf",
   "metadata": {},
   "outputs": [
    {
     "data": {
      "text/plain": [
       "array([[0, 1],\n",
       "       [2, 3],\n",
       "       [4, 5],\n",
       "       [6, 7],\n",
       "       [8, 9]])"
      ]
     },
     "execution_count": 78,
     "metadata": {},
     "output_type": "execute_result"
    }
   ],
   "source": [
    "array_3=array_1.reshape(5,2)\n",
    "array_3"
   ]
  },
  {
   "cell_type": "code",
   "execution_count": 79,
   "id": "eb3c59ba",
   "metadata": {},
   "outputs": [
    {
     "data": {
      "text/plain": [
       "array([ 0.,  1.,  2.,  3.,  4.,  5.,  6.,  7.,  8.,  9., 10., 11.])"
      ]
     },
     "execution_count": 79,
     "metadata": {},
     "output_type": "execute_result"
    }
   ],
   "source": [
    "new_array=np.arange(12,dtype=float)\n",
    "new_array"
   ]
  },
  {
   "cell_type": "code",
   "execution_count": 80,
   "id": "93f24f6c",
   "metadata": {},
   "outputs": [
    {
     "data": {
      "text/plain": [
       "array([[ 0.,  1.],\n",
       "       [ 2.,  3.],\n",
       "       [ 4.,  5.],\n",
       "       [ 6.,  7.],\n",
       "       [ 8.,  9.],\n",
       "       [10., 11.]])"
      ]
     },
     "execution_count": 80,
     "metadata": {},
     "output_type": "execute_result"
    }
   ],
   "source": [
    "second_array=new_array.reshape(6,2)\n",
    "second_array"
   ]
  },
  {
   "cell_type": "code",
   "execution_count": 81,
   "id": "6a35887d",
   "metadata": {},
   "outputs": [
    {
     "data": {
      "text/plain": [
       "array([[ 0.,  1.,  2.,  3.],\n",
       "       [ 4.,  5.,  6.,  7.],\n",
       "       [ 8.,  9., 10., 11.]])"
      ]
     },
     "execution_count": 81,
     "metadata": {},
     "output_type": "execute_result"
    }
   ],
   "source": [
    "third_array=new_array.reshape(3,4)\n",
    "third_array"
   ]
  },
  {
   "cell_type": "code",
   "execution_count": 82,
   "id": "08bbc973",
   "metadata": {},
   "outputs": [
    {
     "data": {
      "text/plain": [
       "array([[ 0.],\n",
       "       [ 1.],\n",
       "       [ 2.],\n",
       "       [ 3.],\n",
       "       [ 4.],\n",
       "       [ 5.],\n",
       "       [ 6.],\n",
       "       [ 7.],\n",
       "       [ 8.],\n",
       "       [ 9.],\n",
       "       [10.],\n",
       "       [11.]])"
      ]
     },
     "execution_count": 82,
     "metadata": {},
     "output_type": "execute_result"
    }
   ],
   "source": [
    "next_array=new_array.reshape(12,1)\n",
    "next_array"
   ]
  },
  {
   "cell_type": "code",
   "execution_count": 83,
   "id": "01e53fd1",
   "metadata": {},
   "outputs": [
    {
     "data": {
      "text/plain": [
       "array([[[ 1,  2,  3,  4,  5,  6,  7,  8,  9, 10],\n",
       "        [11, 12, 13, 14, 15, 16, 17, 18, 19, 20],\n",
       "        [21, 22, 23, 24, 25, 26, 27, 28, 29, 30]]])"
      ]
     },
     "execution_count": 83,
     "metadata": {},
     "output_type": "execute_result"
    }
   ],
   "source": [
    "new_numpy_array=np.array([[[ 1,  2,  3,  4,  5,  6,  7,  8,  9, 10],\n",
    "        [11, 12, 13, 14, 15, 16, 17, 18, 19, 20],\n",
    "        [21, 22, 23, 24, 25, 26, 27, 28, 29, 30]]])\n",
    "new_numpy_array"
   ]
  },
  {
   "cell_type": "raw",
   "id": "362658b3",
   "metadata": {},
   "source": [
    "numpy_array[numpy_array >,<,= value]"
   ]
  },
  {
   "cell_type": "code",
   "execution_count": 84,
   "id": "6e3477f4",
   "metadata": {},
   "outputs": [
    {
     "data": {
      "text/plain": [
       "array([11, 12, 13, 14, 15, 16, 17, 18, 19, 20, 21, 22, 23, 24, 25, 26, 27,\n",
       "       28, 29, 30])"
      ]
     },
     "execution_count": 84,
     "metadata": {},
     "output_type": "execute_result"
    }
   ],
   "source": [
    "new_numpy_array[new_numpy_array>10]"
   ]
  },
  {
   "cell_type": "raw",
   "id": "164d8499",
   "metadata": {},
   "source": [
    "We use np.arange(number) to create a numpy array from 0 to number \n",
    "And we also have additional option to create numpy array with specifying range \n",
    "numpy_array=np.arange(15,100)"
   ]
  },
  {
   "cell_type": "code",
   "execution_count": 85,
   "id": "f65e509c",
   "metadata": {},
   "outputs": [
    {
     "data": {
      "text/plain": [
       "array([15, 16, 17, 18, 19, 20, 21, 22, 23, 24, 25, 26, 27, 28, 29, 30, 31,\n",
       "       32, 33, 34, 35, 36, 37, 38, 39, 40, 41, 42, 43, 44, 45, 46, 47, 48,\n",
       "       49, 50, 51, 52, 53, 54, 55, 56, 57, 58, 59, 60, 61, 62, 63, 64, 65,\n",
       "       66, 67, 68, 69, 70, 71, 72, 73, 74, 75, 76, 77, 78, 79, 80, 81, 82,\n",
       "       83, 84, 85, 86, 87, 88, 89, 90, 91, 92, 93, 94, 95, 96, 97, 98, 99])"
      ]
     },
     "execution_count": 85,
     "metadata": {},
     "output_type": "execute_result"
    }
   ],
   "source": [
    "any_array=np.arange(15,100)\n",
    "any_array"
   ]
  },
  {
   "cell_type": "code",
   "execution_count": 86,
   "id": "5e20a2cf",
   "metadata": {},
   "outputs": [
    {
     "data": {
      "text/plain": [
       "array([15, 16, 17, 18, 19])"
      ]
     },
     "execution_count": 86,
     "metadata": {},
     "output_type": "execute_result"
    }
   ],
   "source": [
    "any_array[any_array<20]"
   ]
  },
  {
   "cell_type": "code",
   "execution_count": 87,
   "id": "0c927d9b",
   "metadata": {},
   "outputs": [
    {
     "data": {
      "text/plain": [
       "array([15])"
      ]
     },
     "execution_count": 87,
     "metadata": {},
     "output_type": "execute_result"
    }
   ],
   "source": [
    "any_array[any_array<=15]"
   ]
  },
  {
   "cell_type": "code",
   "execution_count": 88,
   "id": "cf486316",
   "metadata": {},
   "outputs": [
    {
     "data": {
      "text/plain": [
       "array([16, 18, 20, 22, 24, 26, 28, 30, 32, 34, 36, 38, 40, 42, 44, 46, 48,\n",
       "       50, 52, 54, 56, 58, 60, 62, 64, 66, 68, 70, 72, 74, 76, 78, 80, 82,\n",
       "       84, 86, 88, 90, 92, 94, 96, 98])"
      ]
     },
     "execution_count": 88,
     "metadata": {},
     "output_type": "execute_result"
    }
   ],
   "source": [
    "any_array[any_array%2==0]"
   ]
  },
  {
   "cell_type": "code",
   "execution_count": 89,
   "id": "aedf8243",
   "metadata": {},
   "outputs": [
    {
     "data": {
      "text/plain": [
       "array([31, 32, 33, 34, 35, 36, 37, 38, 39, 40, 41, 42])"
      ]
     },
     "execution_count": 89,
     "metadata": {},
     "output_type": "execute_result"
    }
   ],
   "source": [
    "any_array[any_array[(any_array > 15) & (any_array < 28)]]"
   ]
  },
  {
   "cell_type": "code",
   "execution_count": 90,
   "id": "339f7982",
   "metadata": {},
   "outputs": [
    {
     "data": {
      "text/plain": [
       "array([False, False, False, False, False, False, False, False, False,\n",
       "       False, False,  True,  True,  True,  True,  True,  True,  True,\n",
       "        True,  True,  True,  True,  True,  True,  True,  True,  True,\n",
       "        True,  True,  True,  True,  True,  True,  True,  True,  True,\n",
       "        True,  True,  True,  True,  True,  True,  True,  True,  True,\n",
       "        True,  True,  True,  True,  True,  True,  True,  True,  True,\n",
       "        True,  True,  True,  True,  True,  True,  True,  True,  True,\n",
       "        True,  True,  True,  True,  True,  True,  True,  True,  True,\n",
       "        True,  True,  True,  True,  True,  True,  True,  True,  True,\n",
       "        True,  True,  True,  True])"
      ]
     },
     "execution_count": 90,
     "metadata": {},
     "output_type": "execute_result"
    }
   ],
   "source": [
    "ten_up = (any_array > 25) | (any_array == 30)\n",
    "ten_up"
   ]
  },
  {
   "cell_type": "code",
   "execution_count": 91,
   "id": "606e89cd",
   "metadata": {},
   "outputs": [
    {
     "data": {
      "text/plain": [
       "array([ True, False, False, False, False,  True, False, False, False,\n",
       "       False,  True, False, False, False, False,  True, False, False,\n",
       "       False, False,  True, False, False, False, False,  True, False,\n",
       "       False, False, False,  True, False, False, False, False,  True,\n",
       "       False, False, False, False,  True, False, False, False, False,\n",
       "        True, False, False, False, False,  True, False, False, False,\n",
       "       False,  True, False, False, False, False,  True, False, False,\n",
       "       False, False,  True, False, False, False, False,  True, False,\n",
       "       False, False, False,  True, False, False, False, False,  True,\n",
       "       False, False, False, False])"
      ]
     },
     "execution_count": 91,
     "metadata": {},
     "output_type": "execute_result"
    }
   ],
   "source": [
    "any_array%5==0"
   ]
  },
  {
   "cell_type": "markdown",
   "id": "35a72eaf",
   "metadata": {},
   "source": [
    "Again search about nonzero function in Numpy "
   ]
  },
  {
   "cell_type": "code",
   "execution_count": 92,
   "id": "06dcae10",
   "metadata": {},
   "outputs": [
    {
     "data": {
      "text/plain": [
       "(array([0, 1, 2, 3, 4], dtype=int64),)"
      ]
     },
     "execution_count": 92,
     "metadata": {},
     "output_type": "execute_result"
    }
   ],
   "source": [
    "again_array=np.nonzero(any_array<20)\n",
    "again_array"
   ]
  },
  {
   "cell_type": "code",
   "execution_count": 94,
   "id": "af50e4ab",
   "metadata": {},
   "outputs": [],
   "source": [
    "# To operate mathematical processes in Numpy we need to choose the arrays which  sizes are equal"
   ]
  },
  {
   "cell_type": "code",
   "execution_count": 95,
   "id": "f25f731d",
   "metadata": {},
   "outputs": [
    {
     "data": {
      "text/plain": [
       "array([28, 29, 30, 31, 32, 33, 34, 35, 36, 37, 38, 39, 40, 41, 42, 43, 44,\n",
       "       45, 46, 47, 48, 49, 50, 51, 52, 53, 54])"
      ]
     },
     "execution_count": 95,
     "metadata": {},
     "output_type": "execute_result"
    }
   ],
   "source": [
    "array_for_maths=np.arange(28,55)\n",
    "array_for_maths"
   ]
  },
  {
   "cell_type": "code",
   "execution_count": 96,
   "id": "0094462d",
   "metadata": {},
   "outputs": [
    {
     "data": {
      "text/plain": [
       "array([10, 11, 12, 13, 14, 15, 16, 17, 18, 19, 20, 21, 22, 23, 24, 25, 26,\n",
       "       27, 28, 29, 30, 31, 32, 33, 34, 35, 36])"
      ]
     },
     "execution_count": 96,
     "metadata": {},
     "output_type": "execute_result"
    }
   ],
   "source": [
    "array_maths=np.arange(10,37)\n",
    "array_maths"
   ]
  },
  {
   "cell_type": "code",
   "execution_count": 97,
   "id": "58f9a372",
   "metadata": {},
   "outputs": [
    {
     "data": {
      "text/plain": [
       "array([38, 40, 42, 44, 46, 48, 50, 52, 54, 56, 58, 60, 62, 64, 66, 68, 70,\n",
       "       72, 74, 76, 78, 80, 82, 84, 86, 88, 90])"
      ]
     },
     "execution_count": 97,
     "metadata": {},
     "output_type": "execute_result"
    }
   ],
   "source": [
    "array_for_maths+array_maths"
   ]
  },
  {
   "cell_type": "code",
   "execution_count": 98,
   "id": "58ed5a7e",
   "metadata": {},
   "outputs": [
    {
     "data": {
      "text/plain": [
       "array([ 280,  319,  360,  403,  448,  495,  544,  595,  648,  703,  760,\n",
       "        819,  880,  943, 1008, 1075, 1144, 1215, 1288, 1363, 1440, 1519,\n",
       "       1600, 1683, 1768, 1855, 1944])"
      ]
     },
     "execution_count": 98,
     "metadata": {},
     "output_type": "execute_result"
    }
   ],
   "source": [
    "array_for_maths*array_maths"
   ]
  },
  {
   "cell_type": "code",
   "execution_count": 99,
   "id": "69dd8244",
   "metadata": {},
   "outputs": [
    {
     "data": {
      "text/plain": [
       "array([18, 18, 18, 18, 18, 18, 18, 18, 18, 18, 18, 18, 18, 18, 18, 18, 18,\n",
       "       18, 18, 18, 18, 18, 18, 18, 18, 18, 18])"
      ]
     },
     "execution_count": 99,
     "metadata": {},
     "output_type": "execute_result"
    }
   ],
   "source": [
    "array_for_maths-array_maths"
   ]
  },
  {
   "cell_type": "code",
   "execution_count": 100,
   "id": "eccdac3d",
   "metadata": {},
   "outputs": [
    {
     "data": {
      "text/plain": [
       "array([2.8       , 2.63636364, 2.5       , 2.38461538, 2.28571429,\n",
       "       2.2       , 2.125     , 2.05882353, 2.        , 1.94736842,\n",
       "       1.9       , 1.85714286, 1.81818182, 1.7826087 , 1.75      ,\n",
       "       1.72      , 1.69230769, 1.66666667, 1.64285714, 1.62068966,\n",
       "       1.6       , 1.58064516, 1.5625    , 1.54545455, 1.52941176,\n",
       "       1.51428571, 1.5       ])"
      ]
     },
     "execution_count": 100,
     "metadata": {},
     "output_type": "execute_result"
    }
   ],
   "source": [
    "array_for_maths/array_maths"
   ]
  },
  {
   "cell_type": "code",
   "execution_count": 101,
   "id": "643ab9c9",
   "metadata": {},
   "outputs": [
    {
     "data": {
      "text/plain": [
       "array([ 84,  87,  90,  93,  96,  99, 102, 105, 108, 111, 114, 117, 120,\n",
       "       123, 126, 129, 132, 135, 138, 141, 144, 147, 150, 153, 156, 159,\n",
       "       162])"
      ]
     },
     "execution_count": 101,
     "metadata": {},
     "output_type": "execute_result"
    }
   ],
   "source": [
    "array_for_maths*3"
   ]
  },
  {
   "cell_type": "code",
   "execution_count": 102,
   "id": "2569121b",
   "metadata": {},
   "outputs": [
    {
     "data": {
      "text/plain": [
       "array([2. , 2.2, 2.4, 2.6, 2.8, 3. , 3.2, 3.4, 3.6, 3.8, 4. , 4.2, 4.4,\n",
       "       4.6, 4.8, 5. , 5.2, 5.4, 5.6, 5.8, 6. , 6.2, 6.4, 6.6, 6.8, 7. ,\n",
       "       7.2])"
      ]
     },
     "execution_count": 102,
     "metadata": {},
     "output_type": "execute_result"
    }
   ],
   "source": [
    "array_maths/5"
   ]
  },
  {
   "cell_type": "code",
   "execution_count": 103,
   "id": "187efab3",
   "metadata": {},
   "outputs": [
    {
     "data": {
      "text/plain": [
       "54"
      ]
     },
     "execution_count": 103,
     "metadata": {},
     "output_type": "execute_result"
    }
   ],
   "source": [
    "array_for_maths.max()"
   ]
  },
  {
   "cell_type": "code",
   "execution_count": 104,
   "id": "67e8795c",
   "metadata": {},
   "outputs": [
    {
     "data": {
      "text/plain": [
       "10"
      ]
     },
     "execution_count": 104,
     "metadata": {},
     "output_type": "execute_result"
    }
   ],
   "source": [
    "array_maths.min()"
   ]
  },
  {
   "cell_type": "code",
   "execution_count": 105,
   "id": "0f481426",
   "metadata": {},
   "outputs": [
    {
     "data": {
      "text/plain": [
       "7.788880963698615"
      ]
     },
     "execution_count": 105,
     "metadata": {},
     "output_type": "execute_result"
    }
   ],
   "source": [
    "array_for_maths.std()"
   ]
  },
  {
   "cell_type": "code",
   "execution_count": 106,
   "id": "99c812af",
   "metadata": {},
   "outputs": [
    {
     "data": {
      "text/plain": [
       "23.0"
      ]
     },
     "execution_count": 106,
     "metadata": {},
     "output_type": "execute_result"
    }
   ],
   "source": [
    "array_maths.mean()"
   ]
  },
  {
   "cell_type": "code",
   "execution_count": 107,
   "id": "f74c9476",
   "metadata": {},
   "outputs": [
    {
     "data": {
      "text/plain": [
       "7.788880963698615"
      ]
     },
     "execution_count": 107,
     "metadata": {},
     "output_type": "execute_result"
    }
   ],
   "source": [
    "array_maths.std()"
   ]
  },
  {
   "cell_type": "code",
   "execution_count": 108,
   "id": "d6b7d789",
   "metadata": {},
   "outputs": [
    {
     "data": {
      "text/plain": [
       "1107"
      ]
     },
     "execution_count": 108,
     "metadata": {},
     "output_type": "execute_result"
    }
   ],
   "source": [
    "array_for_maths.sum()"
   ]
  },
  {
   "cell_type": "code",
   "execution_count": 109,
   "id": "7554c955",
   "metadata": {},
   "outputs": [
    {
     "data": {
      "text/plain": [
       "621"
      ]
     },
     "execution_count": 109,
     "metadata": {},
     "output_type": "execute_result"
    }
   ],
   "source": [
    "array_maths.sum()"
   ]
  },
  {
   "cell_type": "markdown",
   "id": "7f4c2b63",
   "metadata": {},
   "source": [
    "https://numpy.org/doc/stable/user/absolute_beginners.html"
   ]
  },
  {
   "cell_type": "code",
   "execution_count": 110,
   "id": "f5908088",
   "metadata": {},
   "outputs": [],
   "source": [
    "# When we deal with slicing arrays instead of curly brackets we can use commas \n",
    "# numpy_array[1][0] [row][column]\n",
    "# numpy_array[1,0] [row,column]  both of them are the same "
   ]
  },
  {
   "cell_type": "code",
   "execution_count": 111,
   "id": "74a25586",
   "metadata": {},
   "outputs": [
    {
     "data": {
      "text/plain": [
       "array([[ 1,  2,  3],\n",
       "       [ 4,  5,  6],\n",
       "       [ 7,  8,  9],\n",
       "       [10, 11, 12],\n",
       "       [13, 14, 15],\n",
       "       [16, 17, 18]])"
      ]
     },
     "execution_count": 111,
     "metadata": {},
     "output_type": "execute_result"
    }
   ],
   "source": [
    "numpy_array=np.array([[1,2,3],[4,5,6],[7,8,9],[10,11,12],[13,14,15],[16,17,18]])\n",
    "numpy_array"
   ]
  },
  {
   "cell_type": "code",
   "execution_count": 112,
   "id": "8a029e4d",
   "metadata": {},
   "outputs": [
    {
     "data": {
      "text/plain": [
       "2"
      ]
     },
     "execution_count": 112,
     "metadata": {},
     "output_type": "execute_result"
    }
   ],
   "source": [
    "numpy_array.ndim"
   ]
  },
  {
   "cell_type": "code",
   "execution_count": 113,
   "id": "849a11be",
   "metadata": {},
   "outputs": [
    {
     "data": {
      "text/plain": [
       "12"
      ]
     },
     "execution_count": 113,
     "metadata": {},
     "output_type": "execute_result"
    }
   ],
   "source": [
    "numpy_array[3,2]"
   ]
  },
  {
   "cell_type": "code",
   "execution_count": 114,
   "id": "af2f1557",
   "metadata": {},
   "outputs": [
    {
     "data": {
      "text/plain": [
       "array([51, 57, 63])"
      ]
     },
     "execution_count": 114,
     "metadata": {},
     "output_type": "execute_result"
    }
   ],
   "source": [
    "numpy_array.sum(axis=0) # (1+4+7+10+13+16), (2+5+8+11+14+17), (3+6+9+12+15+18)"
   ]
  },
  {
   "cell_type": "code",
   "execution_count": 115,
   "id": "cda91d85",
   "metadata": {},
   "outputs": [
    {
     "data": {
      "text/plain": [
       "array([ 6, 15, 24, 33, 42, 51])"
      ]
     },
     "execution_count": 115,
     "metadata": {},
     "output_type": "execute_result"
    }
   ],
   "source": [
    "numpy_array.sum(axis=1) # (1+2+3)"
   ]
  },
  {
   "cell_type": "code",
   "execution_count": 116,
   "id": "f0f284cc",
   "metadata": {},
   "outputs": [],
   "source": [
    "# We can do the same things for mean, median- calculating them with axis"
   ]
  },
  {
   "cell_type": "raw",
   "id": "628fcd3b",
   "metadata": {},
   "source": [
    "Note: NUMPY ARRAY ARE IMMUTABLE "
   ]
  },
  {
   "cell_type": "code",
   "execution_count": 117,
   "id": "4899f697",
   "metadata": {},
   "outputs": [],
   "source": [
    "# Broadcasting "
   ]
  },
  {
   "cell_type": "code",
   "execution_count": 118,
   "id": "7774c0d1",
   "metadata": {},
   "outputs": [
    {
     "data": {
      "text/plain": [
       "array([[ 1,  2,  3],\n",
       "       [ 4,  5,  6],\n",
       "       [ 7,  8,  9],\n",
       "       [10, 11, 12],\n",
       "       [13, 14, 15],\n",
       "       [16, 17, 18]])"
      ]
     },
     "execution_count": 118,
     "metadata": {},
     "output_type": "execute_result"
    }
   ],
   "source": [
    "numpy_array"
   ]
  },
  {
   "cell_type": "code",
   "execution_count": 119,
   "id": "34a88fd7",
   "metadata": {},
   "outputs": [
    {
     "data": {
      "text/plain": [
       "array([[101, 102, 103],\n",
       "       [104, 105, 106],\n",
       "       [107, 108, 109],\n",
       "       [110, 111, 112],\n",
       "       [113, 114, 115],\n",
       "       [116, 117, 118]])"
      ]
     },
     "execution_count": 119,
     "metadata": {},
     "output_type": "execute_result"
    }
   ],
   "source": [
    "numpy_array+100 # returns new result our array doesn't change"
   ]
  },
  {
   "cell_type": "code",
   "execution_count": 120,
   "id": "29edbb16",
   "metadata": {},
   "outputs": [
    {
     "data": {
      "text/plain": [
       "array([[ 1,  2,  3],\n",
       "       [ 4,  5,  6],\n",
       "       [ 7,  8,  9],\n",
       "       [10, 11, 12],\n",
       "       [13, 14, 15],\n",
       "       [16, 17, 18]])"
      ]
     },
     "execution_count": 120,
     "metadata": {},
     "output_type": "execute_result"
    }
   ],
   "source": [
    "numpy_array"
   ]
  },
  {
   "cell_type": "code",
   "execution_count": 121,
   "id": "5051d726",
   "metadata": {},
   "outputs": [
    {
     "data": {
      "text/plain": [
       "array([[ 5, 10, 15],\n",
       "       [20, 25, 30],\n",
       "       [35, 40, 45],\n",
       "       [50, 55, 60],\n",
       "       [65, 70, 75],\n",
       "       [80, 85, 90]])"
      ]
     },
     "execution_count": 121,
     "metadata": {},
     "output_type": "execute_result"
    }
   ],
   "source": [
    "numpy_array*5"
   ]
  },
  {
   "cell_type": "code",
   "execution_count": 122,
   "id": "2e9cfbd8",
   "metadata": {},
   "outputs": [
    {
     "data": {
      "text/plain": [
       "array([[-8, -7, -6],\n",
       "       [-5, -4, -3],\n",
       "       [-2, -1,  0],\n",
       "       [ 1,  2,  3],\n",
       "       [ 4,  5,  6],\n",
       "       [ 7,  8,  9]])"
      ]
     },
     "execution_count": 122,
     "metadata": {},
     "output_type": "execute_result"
    }
   ],
   "source": [
    "numpy_array-9"
   ]
  },
  {
   "cell_type": "code",
   "execution_count": 123,
   "id": "a6a6d55e",
   "metadata": {},
   "outputs": [
    {
     "data": {
      "text/plain": [
       "array([[0.33333333, 0.66666667, 1.        ],\n",
       "       [1.33333333, 1.66666667, 2.        ],\n",
       "       [2.33333333, 2.66666667, 3.        ],\n",
       "       [3.33333333, 3.66666667, 4.        ],\n",
       "       [4.33333333, 4.66666667, 5.        ],\n",
       "       [5.33333333, 5.66666667, 6.        ]])"
      ]
     },
     "execution_count": 123,
     "metadata": {},
     "output_type": "execute_result"
    }
   ],
   "source": [
    "numpy_array/3"
   ]
  },
  {
   "cell_type": "markdown",
   "id": "53c2fd4a",
   "metadata": {},
   "source": [
    "https://github.com/ine-rmotr-curriculum/freecodecamp-intro-to-numpy/blob/master/3.%20NumPy%20exercises.ipynb"
   ]
  },
  {
   "cell_type": "markdown",
   "id": "2b654f59",
   "metadata": {},
   "source": [
    "# Continue with Numpy documentation "
   ]
  },
  {
   "cell_type": "code",
   "execution_count": 124,
   "id": "ba4e7531",
   "metadata": {},
   "outputs": [
    {
     "data": {
      "text/plain": [
       "array([ 0,  1,  2,  3,  4,  5,  6,  7,  8,  9, 10, 11, 12, 13, 14, 15, 16,\n",
       "       17, 18, 19, 20, 21, 22, 23, 24, 25, 26, 27, 28, 29, 30, 31, 32, 33,\n",
       "       34, 35, 36, 37, 38, 39, 40, 41, 42, 43, 44, 45, 46, 47, 48, 49, 50,\n",
       "       51, 52, 53, 54, 55, 56, 57, 58, 59, 60, 61, 62, 63, 64, 65, 66, 67,\n",
       "       68, 69, 70, 71, 72, 73, 74, 75, 76, 77, 78, 79, 80, 81, 82, 83, 84,\n",
       "       85, 86, 87, 88, 89, 90, 91, 92, 93, 94, 95, 96, 97, 98, 99])"
      ]
     },
     "execution_count": 124,
     "metadata": {},
     "output_type": "execute_result"
    }
   ],
   "source": [
    "np_array = np.arange(100)\n",
    "np_array"
   ]
  },
  {
   "cell_type": "raw",
   "id": "4b3e6d83",
   "metadata": {},
   "source": [
    "Array'i reshape ederken diqqet etmek lazimdir ki,  row*column= shape'ni deyisdiyin array'in size'na "
   ]
  },
  {
   "cell_type": "code",
   "execution_count": 125,
   "id": "60d7e950",
   "metadata": {},
   "outputs": [
    {
     "data": {
      "text/plain": [
       "array([[ 0,  1,  2,  3,  4,  5,  6,  7,  8,  9, 10, 11, 12, 13, 14, 15,\n",
       "        16, 17, 18, 19],\n",
       "       [20, 21, 22, 23, 24, 25, 26, 27, 28, 29, 30, 31, 32, 33, 34, 35,\n",
       "        36, 37, 38, 39],\n",
       "       [40, 41, 42, 43, 44, 45, 46, 47, 48, 49, 50, 51, 52, 53, 54, 55,\n",
       "        56, 57, 58, 59],\n",
       "       [60, 61, 62, 63, 64, 65, 66, 67, 68, 69, 70, 71, 72, 73, 74, 75,\n",
       "        76, 77, 78, 79],\n",
       "       [80, 81, 82, 83, 84, 85, 86, 87, 88, 89, 90, 91, 92, 93, 94, 95,\n",
       "        96, 97, 98, 99]])"
      ]
     },
     "execution_count": 125,
     "metadata": {},
     "output_type": "execute_result"
    }
   ],
   "source": [
    "np_array.reshape(5,20) "
   ]
  },
  {
   "cell_type": "code",
   "execution_count": 126,
   "id": "4c70c6b8",
   "metadata": {},
   "outputs": [
    {
     "data": {
      "text/plain": [
       "1"
      ]
     },
     "execution_count": 126,
     "metadata": {},
     "output_type": "execute_result"
    }
   ],
   "source": [
    "np_array.ndim"
   ]
  },
  {
   "cell_type": "raw",
   "id": "110d2059",
   "metadata": {},
   "source": [
    "When we can to change dimension of numpy array such as convert one dimensional array to two dimensional array:\n",
    "array1=np.arange(10,25)\n",
    "array2=array1[np.newaxis,:]"
   ]
  },
  {
   "cell_type": "code",
   "execution_count": 127,
   "id": "d7e40f22",
   "metadata": {},
   "outputs": [
    {
     "data": {
      "text/plain": [
       "array([[ 0,  1,  2,  3,  4,  5,  6,  7,  8,  9, 10, 11, 12, 13, 14, 15,\n",
       "        16, 17, 18, 19, 20, 21, 22, 23, 24, 25, 26, 27, 28, 29, 30, 31,\n",
       "        32, 33, 34, 35, 36, 37, 38, 39, 40, 41, 42, 43, 44, 45, 46, 47,\n",
       "        48, 49, 50, 51, 52, 53, 54, 55, 56, 57, 58, 59, 60, 61, 62, 63,\n",
       "        64, 65, 66, 67, 68, 69, 70, 71, 72, 73, 74, 75, 76, 77, 78, 79,\n",
       "        80, 81, 82, 83, 84, 85, 86, 87, 88, 89, 90, 91, 92, 93, 94, 95,\n",
       "        96, 97, 98, 99]])"
      ]
     },
     "execution_count": 127,
     "metadata": {},
     "output_type": "execute_result"
    }
   ],
   "source": [
    "new_array= np_array[np.newaxis, :]\n",
    "new_array"
   ]
  },
  {
   "cell_type": "code",
   "execution_count": 128,
   "id": "e834601d",
   "metadata": {},
   "outputs": [
    {
     "data": {
      "text/plain": [
       "2"
      ]
     },
     "execution_count": 128,
     "metadata": {},
     "output_type": "execute_result"
    }
   ],
   "source": [
    "new_array.ndim"
   ]
  },
  {
   "cell_type": "code",
   "execution_count": 129,
   "id": "0ac66669",
   "metadata": {},
   "outputs": [
    {
     "data": {
      "text/plain": [
       "array([[10, 11, 12, 13, 14, 15, 16, 17, 18, 19, 20, 21, 22, 23, 24]])"
      ]
     },
     "execution_count": 129,
     "metadata": {},
     "output_type": "execute_result"
    }
   ],
   "source": [
    "array1=np.arange(10,25)\n",
    "array2=array1[np.newaxis,:]\n",
    "array2"
   ]
  },
  {
   "cell_type": "code",
   "execution_count": 130,
   "id": "c31b7a19",
   "metadata": {},
   "outputs": [
    {
     "data": {
      "text/plain": [
       "2"
      ]
     },
     "execution_count": 130,
     "metadata": {},
     "output_type": "execute_result"
    }
   ],
   "source": [
    "array2.ndim"
   ]
  },
  {
   "cell_type": "code",
   "execution_count": 131,
   "id": "b20e1060",
   "metadata": {},
   "outputs": [
    {
     "data": {
      "text/plain": [
       "array([[10],\n",
       "       [11],\n",
       "       [12],\n",
       "       [13],\n",
       "       [14],\n",
       "       [15],\n",
       "       [16],\n",
       "       [17],\n",
       "       [18],\n",
       "       [19],\n",
       "       [20],\n",
       "       [21],\n",
       "       [22],\n",
       "       [23],\n",
       "       [24]])"
      ]
     },
     "execution_count": 131,
     "metadata": {},
     "output_type": "execute_result"
    }
   ],
   "source": [
    "array3=array1[:, np.newaxis]\n",
    "array3"
   ]
  },
  {
   "cell_type": "code",
   "execution_count": 132,
   "id": "d34c3257",
   "metadata": {},
   "outputs": [
    {
     "data": {
      "text/plain": [
       "2"
      ]
     },
     "execution_count": 132,
     "metadata": {},
     "output_type": "execute_result"
    }
   ],
   "source": [
    "array3.ndim"
   ]
  },
  {
   "cell_type": "code",
   "execution_count": 133,
   "id": "476849c9",
   "metadata": {},
   "outputs": [
    {
     "data": {
      "text/plain": [
       "(15, 1)"
      ]
     },
     "execution_count": 133,
     "metadata": {},
     "output_type": "execute_result"
    }
   ],
   "source": [
    "array3.shape"
   ]
  },
  {
   "cell_type": "code",
   "execution_count": 134,
   "id": "c1cd263c",
   "metadata": {},
   "outputs": [
    {
     "data": {
      "text/plain": [
       "array([[10, 11, 12, 13, 14, 15, 16, 17, 18, 19, 20, 21, 22, 23, 24]])"
      ]
     },
     "execution_count": 134,
     "metadata": {},
     "output_type": "execute_result"
    }
   ],
   "source": [
    "array2"
   ]
  },
  {
   "cell_type": "code",
   "execution_count": 135,
   "id": "860d9793",
   "metadata": {},
   "outputs": [
    {
     "data": {
      "text/plain": [
       "15"
      ]
     },
     "execution_count": 135,
     "metadata": {},
     "output_type": "execute_result"
    }
   ],
   "source": [
    "array2.size"
   ]
  },
  {
   "cell_type": "code",
   "execution_count": 136,
   "id": "d3a66f13",
   "metadata": {},
   "outputs": [
    {
     "data": {
      "text/plain": [
       "array([[10, 11, 12],\n",
       "       [13, 14, 15],\n",
       "       [16, 17, 18],\n",
       "       [19, 20, 21],\n",
       "       [22, 23, 24]])"
      ]
     },
     "execution_count": 136,
     "metadata": {},
     "output_type": "execute_result"
    }
   ],
   "source": [
    "array2.reshape(5,3)"
   ]
  },
  {
   "cell_type": "code",
   "execution_count": 137,
   "id": "0afdb737",
   "metadata": {},
   "outputs": [
    {
     "data": {
      "text/plain": [
       "array([10, 11, 12, 13, 14, 15, 16, 17, 18, 19, 20, 21, 22, 23, 24])"
      ]
     },
     "execution_count": 137,
     "metadata": {},
     "output_type": "execute_result"
    }
   ],
   "source": [
    "array1"
   ]
  },
  {
   "cell_type": "code",
   "execution_count": 138,
   "id": "642ddc37",
   "metadata": {},
   "outputs": [
    {
     "data": {
      "text/plain": [
       "20"
      ]
     },
     "execution_count": 138,
     "metadata": {},
     "output_type": "execute_result"
    }
   ],
   "source": [
    "array1[-5] # indexi -5 olan elementi verir "
   ]
  },
  {
   "cell_type": "code",
   "execution_count": 139,
   "id": "c35bbe44",
   "metadata": {},
   "outputs": [
    {
     "data": {
      "text/plain": [
       "array([10, 11, 12])"
      ]
     },
     "execution_count": 139,
     "metadata": {},
     "output_type": "execute_result"
    }
   ],
   "source": [
    "array1[:3]  # indexi 0 olan elementden indexi 3 olan elemente qeder yerlesenleri return edir "
   ]
  },
  {
   "cell_type": "code",
   "execution_count": 140,
   "id": "9a6d9e8a",
   "metadata": {},
   "outputs": [
    {
     "data": {
      "text/plain": [
       "array(['a', 'b', 'c', 'd', 'e', 'f', 'g'], dtype='<U1')"
      ]
     },
     "execution_count": 140,
     "metadata": {},
     "output_type": "execute_result"
    }
   ],
   "source": [
    "np_array=np.array(['a','b','c','d','e','f','g'])\n",
    "np_array"
   ]
  },
  {
   "cell_type": "code",
   "execution_count": 141,
   "id": "acf4877a",
   "metadata": {},
   "outputs": [
    {
     "data": {
      "text/plain": [
       "array(['d', 'e', 'f', 'g'], dtype='<U1')"
      ]
     },
     "execution_count": 141,
     "metadata": {},
     "output_type": "execute_result"
    }
   ],
   "source": [
    "np_array[3:]"
   ]
  },
  {
   "cell_type": "code",
   "execution_count": 142,
   "id": "f0634fc9",
   "metadata": {},
   "outputs": [
    {
     "data": {
      "text/plain": [
       "array([[ 1,  2,  3],\n",
       "       [ 4,  5,  6],\n",
       "       [ 7,  8,  9],\n",
       "       [10, 11, 12]])"
      ]
     },
     "execution_count": 142,
     "metadata": {},
     "output_type": "execute_result"
    }
   ],
   "source": [
    "np_array_1=np.array([[1,2,3],[4,5,6],[7,8,9],[10,11,12]])\n",
    "np_array_1"
   ]
  },
  {
   "cell_type": "code",
   "execution_count": 143,
   "id": "255413ec",
   "metadata": {},
   "outputs": [
    {
     "data": {
      "text/plain": [
       "array([[ 7,  8,  9],\n",
       "       [10, 11, 12]])"
      ]
     },
     "execution_count": 143,
     "metadata": {},
     "output_type": "execute_result"
    }
   ],
   "source": [
    "np_array_1[2:] # rowu 2 olan ve ondan sonra gelen rowlari return edir "
   ]
  },
  {
   "cell_type": "code",
   "execution_count": 144,
   "id": "bfbeb650",
   "metadata": {},
   "outputs": [],
   "source": [
    "# Go on from Numpy documentation indexing and slicing "
   ]
  },
  {
   "cell_type": "raw",
   "id": "9bd740e8",
   "metadata": {},
   "source": [
    "You can also use np.nonzero() to select elements or indices from an array.\n",
    "You can use np.nonzero() to print the indices of elements"
   ]
  },
  {
   "cell_type": "raw",
   "id": "9d4e5ba6",
   "metadata": {},
   "source": [
    "If you want to generate a list of coordinates where the elements exist, you can zip the arrays, iterate over the list of coordinates, and print them"
   ]
  },
  {
   "cell_type": "code",
   "execution_count": 148,
   "id": "144e346b",
   "metadata": {},
   "outputs": [
    {
     "data": {
      "text/plain": [
       "array([[ 1,  2,  3],\n",
       "       [ 4,  5,  6],\n",
       "       [ 7,  8,  9],\n",
       "       [10, 11, 12]])"
      ]
     },
     "execution_count": 148,
     "metadata": {},
     "output_type": "execute_result"
    }
   ],
   "source": [
    "np_array_1"
   ]
  },
  {
   "cell_type": "code",
   "execution_count": 147,
   "id": "ec8bbe8d",
   "metadata": {},
   "outputs": [
    {
     "data": {
      "text/plain": [
       "(array([2, 2, 3, 3, 3], dtype=int64), array([1, 2, 0, 1, 2], dtype=int64))"
      ]
     },
     "execution_count": 147,
     "metadata": {},
     "output_type": "execute_result"
    }
   ],
   "source": [
    "# arrayin icinde 7-den kicik olan elementleri tapir ve ilk arrayde hemin elementlerin rowlarini, ikinci arrayde ise columnlarini yazir \n",
    "b=np.nonzero(np_array_1>7) \n",
    "b"
   ]
  },
  {
   "cell_type": "code",
   "execution_count": 2,
   "id": "622532b4",
   "metadata": {},
   "outputs": [
    {
     "data": {
      "text/plain": [
       "array([20, 21, 22, 23, 24, 25, 26, 27, 28, 29, 30, 31, 32, 33, 34, 35, 36,\n",
       "       37, 38, 39, 40, 41, 42, 43, 44, 45, 46, 47])"
      ]
     },
     "execution_count": 2,
     "metadata": {},
     "output_type": "execute_result"
    }
   ],
   "source": [
    "nd_array=np.arange(20,48)\n",
    "nd_array"
   ]
  },
  {
   "cell_type": "code",
   "execution_count": 3,
   "id": "5b4ac9ba",
   "metadata": {},
   "outputs": [
    {
     "data": {
      "text/plain": [
       "(28,)"
      ]
     },
     "execution_count": 3,
     "metadata": {},
     "output_type": "execute_result"
    }
   ],
   "source": [
    "nd_array.shape"
   ]
  },
  {
   "cell_type": "code",
   "execution_count": 4,
   "id": "341abba6",
   "metadata": {},
   "outputs": [
    {
     "data": {
      "text/plain": [
       "28"
      ]
     },
     "execution_count": 4,
     "metadata": {},
     "output_type": "execute_result"
    }
   ],
   "source": [
    "nd_array.size"
   ]
  },
  {
   "cell_type": "code",
   "execution_count": 5,
   "id": "cdeb13da",
   "metadata": {},
   "outputs": [
    {
     "data": {
      "text/plain": [
       "array([[20, 21, 22, 23, 24, 25, 26],\n",
       "       [27, 28, 29, 30, 31, 32, 33],\n",
       "       [34, 35, 36, 37, 38, 39, 40],\n",
       "       [41, 42, 43, 44, 45, 46, 47]])"
      ]
     },
     "execution_count": 5,
     "metadata": {},
     "output_type": "execute_result"
    }
   ],
   "source": [
    "nd_array.reshape(4,7)"
   ]
  },
  {
   "cell_type": "code",
   "execution_count": 6,
   "id": "6105f654",
   "metadata": {},
   "outputs": [
    {
     "data": {
      "text/plain": [
       "1"
      ]
     },
     "execution_count": 6,
     "metadata": {},
     "output_type": "execute_result"
    }
   ],
   "source": [
    "nd_array.ndim"
   ]
  },
  {
   "cell_type": "code",
   "execution_count": 7,
   "id": "30189c0c",
   "metadata": {},
   "outputs": [
    {
     "data": {
      "text/plain": [
       "(array([ 1,  4,  7, 10, 13, 16, 19, 22, 25], dtype=int64),)"
      ]
     },
     "execution_count": 7,
     "metadata": {},
     "output_type": "execute_result"
    }
   ],
   "source": [
    "new_array = np.nonzero(nd_array%3==0) # 3-e qaliqsiz bolunen elementleri secib onlarin column nomrelerini qaytardi\n",
    "new_array"
   ]
  },
  {
   "cell_type": "code",
   "execution_count": 8,
   "id": "b480a6e2",
   "metadata": {},
   "outputs": [
    {
     "data": {
      "text/plain": [
       "array([[10, 12, 14, 16, 18, 20],\n",
       "       [22, 24, 26, 28, 30, 32],\n",
       "       [32, 34, 36, 38, 40, 42]])"
      ]
     },
     "execution_count": 8,
     "metadata": {},
     "output_type": "execute_result"
    }
   ],
   "source": [
    "array_1=np.array([[10,12,14,16,18,20],[22,24,26,28,30,32],[32,34,36,38,40,42]])\n",
    "array_1"
   ]
  },
  {
   "cell_type": "code",
   "execution_count": 9,
   "id": "4a7bb6d1",
   "metadata": {},
   "outputs": [
    {
     "data": {
      "text/plain": [
       "(3, 6)"
      ]
     },
     "execution_count": 9,
     "metadata": {},
     "output_type": "execute_result"
    }
   ],
   "source": [
    "array_1.shape"
   ]
  },
  {
   "cell_type": "code",
   "execution_count": 10,
   "id": "4ed97512",
   "metadata": {},
   "outputs": [
    {
     "data": {
      "text/plain": [
       "2"
      ]
     },
     "execution_count": 10,
     "metadata": {},
     "output_type": "execute_result"
    }
   ],
   "source": [
    "array_1.ndim"
   ]
  },
  {
   "cell_type": "code",
   "execution_count": 11,
   "id": "cb82a4bb",
   "metadata": {},
   "outputs": [
    {
     "data": {
      "text/plain": [
       "(array([0, 0, 0, 1, 1, 1, 1, 1, 1, 2, 2, 2, 2, 2, 2], dtype=int64),\n",
       " array([3, 4, 5, 0, 1, 2, 3, 4, 5, 0, 1, 2, 3, 4, 5], dtype=int64))"
      ]
     },
     "execution_count": 11,
     "metadata": {},
     "output_type": "execute_result"
    }
   ],
   "source": [
    "# bir-bir rowlara baxir, ilk rowda hansiki indexi 0-dir serti odeyen 3 eded var, 1-ci ve 2-ci rowda ise 6 eded bu serti odeyir ona gore ilk arrayin icinde 6 dene 1, 6 den 2 qaytarir \n",
    "# ikinci arrayin icinde ise hemin ededlerin column nomrelerini qaytarir \n",
    "array_2=np.nonzero(array_1-15>0) \n",
    "array_2"
   ]
  },
  {
   "cell_type": "raw",
   "id": "453ca6f6",
   "metadata": {},
   "source": [
    "Note : The zip() function takes iterables (can be zero or more), aggregates them in a tuple, and returns it"
   ]
  },
  {
   "cell_type": "raw",
   "id": "46c787ae",
   "metadata": {},
   "source": [
    "zip() icinde verdiyimiz arraylerin rowlari olur mes: bir numpy arrayin [1] ve [2] rowlarinin elementlerini pair seklinde yigmaq isteyiremse zipin icinde bu iki reqemi yazmaliyam  "
   ]
  },
  {
   "cell_type": "code",
   "execution_count": 17,
   "id": "fd0b37f8",
   "metadata": {},
   "outputs": [
    {
     "data": {
      "text/plain": [
       "[(10, 32), (12, 34), (14, 36), (16, 38), (18, 40), (20, 42)]"
      ]
     },
     "execution_count": 17,
     "metadata": {},
     "output_type": "execute_result"
    }
   ],
   "source": [
    "create_coordinates = list(zip(array_1[0],array_1[2]))\n",
    "create_coordinates    "
   ]
  },
  {
   "cell_type": "code",
   "execution_count": 18,
   "id": "85bcfb97",
   "metadata": {},
   "outputs": [
    {
     "name": "stdout",
     "output_type": "stream",
     "text": [
      "(10, 32)\n",
      "(12, 34)\n",
      "(14, 36)\n",
      "(16, 38)\n",
      "(18, 40)\n",
      "(20, 42)\n"
     ]
    }
   ],
   "source": [
    "for coordinates in create_coordinates:\n",
    "    print(coordinates)"
   ]
  },
  {
   "cell_type": "code",
   "execution_count": 19,
   "id": "cabbb748",
   "metadata": {},
   "outputs": [
    {
     "data": {
      "text/plain": [
       "array([ 0,  1,  2,  3,  4,  5,  6,  7,  8,  9, 10, 11, 12, 13, 14, 15, 16,\n",
       "       17, 18, 19, 20])"
      ]
     },
     "execution_count": 19,
     "metadata": {},
     "output_type": "execute_result"
    }
   ],
   "source": [
    "np_array_2=np.arange(21)\n",
    "np_array_2"
   ]
  },
  {
   "cell_type": "code",
   "execution_count": 20,
   "id": "0bce9fc9",
   "metadata": {},
   "outputs": [
    {
     "data": {
      "text/plain": [
       "21"
      ]
     },
     "execution_count": 20,
     "metadata": {},
     "output_type": "execute_result"
    }
   ],
   "source": [
    "np_array_2.size"
   ]
  },
  {
   "cell_type": "code",
   "execution_count": 21,
   "id": "15e92647",
   "metadata": {},
   "outputs": [
    {
     "data": {
      "text/plain": [
       "array([[ 0,  1,  2],\n",
       "       [ 3,  4,  5],\n",
       "       [ 6,  7,  8],\n",
       "       [ 9, 10, 11],\n",
       "       [12, 13, 14],\n",
       "       [15, 16, 17],\n",
       "       [18, 19, 20]])"
      ]
     },
     "execution_count": 21,
     "metadata": {},
     "output_type": "execute_result"
    }
   ],
   "source": [
    "new_array= np_array_2.reshape(7,3)\n",
    "new_array"
   ]
  },
  {
   "cell_type": "code",
   "execution_count": 22,
   "id": "2304f35b",
   "metadata": {},
   "outputs": [
    {
     "data": {
      "text/plain": [
       "(7, 3)"
      ]
     },
     "execution_count": 22,
     "metadata": {},
     "output_type": "execute_result"
    }
   ],
   "source": [
    "new_array.shape"
   ]
  },
  {
   "cell_type": "raw",
   "id": "7db32dce",
   "metadata": {},
   "source": [
    "Coordinate yaraderken mentiq budur ki zip etdiyimiz zaman [] icindeki yazdigimiz reqemler rowlari gosterir ve qruplasdirir( meselen 2-ci rowun 0-ci elementi ile 3-cu rowun 0-ci elementini goturur "
   ]
  },
  {
   "cell_type": "code",
   "execution_count": 23,
   "id": "a8839196",
   "metadata": {},
   "outputs": [
    {
     "data": {
      "text/plain": [
       "[(6, 9), (7, 10), (8, 11)]"
      ]
     },
     "execution_count": 23,
     "metadata": {},
     "output_type": "execute_result"
    }
   ],
   "source": [
    "create_coordinates= list(zip(new_array[2],new_array[3]))\n",
    "create_coordinates"
   ]
  },
  {
   "cell_type": "code",
   "execution_count": 24,
   "id": "1df4a48f",
   "metadata": {},
   "outputs": [
    {
     "name": "stdout",
     "output_type": "stream",
     "text": [
      "(6, 9)\n",
      "(7, 10)\n",
      "(8, 11)\n"
     ]
    }
   ],
   "source": [
    "for coordinates in create_coordinates:\n",
    "    print(coordinates)"
   ]
  },
  {
   "cell_type": "code",
   "execution_count": 25,
   "id": "d4eeed57",
   "metadata": {},
   "outputs": [
    {
     "data": {
      "text/plain": [
       "array([[ 0,  1,  2,  3,  4,  5,  6],\n",
       "       [ 7,  8,  9, 10, 11, 12, 13],\n",
       "       [14, 15, 16, 17, 18, 19, 20]])"
      ]
     },
     "execution_count": 25,
     "metadata": {},
     "output_type": "execute_result"
    }
   ],
   "source": [
    "new_array_1= new_array.reshape(3,7)\n",
    "new_array_1"
   ]
  },
  {
   "cell_type": "code",
   "execution_count": 26,
   "id": "d286b0d6",
   "metadata": {},
   "outputs": [
    {
     "data": {
      "text/plain": [
       "[(0, 7), (1, 8), (2, 9), (3, 10), (4, 11), (5, 12), (6, 13)]"
      ]
     },
     "execution_count": 26,
     "metadata": {},
     "output_type": "execute_result"
    }
   ],
   "source": [
    "create_coordinates= list(zip(new_array_1[0],new_array_1[1]))\n",
    "create_coordinates"
   ]
  },
  {
   "cell_type": "code",
   "execution_count": 27,
   "id": "a3c3a66f",
   "metadata": {},
   "outputs": [
    {
     "name": "stdout",
     "output_type": "stream",
     "text": [
      "(0, 7)\n",
      "(1, 8)\n",
      "(2, 9)\n",
      "(3, 10)\n",
      "(4, 11)\n",
      "(5, 12)\n",
      "(6, 13)\n"
     ]
    }
   ],
   "source": [
    "for coordinates in create_coordinates:\n",
    "    print(coordinates)"
   ]
  },
  {
   "cell_type": "raw",
   "id": "6d6cba79",
   "metadata": {},
   "source": [
    " Slicing "
   ]
  },
  {
   "cell_type": "code",
   "execution_count": 28,
   "id": "21298842",
   "metadata": {},
   "outputs": [
    {
     "data": {
      "text/plain": [
       "array([[ 0,  1,  2,  3,  4,  5,  6],\n",
       "       [ 7,  8,  9, 10, 11, 12, 13],\n",
       "       [14, 15, 16, 17, 18, 19, 20]])"
      ]
     },
     "execution_count": 28,
     "metadata": {},
     "output_type": "execute_result"
    }
   ],
   "source": [
    "new_array_1"
   ]
  },
  {
   "cell_type": "code",
   "execution_count": 29,
   "id": "6d55d5bc",
   "metadata": {},
   "outputs": [
    {
     "data": {
      "text/plain": [
       "array([ 0,  1,  2,  3,  4,  5,  6,  7,  8,  9, 10, 11, 12, 13, 14, 15, 16,\n",
       "       17, 18, 19, 20])"
      ]
     },
     "execution_count": 29,
     "metadata": {},
     "output_type": "execute_result"
    }
   ],
   "source": [
    "array_1= new_array.reshape(21,)\n",
    "array_1"
   ]
  },
  {
   "cell_type": "code",
   "execution_count": 30,
   "id": "5d965111",
   "metadata": {},
   "outputs": [
    {
     "data": {
      "text/plain": [
       "array([ 4,  5,  6,  7,  8,  9, 10, 11, 12, 13, 14, 15, 16, 17])"
      ]
     },
     "execution_count": 30,
     "metadata": {},
     "output_type": "execute_result"
    }
   ],
   "source": [
    "array_1[4:18]"
   ]
  },
  {
   "cell_type": "raw",
   "id": "6cc6755b",
   "metadata": {},
   "source": [
    "We can stack array vertically and horizontally "
   ]
  },
  {
   "cell_type": "code",
   "execution_count": 31,
   "id": "09ee7873",
   "metadata": {},
   "outputs": [],
   "source": [
    "a1 = np.array([[1, 1],\n",
    "               [2, 2]])\n",
    "a2 = np.array([[3, 3],\n",
    "               [4, 4]])\n"
   ]
  },
  {
   "cell_type": "code",
   "execution_count": 41,
   "id": "53000d6a",
   "metadata": {},
   "outputs": [
    {
     "data": {
      "text/plain": [
       "array([[1, 1],\n",
       "       [2, 2],\n",
       "       [3, 3],\n",
       "       [4, 4]])"
      ]
     },
     "execution_count": 41,
     "metadata": {},
     "output_type": "execute_result"
    }
   ],
   "source": [
    "np.vstack((a1,a2)) # vertically "
   ]
  },
  {
   "cell_type": "code",
   "execution_count": 42,
   "id": "e91cd494",
   "metadata": {},
   "outputs": [
    {
     "data": {
      "text/plain": [
       "array([[1, 1, 3, 3],\n",
       "       [2, 2, 4, 4]])"
      ]
     },
     "execution_count": 42,
     "metadata": {},
     "output_type": "execute_result"
    }
   ],
   "source": [
    "np.hstack((a1,a2)) # horizontally "
   ]
  },
  {
   "cell_type": "code",
   "execution_count": 38,
   "id": "a5922ee8",
   "metadata": {},
   "outputs": [
    {
     "data": {
      "text/plain": [
       "array([10.        , 12.14285714, 14.28571429, 16.42857143, 18.57142857,\n",
       "       20.71428571, 22.85714286, 25.        , 27.14285714, 29.28571429,\n",
       "       31.42857143, 33.57142857, 35.71428571, 37.85714286, 40.        ])"
      ]
     },
     "execution_count": 38,
     "metadata": {},
     "output_type": "execute_result"
    }
   ],
   "source": [
    "np_array = np.linspace(10,40,15)\n",
    "np_array"
   ]
  },
  {
   "cell_type": "code",
   "execution_count": 40,
   "id": "1d8cd8a6",
   "metadata": {},
   "outputs": [
    {
     "data": {
      "text/plain": [
       "array([[10.        , 12.14285714, 14.28571429],\n",
       "       [16.42857143, 18.57142857, 20.71428571],\n",
       "       [22.85714286, 25.        , 27.14285714],\n",
       "       [29.28571429, 31.42857143, 33.57142857],\n",
       "       [35.71428571, 37.85714286, 40.        ]])"
      ]
     },
     "execution_count": 40,
     "metadata": {},
     "output_type": "execute_result"
    }
   ],
   "source": [
    "np_array_1 = np_array.reshape(5,3)\n",
    "np_array_1"
   ]
  },
  {
   "cell_type": "raw",
   "id": "fdb6786d",
   "metadata": {},
   "source": [
    "hsplit() emeliyyati tetbiq edilirken alinan outputun data type'i artiq list olur \n",
    "hplit(arrayin_adi, columnun sayi) \n",
    "Mentiq budur ki bir numpy arrayini bir nece numpy arrayine bolur ve hamisini bir listin icimnde saxlayir "
   ]
  },
  {
   "cell_type": "code",
   "execution_count": 48,
   "id": "18cebd0e",
   "metadata": {},
   "outputs": [
    {
     "data": {
      "text/plain": [
       "[array([[10.        ],\n",
       "        [16.42857143],\n",
       "        [22.85714286],\n",
       "        [29.28571429],\n",
       "        [35.71428571]]),\n",
       " array([[12.14285714],\n",
       "        [18.57142857],\n",
       "        [25.        ],\n",
       "        [31.42857143],\n",
       "        [37.85714286]]),\n",
       " array([[14.28571429],\n",
       "        [20.71428571],\n",
       "        [27.14285714],\n",
       "        [33.57142857],\n",
       "        [40.        ]])]"
      ]
     },
     "execution_count": 48,
     "metadata": {},
     "output_type": "execute_result"
    }
   ],
   "source": [
    "np_1= np.hsplit(np_array_1,3)\n",
    "np_1"
   ]
  },
  {
   "cell_type": "code",
   "execution_count": 50,
   "id": "cfa32cda",
   "metadata": {},
   "outputs": [
    {
     "data": {
      "text/plain": [
       "list"
      ]
     },
     "execution_count": 50,
     "metadata": {},
     "output_type": "execute_result"
    }
   ],
   "source": [
    "type(np_1)"
   ]
  },
  {
   "cell_type": "code",
   "execution_count": 51,
   "id": "a3434162",
   "metadata": {},
   "outputs": [
    {
     "data": {
      "text/plain": [
       "array([[10.        ],\n",
       "       [16.42857143],\n",
       "       [22.85714286],\n",
       "       [29.28571429],\n",
       "       [35.71428571]])"
      ]
     },
     "execution_count": 51,
     "metadata": {},
     "output_type": "execute_result"
    }
   ],
   "source": [
    "np_1[0] # listin icinden ilk elementi qaytardi, bu listin icindeki butun elementler ise numpy arraydir "
   ]
  },
  {
   "cell_type": "code",
   "execution_count": 53,
   "id": "060d85ae",
   "metadata": {},
   "outputs": [
    {
     "data": {
      "text/plain": [
       "array([[14.28571429],\n",
       "       [20.71428571],\n",
       "       [27.14285714],\n",
       "       [33.57142857],\n",
       "       [40.        ]])"
      ]
     },
     "execution_count": 53,
     "metadata": {},
     "output_type": "execute_result"
    }
   ],
   "source": [
    "np_1[2]"
   ]
  },
  {
   "cell_type": "code",
   "execution_count": 54,
   "id": "0fa8c593",
   "metadata": {},
   "outputs": [
    {
     "data": {
      "text/plain": [
       "numpy.ndarray"
      ]
     },
     "execution_count": 54,
     "metadata": {},
     "output_type": "execute_result"
    }
   ],
   "source": [
    "type(np_1[1])"
   ]
  },
  {
   "cell_type": "markdown",
   "id": "a844de28",
   "metadata": {},
   "source": [
    "If you wanted to split your array after the third and second column, you’d run:"
   ]
  },
  {
   "cell_type": "code",
   "execution_count": 60,
   "id": "e624d185",
   "metadata": {},
   "outputs": [
    {
     "data": {
      "text/plain": [
       "[array([[10.        , 12.14285714, 14.28571429],\n",
       "        [16.42857143, 18.57142857, 20.71428571],\n",
       "        [22.85714286, 25.        , 27.14285714],\n",
       "        [29.28571429, 31.42857143, 33.57142857],\n",
       "        [35.71428571, 37.85714286, 40.        ]]),\n",
       " array([], shape=(5, 0), dtype=float64),\n",
       " array([[14.28571429],\n",
       "        [20.71428571],\n",
       "        [27.14285714],\n",
       "        [33.57142857],\n",
       "        [40.        ]])]"
      ]
     },
     "execution_count": 60,
     "metadata": {},
     "output_type": "execute_result"
    }
   ],
   "source": [
    "np_2 = np.hsplit(np_array_1,(3,2))\n",
    "np_2"
   ]
  },
  {
   "cell_type": "code",
   "execution_count": 63,
   "id": "ee7e1362",
   "metadata": {},
   "outputs": [
    {
     "data": {
      "text/plain": [
       "[array([[10.        , 12.14285714, 14.28571429],\n",
       "        [16.42857143, 18.57142857, 20.71428571],\n",
       "        [22.85714286, 25.        , 27.14285714],\n",
       "        [29.28571429, 31.42857143, 33.57142857],\n",
       "        [35.71428571, 37.85714286, 40.        ]]),\n",
       " array([], shape=(5, 0), dtype=float64),\n",
       " array([[12.14285714, 14.28571429],\n",
       "        [18.57142857, 20.71428571],\n",
       "        [25.        , 27.14285714],\n",
       "        [31.42857143, 33.57142857],\n",
       "        [37.85714286, 40.        ]])]"
      ]
     },
     "execution_count": 63,
     "metadata": {},
     "output_type": "execute_result"
    }
   ],
   "source": [
    "np_3 = np.hsplit(np_array_1,(4,1))\n",
    "np_3"
   ]
  },
  {
   "cell_type": "code",
   "execution_count": 142,
   "id": "704365cb",
   "metadata": {},
   "outputs": [],
   "source": [
    "rg = np.random.default_rng(5)  # create instance of default random number generator\n",
    "a = np.ones((2, 3), dtype=int)\n",
    "b = rg.random((2, 3))"
   ]
  },
  {
   "cell_type": "code",
   "execution_count": 143,
   "id": "7647d7d4",
   "metadata": {},
   "outputs": [
    {
     "data": {
      "text/plain": [
       "array([[1, 1, 1],\n",
       "       [1, 1, 1]])"
      ]
     },
     "execution_count": 143,
     "metadata": {},
     "output_type": "execute_result"
    }
   ],
   "source": [
    "a"
   ]
  },
  {
   "cell_type": "code",
   "execution_count": 144,
   "id": "bbe843e3",
   "metadata": {},
   "outputs": [
    {
     "data": {
      "text/plain": [
       "array([[0.80500292, 0.80794079, 0.51532556],\n",
       "       [0.28580138, 0.0539307 , 0.38336888]])"
      ]
     },
     "execution_count": 144,
     "metadata": {},
     "output_type": "execute_result"
    }
   ],
   "source": [
    "b"
   ]
  },
  {
   "cell_type": "markdown",
   "id": "cbffc04e",
   "metadata": {},
   "source": [
    "#  slicing from documentation with exactly explanations "
   ]
  },
  {
   "cell_type": "code",
   "execution_count": 145,
   "id": "742b51ba",
   "metadata": {},
   "outputs": [
    {
     "data": {
      "text/plain": [
       "array([[10, 12, 13, 14, 15],\n",
       "       [18, 19, 23, 27, 36],\n",
       "       [45, 47, 41, 50, 34],\n",
       "       [32, 70, 65, 59, 51]])"
      ]
     },
     "execution_count": 145,
     "metadata": {},
     "output_type": "execute_result"
    }
   ],
   "source": [
    "# 2-dimensional array:\n",
    "numpy_array = np.array([[10,12,13,14,15],[18,19,23,27,36],[45,47,41,50,34],[32,70,65,59,51]])\n",
    "numpy_array"
   ]
  },
  {
   "cell_type": "code",
   "execution_count": 147,
   "id": "783df460",
   "metadata": {},
   "outputs": [
    {
     "data": {
      "text/plain": [
       "65"
      ]
     },
     "execution_count": 147,
     "metadata": {},
     "output_type": "execute_result"
    }
   ],
   "source": [
    "# slicing \n",
    "numpy_array[3,2]"
   ]
  },
  {
   "cell_type": "code",
   "execution_count": 148,
   "id": "7afd960a",
   "metadata": {},
   "outputs": [
    {
     "data": {
      "text/plain": [
       "45"
      ]
     },
     "execution_count": 148,
     "metadata": {},
     "output_type": "execute_result"
    }
   ],
   "source": [
    "numpy_array[2,0]"
   ]
  },
  {
   "cell_type": "raw",
   "id": "c4c6ff69",
   "metadata": {},
   "source": [
    "# vergulden evveli nece elemen goturmek istediyimizi gosterir(eslinde deqiq izahi row nomresini gosterir deyilir),vergulden sonrasi ise column nomresini gosterir \n",
    "numpy_array[0:4,3]\n",
    "array[ilk row nomresi: ikinci row nomresi(daxil deyil),column nomresi]\n",
    "\n",
    "important note : slicingde vergul row,column ayirir, : ise araligi gosterir \n",
    "meselen [1:4,0:3] rowu [1:4] araligindan sec deyir yani indexi 1,2,3 olanlari, columnu ise [0:3] araliginndan sec yani indexi 0,1,2 olanlari sec ve sonda her iki 'serti' odeyen elementleri output olaraq verir "
   ]
  },
  {
   "cell_type": "code",
   "execution_count": 153,
   "id": "53fb5d02",
   "metadata": {},
   "outputs": [
    {
     "data": {
      "text/plain": [
       "array([14, 27, 50, 59])"
      ]
     },
     "execution_count": 153,
     "metadata": {},
     "output_type": "execute_result"
    }
   ],
   "source": [
    "numpy_array[0:4,3]  # vergulden evveli nece element goturmek istediyimizi gosterir(eslinde deqiq izahi row nomresini gosterir deyilir),vergulden sonrasi ise column nomresini gosterir \n",
    "# burada 3-cu columnda olan butun elementleri goturdu cunki 0:4 row vermisik"
   ]
  },
  {
   "cell_type": "code",
   "execution_count": 154,
   "id": "7510fd16",
   "metadata": {},
   "outputs": [
    {
     "data": {
      "text/plain": [
       "array([14, 27])"
      ]
     },
     "execution_count": 154,
     "metadata": {},
     "output_type": "execute_result"
    }
   ],
   "source": [
    "numpy_array[0:2,3] # burada sadece 3-cu columda olan  rowu 0 ve 1-ci indexde yerlesen ededleri goturdu"
   ]
  },
  {
   "cell_type": "code",
   "execution_count": 156,
   "id": "8316ffc4",
   "metadata": {},
   "outputs": [
    {
     "data": {
      "text/plain": [
       "array([23, 41])"
      ]
     },
     "execution_count": 156,
     "metadata": {},
     "output_type": "execute_result"
    }
   ],
   "source": [
    "numpy_array[1:3,2] # 2-ci columda rowu 1,2 olan elementleri gotur"
   ]
  },
  {
   "cell_type": "code",
   "execution_count": 157,
   "id": "6bb54453",
   "metadata": {},
   "outputs": [
    {
     "data": {
      "text/plain": [
       "array([10, 18, 45, 32])"
      ]
     },
     "execution_count": 157,
     "metadata": {},
     "output_type": "execute_result"
    }
   ],
   "source": [
    "# eger columndaki butun elementleri almaq isteyirikse \n",
    "numpy_array[:,0]"
   ]
  },
  {
   "cell_type": "code",
   "execution_count": 158,
   "id": "e0813944",
   "metadata": {},
   "outputs": [
    {
     "data": {
      "text/plain": [
       "array([13, 23, 41, 65])"
      ]
     },
     "execution_count": 158,
     "metadata": {},
     "output_type": "execute_result"
    }
   ],
   "source": [
    "numpy_array[:,2]"
   ]
  },
  {
   "cell_type": "raw",
   "id": "6733f556",
   "metadata": {},
   "source": [
    "Vergulden evvel row nomresini, vergulden sonra ise column nomresini gosterir "
   ]
  },
  {
   "cell_type": "code",
   "execution_count": 159,
   "id": "09a97eb5",
   "metadata": {},
   "outputs": [
    {
     "data": {
      "text/plain": [
       "array([[10, 12, 13, 14, 15],\n",
       "       [18, 19, 23, 27, 36]])"
      ]
     },
     "execution_count": 159,
     "metadata": {},
     "output_type": "execute_result"
    }
   ],
   "source": [
    "numpy_array[0:2,:] "
   ]
  },
  {
   "cell_type": "code",
   "execution_count": 161,
   "id": "d9cb30f9",
   "metadata": {},
   "outputs": [
    {
     "data": {
      "text/plain": [
       "array([[18, 19, 23, 27, 36],\n",
       "       [45, 47, 41, 50, 34]])"
      ]
     },
     "execution_count": 161,
     "metadata": {},
     "output_type": "execute_result"
    }
   ],
   "source": [
    "numpy_array[1:3,:] # rowu 1 ve 2 olan arrayin columnlarinin hamisini goturur"
   ]
  },
  {
   "cell_type": "code",
   "execution_count": 162,
   "id": "dd26d556",
   "metadata": {},
   "outputs": [
    {
     "data": {
      "text/plain": [
       "array([[18, 19, 23],\n",
       "       [45, 47, 41]])"
      ]
     },
     "execution_count": 162,
     "metadata": {},
     "output_type": "execute_result"
    }
   ],
   "source": [
    "numpy_array[1:3,0:3] # row'u 1 ve 2 olan, columnu ise 0,1,2 olan elementleri return edir "
   ]
  },
  {
   "cell_type": "raw",
   "id": "9d977fbb",
   "metadata": {},
   "source": [
    "3-dimensional numpy arrayde slicing \n",
    "3-dimensional arrayde ikinci row, 3-cu column olur"
   ]
  },
  {
   "cell_type": "code",
   "execution_count": 163,
   "id": "eb6c5615",
   "metadata": {},
   "outputs": [
    {
     "data": {
      "text/plain": [
       "array([[[  0,   1,   2],\n",
       "        [ 10,  12,  13]],\n",
       "\n",
       "       [[100, 101, 102],\n",
       "        [110, 112, 113]]])"
      ]
     },
     "execution_count": 163,
     "metadata": {},
     "output_type": "execute_result"
    }
   ],
   "source": [
    "numpy_array_1 = np.array([[[  0,  1,  2],  \n",
    "                           [ 10, 12, 13]],\n",
    "                          [[100, 101, 102],\n",
    "                           [110, 112, 113]]])\n",
    "numpy_array_1"
   ]
  },
  {
   "cell_type": "code",
   "execution_count": 164,
   "id": "8fa32e07",
   "metadata": {},
   "outputs": [
    {
     "data": {
      "text/plain": [
       "(2, 2, 3)"
      ]
     },
     "execution_count": 164,
     "metadata": {},
     "output_type": "execute_result"
    }
   ],
   "source": [
    "numpy_array_1.shape"
   ]
  },
  {
   "cell_type": "code",
   "execution_count": 165,
   "id": "2902f493",
   "metadata": {},
   "outputs": [
    {
     "data": {
      "text/plain": [
       "array([[100, 101, 102],\n",
       "       [110, 112, 113]])"
      ]
     },
     "execution_count": 165,
     "metadata": {},
     "output_type": "execute_result"
    }
   ],
   "source": [
    "# yene de ilk evvelde row gelir ve indexi 1 olan rowu almaq ucun : \n",
    "numpy_array_1[1]"
   ]
  },
  {
   "cell_type": "code",
   "execution_count": 166,
   "id": "a01812ef",
   "metadata": {},
   "outputs": [
    {
     "data": {
      "text/plain": [
       "array([[ 0,  1,  2],\n",
       "       [10, 12, 13]])"
      ]
     },
     "execution_count": 166,
     "metadata": {},
     "output_type": "execute_result"
    }
   ],
   "source": [
    "numpy_array_1[0]"
   ]
  },
  {
   "cell_type": "code",
   "execution_count": 167,
   "id": "dc37b048",
   "metadata": {},
   "outputs": [
    {
     "data": {
      "text/plain": [
       "array([[100, 101, 102],\n",
       "       [110, 112, 113]])"
      ]
     },
     "execution_count": 167,
     "metadata": {},
     "output_type": "execute_result"
    }
   ],
   "source": [
    "# indexi 1 olan rowu almagin 2-ci yolu da var \n",
    "numpy_array_1[1,:,:]"
   ]
  },
  {
   "cell_type": "code",
   "execution_count": 169,
   "id": "a8adbcd0",
   "metadata": {},
   "outputs": [
    {
     "data": {
      "text/plain": [
       "array([[  2,  13],\n",
       "       [102, 113]])"
      ]
     },
     "execution_count": 169,
     "metadata": {},
     "output_type": "execute_result"
    }
   ],
   "source": [
    "numpy_array_1[:,:,2] # indexi 2 olan columnu( butun elementleri) qaytarir "
   ]
  },
  {
   "cell_type": "code",
   "execution_count": 170,
   "id": "5cfd3237",
   "metadata": {},
   "outputs": [
    {
     "data": {
      "text/plain": [
       "array([[  1,  12],\n",
       "       [101, 112]])"
      ]
     },
     "execution_count": 170,
     "metadata": {},
     "output_type": "execute_result"
    }
   ],
   "source": [
    "numpy_array_1[:,:,1]"
   ]
  },
  {
   "cell_type": "code",
   "execution_count": 173,
   "id": "ae8b81cc",
   "metadata": {},
   "outputs": [
    {
     "data": {
      "text/plain": [
       "array([[[  0,   1,   2],\n",
       "        [ 10,  12,  13]],\n",
       "\n",
       "       [[100, 101, 102],\n",
       "        [110, 112, 113]]])"
      ]
     },
     "execution_count": 173,
     "metadata": {},
     "output_type": "execute_result"
    }
   ],
   "source": [
    "numpy_array_1"
   ]
  },
  {
   "cell_type": "code",
   "execution_count": 171,
   "id": "af3ad18a",
   "metadata": {},
   "outputs": [
    {
     "data": {
      "text/plain": [
       "array([[ 10,  12,  13],\n",
       "       [110, 112, 113]])"
      ]
     },
     "execution_count": 171,
     "metadata": {},
     "output_type": "execute_result"
    }
   ],
   "source": [
    "numpy_array_1[:,1,:] "
   ]
  },
  {
   "cell_type": "code",
   "execution_count": null,
   "id": "4103315a",
   "metadata": {},
   "outputs": [],
   "source": [
    "# Modify elements of array"
   ]
  },
  {
   "cell_type": "code",
   "execution_count": 174,
   "id": "56048b56",
   "metadata": {},
   "outputs": [
    {
     "data": {
      "text/plain": [
       "array([[[ 1,  2,  3,  4,  5],\n",
       "        [ 6,  7,  8,  9, 10],\n",
       "        [11, 12, 13, 14, 15],\n",
       "        [16, 17, 18, 19, 20],\n",
       "        [21, 22, 23, 24, 25]]])"
      ]
     },
     "execution_count": 174,
     "metadata": {},
     "output_type": "execute_result"
    }
   ],
   "source": [
    "new_array = np.array([[[1,2,3,4,5],[6,7,8,9,10],[11,12,13,14,15],[16,17,18,19,20],[21,22,23,24,25]]])\n",
    "new_array"
   ]
  },
  {
   "cell_type": "code",
   "execution_count": 178,
   "id": "8ed1a51c",
   "metadata": {},
   "outputs": [
    {
     "data": {
      "text/plain": [
       "array([[ 1,  2,  3,  4,  5],\n",
       "       [ 6,  7,  8,  9, 10],\n",
       "       [11, 12, 13, 14, 15],\n",
       "       [16, 17, 18, 19, 20]])"
      ]
     },
     "execution_count": 178,
     "metadata": {},
     "output_type": "execute_result"
    }
   ],
   "source": [
    "new_array_1 = np.array([[1,2,3,4,5],[6,7,8,9,10],[11,12,13,14,15],[16,17,18,19,20]])\n",
    "new_array_1"
   ]
  },
  {
   "cell_type": "code",
   "execution_count": 185,
   "id": "71c08060",
   "metadata": {},
   "outputs": [],
   "source": [
    "new_array_1[:,2] = 100 # indexi 2 olan columnun butun elementlerini 100-e cevirdi"
   ]
  },
  {
   "cell_type": "code",
   "execution_count": 186,
   "id": "10fd3aec",
   "metadata": {},
   "outputs": [
    {
     "data": {
      "text/plain": [
       "array([[  1,   2, 100,   4,   5],\n",
       "       [  6,   7, 100,   9,  10],\n",
       "       [ 11,  12, 100,  14,  15],\n",
       "       [ 16,  17, 100,  19,  20]])"
      ]
     },
     "execution_count": 186,
     "metadata": {},
     "output_type": "execute_result"
    }
   ],
   "source": [
    "new_array_1"
   ]
  },
  {
   "cell_type": "code",
   "execution_count": 190,
   "id": "30e6a0fb",
   "metadata": {},
   "outputs": [
    {
     "data": {
      "text/plain": [
       "array([[ 35,  35,  35,  35,  35],\n",
       "       [  6,   7, 100,   9,  10],\n",
       "       [ 11,  12, 100,  14,  15],\n",
       "       [ 16,  17, 100,  19,  20]])"
      ]
     },
     "execution_count": 190,
     "metadata": {},
     "output_type": "execute_result"
    }
   ],
   "source": [
    "new_array_1[0] = 35\n",
    "new_array_1"
   ]
  },
  {
   "cell_type": "code",
   "execution_count": 191,
   "id": "e9bc0062",
   "metadata": {},
   "outputs": [
    {
     "data": {
      "text/plain": [
       "array([[[ 1,  2,  3,  4,  5],\n",
       "        [ 6,  7,  8,  9, 10],\n",
       "        [11, 12, 13, 14, 15],\n",
       "        [16, 17, 18, 19, 20],\n",
       "        [21, 22, 23, 24, 25]]])"
      ]
     },
     "execution_count": 191,
     "metadata": {},
     "output_type": "execute_result"
    }
   ],
   "source": [
    "new_array"
   ]
  },
  {
   "cell_type": "code",
   "execution_count": 202,
   "id": "d476673c",
   "metadata": {},
   "outputs": [
    {
     "data": {
      "text/plain": [
       "14"
      ]
     },
     "execution_count": 202,
     "metadata": {},
     "output_type": "execute_result"
    }
   ],
   "source": [
    "new_array[0,2,3] # 3-dimensional arrayde ikinci row, 3-cu column olur"
   ]
  },
  {
   "cell_type": "code",
   "execution_count": 203,
   "id": "d11215d4",
   "metadata": {},
   "outputs": [
    {
     "data": {
      "text/plain": [
       "array([[[ 1,  2,  3,  4,  5],\n",
       "        [ 6,  7,  8,  9, 10],\n",
       "        [11, 12, 13, 28, 15],\n",
       "        [16, 17, 18, 19, 20],\n",
       "        [21, 22, 23, 24, 25]]])"
      ]
     },
     "execution_count": 203,
     "metadata": {},
     "output_type": "execute_result"
    }
   ],
   "source": [
    "new_array[0,2,3] = 28\n",
    "new_array"
   ]
  },
  {
   "cell_type": "code",
   "execution_count": 204,
   "id": "f6f056f2",
   "metadata": {},
   "outputs": [
    {
     "data": {
      "text/plain": [
       "array([17, 18, 19, 20, 21, 22, 23, 24, 25, 26, 27, 28, 29])"
      ]
     },
     "execution_count": 204,
     "metadata": {},
     "output_type": "execute_result"
    }
   ],
   "source": [
    "nd_array = np.arange(17,30)\n",
    "nd_array"
   ]
  },
  {
   "cell_type": "code",
   "execution_count": 205,
   "id": "0e0bdce1",
   "metadata": {},
   "outputs": [
    {
     "data": {
      "text/plain": [
       "array([17, 18, 19, 20, 21, 22, 23, 24, 25, 26, 27, 28, 29])"
      ]
     },
     "execution_count": 205,
     "metadata": {},
     "output_type": "execute_result"
    }
   ],
   "source": [
    "new_np_array = nd_array.copy()\n",
    "new_np_array"
   ]
  },
  {
   "cell_type": "code",
   "execution_count": 206,
   "id": "67eef398",
   "metadata": {},
   "outputs": [
    {
     "data": {
      "text/plain": [
       "array([17, 18, 19, 20, 21, 22, 23, 24, 25, 26,  5, 28, 29])"
      ]
     },
     "execution_count": 206,
     "metadata": {},
     "output_type": "execute_result"
    }
   ],
   "source": [
    "nd_array[10]=5\n",
    "nd_array"
   ]
  },
  {
   "cell_type": "code",
   "execution_count": 209,
   "id": "eabb4ee5",
   "metadata": {},
   "outputs": [
    {
     "data": {
      "text/plain": [
       "array([17, 18, 19, 45, 21, 22, 23, 24, 25, 26, 27, 28, 29])"
      ]
     },
     "execution_count": 209,
     "metadata": {},
     "output_type": "execute_result"
    }
   ],
   "source": [
    "new_np_array[3]=45\n",
    "new_np_array"
   ]
  },
  {
   "cell_type": "code",
   "execution_count": 210,
   "id": "5d6edcfe",
   "metadata": {},
   "outputs": [
    {
     "data": {
      "text/plain": [
       "array([17, 18, 19, 20, 21, 22, 23, 24, 25, 26,  5, 28, 29])"
      ]
     },
     "execution_count": 210,
     "metadata": {},
     "output_type": "execute_result"
    }
   ],
   "source": [
    "nd_array"
   ]
  },
  {
   "cell_type": "markdown",
   "id": "0956ae4b",
   "metadata": {},
   "source": [
    "# Broadcasting"
   ]
  },
  {
   "cell_type": "raw",
   "id": "299d82db",
   "metadata": {},
   "source": [
    "NumPy understands that the multiplication should happen with each cell. That concept is called broadcasting. Broadcasting is a mechanism that allows NumPy to perform operations on arrays of different shapes. The dimensions of your array must be compatible, for example, when the dimensions of both arrays are equal or when one of them is 1. If the dimensions are not compatible, you will get a ValueError."
   ]
  },
  {
   "cell_type": "code",
   "execution_count": 212,
   "id": "4bce1ec8",
   "metadata": {},
   "outputs": [
    {
     "data": {
      "text/plain": [
       "array([[[1., 1., 1., 1.],\n",
       "        [1., 1., 1., 1.],\n",
       "        [1., 1., 1., 1.]],\n",
       "\n",
       "       [[1., 1., 1., 1.],\n",
       "        [1., 1., 1., 1.],\n",
       "        [1., 1., 1., 1.]],\n",
       "\n",
       "       [[1., 1., 1., 1.],\n",
       "        [1., 1., 1., 1.],\n",
       "        [1., 1., 1., 1.]],\n",
       "\n",
       "       [[1., 1., 1., 1.],\n",
       "        [1., 1., 1., 1.],\n",
       "        [1., 1., 1., 1.]],\n",
       "\n",
       "       [[1., 1., 1., 1.],\n",
       "        [1., 1., 1., 1.],\n",
       "        [1., 1., 1., 1.]]])"
      ]
     },
     "execution_count": 212,
     "metadata": {},
     "output_type": "execute_result"
    }
   ],
   "source": [
    "# Creating matrices \n",
    "a= np.ones((5,3,4)) # demeli ilk reqem arraylerin sayini, ikinci row sayi, ucuncu column sayini gosterir \n",
    "a"
   ]
  },
  {
   "cell_type": "code",
   "execution_count": 213,
   "id": "40f327c7",
   "metadata": {},
   "outputs": [
    {
     "data": {
      "text/plain": [
       "array([[[0., 0., 0., 0., 0.],\n",
       "        [0., 0., 0., 0., 0.]],\n",
       "\n",
       "       [[0., 0., 0., 0., 0.],\n",
       "        [0., 0., 0., 0., 0.]],\n",
       "\n",
       "       [[0., 0., 0., 0., 0.],\n",
       "        [0., 0., 0., 0., 0.]],\n",
       "\n",
       "       [[0., 0., 0., 0., 0.],\n",
       "        [0., 0., 0., 0., 0.]],\n",
       "\n",
       "       [[0., 0., 0., 0., 0.],\n",
       "        [0., 0., 0., 0., 0.]],\n",
       "\n",
       "       [[0., 0., 0., 0., 0.],\n",
       "        [0., 0., 0., 0., 0.]],\n",
       "\n",
       "       [[0., 0., 0., 0., 0.],\n",
       "        [0., 0., 0., 0., 0.]]])"
      ]
     },
     "execution_count": 213,
     "metadata": {},
     "output_type": "execute_result"
    }
   ],
   "source": [
    "b= np.zeros((7,2,5))\n",
    "b"
   ]
  },
  {
   "cell_type": "raw",
   "id": "baf7aedf",
   "metadata": {},
   "source": [
    "# the simplest way to generate random numbers\n",
    "rng = np.random.default_rng(0)\n",
    "rng.random(3)"
   ]
  },
  {
   "cell_type": "code",
   "execution_count": 215,
   "id": "2f733a61",
   "metadata": {},
   "outputs": [
    {
     "data": {
      "text/plain": [
       "array([0.94305611, 0.51132755, 0.97624371, 0.08083602, 0.60735583,\n",
       "       0.37648658, 0.80190121, 0.17452782, 0.87163527, 0.5439414 ])"
      ]
     },
     "execution_count": 215,
     "metadata": {},
     "output_type": "execute_result"
    }
   ],
   "source": [
    "# the simplest way to generate random numbers\n",
    "rng = np.random.default_rng(4)\n",
    "rng.random(10)"
   ]
  },
  {
   "cell_type": "code",
   "execution_count": 219,
   "id": "adcc1ae4",
   "metadata": {},
   "outputs": [
    {
     "data": {
      "text/plain": [
       "array([[0.63696169, 0.26978671, 0.04097352, 0.01652764, 0.81327024],\n",
       "       [0.91275558, 0.60663578, 0.72949656, 0.54362499, 0.93507242],\n",
       "       [0.81585355, 0.0027385 , 0.85740428, 0.03358558, 0.72965545],\n",
       "       [0.17565562, 0.86317892, 0.54146122, 0.29971189, 0.42268722]])"
      ]
     },
     "execution_count": 219,
     "metadata": {},
     "output_type": "execute_result"
    }
   ],
   "source": [
    "# the simplest way to generate random numbers\n",
    "rng_1 = np.random.default_rng(0)\n",
    "rng_1.random((4,5))"
   ]
  },
  {
   "cell_type": "code",
   "execution_count": 220,
   "id": "b0ba6aa4",
   "metadata": {
    "scrolled": true
   },
   "outputs": [
    {
     "data": {
      "text/plain": [
       "array([[[0.63696169, 0.26978671, 0.04097352, 0.01652764, 0.81327024],\n",
       "        [0.91275558, 0.60663578, 0.72949656, 0.54362499, 0.93507242]],\n",
       "\n",
       "       [[0.81585355, 0.0027385 , 0.85740428, 0.03358558, 0.72965545],\n",
       "        [0.17565562, 0.86317892, 0.54146122, 0.29971189, 0.42268722]],\n",
       "\n",
       "       [[0.02831967, 0.12428328, 0.67062441, 0.64718951, 0.61538511],\n",
       "        [0.38367755, 0.99720994, 0.98083534, 0.68554198, 0.65045928]],\n",
       "\n",
       "       [[0.68844673, 0.38892142, 0.13509651, 0.72148834, 0.52535432],\n",
       "        [0.31024188, 0.48583536, 0.88948783, 0.93404352, 0.3577952 ]]])"
      ]
     },
     "execution_count": 220,
     "metadata": {},
     "output_type": "execute_result"
    }
   ],
   "source": [
    "# the simplest way to generate random numbers\n",
    "rng = np.random.default_rng(0)\n",
    "rng.random((4,2,5))"
   ]
  },
  {
   "cell_type": "raw",
   "id": "3c4f72e5",
   "metadata": {},
   "source": [
    "Generating random numbers "
   ]
  },
  {
   "cell_type": "markdown",
   "id": "f8bf9ea0",
   "metadata": {},
   "source": [
    "If we need wide and deep information about random in python:\n",
    "https://numpy.org/doc/stable/reference/random/index.html#numpyrandom"
   ]
  },
  {
   "cell_type": "code",
   "execution_count": 228,
   "id": "ce8e44ad",
   "metadata": {},
   "outputs": [
    {
     "data": {
      "text/plain": [
       "array([[0, 0, 3, 8],\n",
       "       [4, 7, 3, 2]], dtype=int64)"
      ]
     },
     "execution_count": 228,
     "metadata": {},
     "output_type": "execute_result"
    }
   ],
   "source": [
    "rng.integers(10, size=(2, 4))"
   ]
  },
  {
   "cell_type": "code",
   "execution_count": 229,
   "id": "e43a16dd",
   "metadata": {},
   "outputs": [
    {
     "data": {
      "text/plain": [
       "array([[3, 4, 0, 0],\n",
       "       [3, 1, 2, 0]], dtype=int64)"
      ]
     },
     "execution_count": 229,
     "metadata": {},
     "output_type": "execute_result"
    }
   ],
   "source": [
    "rng.integers(5, size=(2, 4))"
   ]
  },
  {
   "cell_type": "raw",
   "id": "1a776ed9",
   "metadata": {},
   "source": [
    "Find unique values of array which is very important operation for working in data science "
   ]
  },
  {
   "cell_type": "code",
   "execution_count": 230,
   "id": "29e6003b",
   "metadata": {},
   "outputs": [
    {
     "data": {
      "text/plain": [
       "array([11, 11, 12, 13, 14, 15, 16, 17, 12, 13, 11, 14, 18, 19, 20])"
      ]
     },
     "execution_count": 230,
     "metadata": {},
     "output_type": "execute_result"
    }
   ],
   "source": [
    "array_1= np.array([11, 11, 12, 13, 14, 15, 16, 17, 12, 13, 11, 14, 18, 19, 20])\n",
    "array_1"
   ]
  },
  {
   "cell_type": "code",
   "execution_count": 231,
   "id": "5afd25fa",
   "metadata": {},
   "outputs": [
    {
     "data": {
      "text/plain": [
       "array([11, 12, 13, 14, 15, 16, 17, 18, 19, 20])"
      ]
     },
     "execution_count": 231,
     "metadata": {},
     "output_type": "execute_result"
    }
   ],
   "source": [
    "np.unique(array_1)"
   ]
  },
  {
   "cell_type": "code",
   "execution_count": 234,
   "id": "9ae228aa",
   "metadata": {},
   "outputs": [
    {
     "data": {
      "text/plain": [
       "array([ 0,  2,  3,  4,  5,  6,  7, 12, 13, 14], dtype=int64)"
      ]
     },
     "execution_count": 234,
     "metadata": {},
     "output_type": "execute_result"
    }
   ],
   "source": [
    "unique_values, indices_list = np.unique(array_1, return_index=True)\n",
    "indices_list # return the numpy array which represent the indexes of unique values \n",
    "# type(indices_list)"
   ]
  },
  {
   "cell_type": "code",
   "execution_count": 237,
   "id": "eb27a074",
   "metadata": {},
   "outputs": [
    {
     "data": {
      "text/plain": [
       "array([ 0,  2,  3,  4,  5,  6,  7, 12, 13, 14], dtype=int64)"
      ]
     },
     "execution_count": 237,
     "metadata": {},
     "output_type": "execute_result"
    }
   ],
   "source": [
    "unique_1,indexes = np.unique(array_1,return_index = True)\n",
    "indexes"
   ]
  },
  {
   "cell_type": "code",
   "execution_count": 238,
   "id": "3aaff324",
   "metadata": {},
   "outputs": [
    {
     "data": {
      "text/plain": [
       "array([11, 12, 13, 14, 15, 16, 17, 18, 19, 20])"
      ]
     },
     "execution_count": 238,
     "metadata": {},
     "output_type": "execute_result"
    }
   ],
   "source": [
    "unique_1"
   ]
  },
  {
   "cell_type": "code",
   "execution_count": 241,
   "id": "94b54037",
   "metadata": {},
   "outputs": [
    {
     "name": "stdout",
     "output_type": "stream",
     "text": [
      "[11 11 12 13 14 15 16 17 12 13 11 14 18 19 20]\n",
      "[11 12 13 14 15 16 17 18 19 20]\n",
      "[3 2 2 2 1 1 1 1 1 1]\n"
     ]
    }
   ],
   "source": [
    "# unique deyerlerin arrayde nece defe tekrarlandigini gosterir \n",
    "unique_values, occurrence_count = np.unique(array_1, return_counts=True)\n",
    "print(array_1)\n",
    "print(unique_values)\n",
    "print(occurrence_count)"
   ]
  },
  {
   "cell_type": "markdown",
   "id": "3adb2943",
   "metadata": {},
   "source": [
    "#  Transposing and reshaping "
   ]
  },
  {
   "cell_type": "raw",
   "id": "8ff9a6a5",
   "metadata": {},
   "source": [
    "You can also use .transpose() to reverse or change the axes of an array according to the values you specify."
   ]
  },
  {
   "cell_type": "code",
   "execution_count": 253,
   "id": "297c7766",
   "metadata": {},
   "outputs": [
    {
     "data": {
      "text/plain": [
       "array([[0.62135041, 0.8184994 , 0.72387631, 0.70291416],\n",
       "       [0.67620536, 0.46936798, 0.97385286, 0.40621032],\n",
       "       [0.35833403, 0.33858609, 0.85116304, 0.29049416]])"
      ]
     },
     "execution_count": 253,
     "metadata": {},
     "output_type": "execute_result"
    }
   ],
   "source": [
    "array_2=np.random.default_rng()\n",
    "array_2.random((3,4))"
   ]
  },
  {
   "cell_type": "code",
   "execution_count": 256,
   "id": "ed733834",
   "metadata": {},
   "outputs": [
    {
     "data": {
      "text/plain": [
       "numpy.random._generator.Generator"
      ]
     },
     "execution_count": 256,
     "metadata": {},
     "output_type": "execute_result"
    }
   ],
   "source": [
    "type(array_2)"
   ]
  },
  {
   "cell_type": "code",
   "execution_count": 260,
   "id": "285c0ad5",
   "metadata": {},
   "outputs": [
    {
     "data": {
      "text/plain": [
       "array([[40, 41, 42, 43, 44],\n",
       "       [45, 46, 47, 48, 49],\n",
       "       [50, 51, 52, 53, 54],\n",
       "       [55, 56, 57, 58, 59]])"
      ]
     },
     "execution_count": 260,
     "metadata": {},
     "output_type": "execute_result"
    }
   ],
   "source": [
    "array_4= np.arange(40,60)\n",
    "array_5 = array_4.reshape(4,5)\n",
    "array_5"
   ]
  },
  {
   "cell_type": "code",
   "execution_count": 261,
   "id": "f98dfd63",
   "metadata": {},
   "outputs": [
    {
     "data": {
      "text/plain": [
       "array([[40, 45, 50, 55],\n",
       "       [41, 46, 51, 56],\n",
       "       [42, 47, 52, 57],\n",
       "       [43, 48, 53, 58],\n",
       "       [44, 49, 54, 59]])"
      ]
     },
     "execution_count": 261,
     "metadata": {},
     "output_type": "execute_result"
    }
   ],
   "source": [
    "array_5.transpose() # rowlarla columnlarin yeri deyisir"
   ]
  },
  {
   "cell_type": "code",
   "execution_count": 262,
   "id": "d1016077",
   "metadata": {},
   "outputs": [
    {
     "data": {
      "text/plain": [
       "array([[40, 41, 42, 43, 44],\n",
       "       [45, 46, 47, 48, 49],\n",
       "       [50, 51, 52, 53, 54],\n",
       "       [55, 56, 57, 58, 59]])"
      ]
     },
     "execution_count": 262,
     "metadata": {},
     "output_type": "execute_result"
    }
   ],
   "source": [
    "array_5"
   ]
  },
  {
   "cell_type": "code",
   "execution_count": 263,
   "id": "11ed9689",
   "metadata": {},
   "outputs": [
    {
     "data": {
      "text/plain": [
       "array([[40, 45, 50, 55],\n",
       "       [41, 46, 51, 56],\n",
       "       [42, 47, 52, 57],\n",
       "       [43, 48, 53, 58],\n",
       "       [44, 49, 54, 59]])"
      ]
     },
     "execution_count": 263,
     "metadata": {},
     "output_type": "execute_result"
    }
   ],
   "source": [
    "array_5.T # transpose etmeyin ikinci yoludur "
   ]
  },
  {
   "cell_type": "code",
   "execution_count": 264,
   "id": "939b6fc4",
   "metadata": {},
   "outputs": [
    {
     "data": {
      "text/plain": [
       "array([[40, 41, 42, 43, 44],\n",
       "       [45, 46, 47, 48, 49],\n",
       "       [50, 51, 52, 53, 54],\n",
       "       [55, 56, 57, 58, 59]])"
      ]
     },
     "execution_count": 264,
     "metadata": {},
     "output_type": "execute_result"
    }
   ],
   "source": [
    "array_5"
   ]
  },
  {
   "cell_type": "code",
   "execution_count": 266,
   "id": "d85f92f9",
   "metadata": {},
   "outputs": [
    {
     "data": {
      "text/plain": [
       "array([[59, 58, 57, 56, 55],\n",
       "       [54, 53, 52, 51, 50],\n",
       "       [49, 48, 47, 46, 45],\n",
       "       [44, 43, 42, 41, 40]])"
      ]
     },
     "execution_count": 266,
     "metadata": {},
     "output_type": "execute_result"
    }
   ],
   "source": [
    "reverse_of_array = np.flip(array_5)\n",
    "reverse_of_array"
   ]
  },
  {
   "cell_type": "code",
   "execution_count": 267,
   "id": "bf41697c",
   "metadata": {},
   "outputs": [
    {
     "data": {
      "text/plain": [
       "array([[55, 56, 57, 58, 59],\n",
       "       [50, 51, 52, 53, 54],\n",
       "       [45, 46, 47, 48, 49],\n",
       "       [40, 41, 42, 43, 44]])"
      ]
     },
     "execution_count": 267,
     "metadata": {},
     "output_type": "execute_result"
    }
   ],
   "source": [
    "reverse_of_array = np.flip(array_5, axis = 0)\n",
    "reverse_of_array"
   ]
  },
  {
   "cell_type": "code",
   "execution_count": 268,
   "id": "370f2a75",
   "metadata": {},
   "outputs": [
    {
     "data": {
      "text/plain": [
       "array([[44, 43, 42, 41, 40],\n",
       "       [49, 48, 47, 46, 45],\n",
       "       [54, 53, 52, 51, 50],\n",
       "       [59, 58, 57, 56, 55]])"
      ]
     },
     "execution_count": 268,
     "metadata": {},
     "output_type": "execute_result"
    }
   ],
   "source": [
    "reverse_of_array = np.flip(array_5, axis = 1)\n",
    "reverse_of_array"
   ]
  },
  {
   "cell_type": "code",
   "execution_count": 272,
   "id": "6e62fbc1",
   "metadata": {},
   "outputs": [
    {
     "data": {
      "text/plain": [
       "array([19, 18, 17, 16, 15, 14, 13, 12, 11, 10])"
      ]
     },
     "execution_count": 272,
     "metadata": {},
     "output_type": "execute_result"
    }
   ],
   "source": [
    "array_6 = np.arange(10,20)\n",
    "reversed_array = np.flip(array_6)\n",
    "reversed_array"
   ]
  },
  {
   "cell_type": "code",
   "execution_count": 275,
   "id": "4f82c4a8",
   "metadata": {},
   "outputs": [
    {
     "data": {
      "text/plain": [
       "array([57, 52, 47, 42])"
      ]
     },
     "execution_count": 275,
     "metadata": {},
     "output_type": "execute_result"
    }
   ],
   "source": [
    "array_7 = np.array(([[44, 43, 42, 41, 40],\n",
    "                     [49, 48, 47, 46, 45],\n",
    "                     [54, 53, 52, 51, 50],\n",
    "                     [59, 58, 57, 56, 55]]))\n",
    "array_7\n",
    "reversed_array = np.flip(array_7[:,2]) # column\n",
    "reversed_array"
   ]
  },
  {
   "cell_type": "code",
   "execution_count": 291,
   "id": "bbb238c1",
   "metadata": {},
   "outputs": [
    {
     "data": {
      "text/plain": [
       "array([ 45, 100,  47,  48,  49])"
      ]
     },
     "execution_count": 291,
     "metadata": {},
     "output_type": "execute_result"
    }
   ],
   "source": [
    "reversed_array_1 = np.flip(array_7[1]) # row \n",
    "reversed_array_1 "
   ]
  },
  {
   "cell_type": "raw",
   "id": "0cf5372b",
   "metadata": {},
   "source": [
    "There are two popular ways to flatten an array: .flatten() and .ravel(). The primary difference between the two is that the new array created using ravel() is actually a reference to the parent array (i.e., a “view”). This means that any changes to the new array will affect the parent array as well. Since ravel does not create a copy, it’s memory efficient."
   ]
  },
  {
   "cell_type": "code",
   "execution_count": 296,
   "id": "7824bb7b",
   "metadata": {},
   "outputs": [
    {
     "data": {
      "text/plain": [
       "array([[ 44,  43,  42,  41,  40],\n",
       "       [ 49,  48,  47, 100,  45],\n",
       "       [ 54,  53,  52,  51,  50],\n",
       "       [ 59,  58,  57,  56,  55]])"
      ]
     },
     "execution_count": 296,
     "metadata": {},
     "output_type": "execute_result"
    }
   ],
   "source": [
    "array_7"
   ]
  },
  {
   "cell_type": "code",
   "execution_count": 297,
   "id": "b949d7ea",
   "metadata": {},
   "outputs": [
    {
     "data": {
      "text/plain": [
       "array([ 44,  43,  42,  41,  40,  49,  48,  47, 100,  45,  54,  53,  52,\n",
       "        51,  50,  59,  58,  57,  56,  55])"
      ]
     },
     "execution_count": 297,
     "metadata": {},
     "output_type": "execute_result"
    }
   ],
   "source": [
    "new_element= array_7.flatten()\n",
    "new_element"
   ]
  },
  {
   "cell_type": "raw",
   "id": "1a3f2868",
   "metadata": {},
   "source": [
    "Just element of new array will modified because I use flatten()"
   ]
  },
  {
   "cell_type": "code",
   "execution_count": 298,
   "id": "0838a067",
   "metadata": {},
   "outputs": [
    {
     "data": {
      "text/plain": [
       "array([ 44,  43,  42,  41,  40,  49,  48,  47, 100,  45, 200,  53,  52,\n",
       "        51,  50,  59,  58,  57,  56,  55])"
      ]
     },
     "execution_count": 298,
     "metadata": {},
     "output_type": "execute_result"
    }
   ],
   "source": [
    "new_element[10]=200\n",
    "new_element"
   ]
  },
  {
   "cell_type": "code",
   "execution_count": 299,
   "id": "22d5c367",
   "metadata": {},
   "outputs": [
    {
     "data": {
      "text/plain": [
       "array([[ 44,  43,  42,  41,  40],\n",
       "       [ 49,  48,  47, 100,  45],\n",
       "       [ 54,  53,  52,  51,  50],\n",
       "       [ 59,  58,  57,  56,  55]])"
      ]
     },
     "execution_count": 299,
     "metadata": {},
     "output_type": "execute_result"
    }
   ],
   "source": [
    "array_7"
   ]
  },
  {
   "cell_type": "code",
   "execution_count": 304,
   "id": "d68afbbd",
   "metadata": {},
   "outputs": [
    {
     "data": {
      "text/plain": [
       "array([[22, 23, 24, 25, 26],\n",
       "       [27, 28, 29, 30, 31],\n",
       "       [32, 33, 34, 35, 36],\n",
       "       [37, 38, 39, 40, 41]])"
      ]
     },
     "execution_count": 304,
     "metadata": {},
     "output_type": "execute_result"
    }
   ],
   "source": [
    "array_8 = np.array([[22,23,24,25,26],[27,28,29,30,31],[32,33,34,35,36],[37,38,39,40,41]])\n",
    "array_8"
   ]
  },
  {
   "cell_type": "code",
   "execution_count": 305,
   "id": "e70d9b2c",
   "metadata": {},
   "outputs": [
    {
     "data": {
      "text/plain": [
       "2"
      ]
     },
     "execution_count": 305,
     "metadata": {},
     "output_type": "execute_result"
    }
   ],
   "source": [
    "array_8.ndim"
   ]
  },
  {
   "cell_type": "code",
   "execution_count": 306,
   "id": "b64d4475",
   "metadata": {},
   "outputs": [
    {
     "data": {
      "text/plain": [
       "array([22, 23, 24, 25, 26, 27, 28, 29, 30, 31, 32, 33, 34, 35, 36, 37, 38,\n",
       "       39, 40, 41])"
      ]
     },
     "execution_count": 306,
     "metadata": {},
     "output_type": "execute_result"
    }
   ],
   "source": [
    "new_array_9 = array_8.ravel()\n",
    "new_array_9"
   ]
  },
  {
   "cell_type": "code",
   "execution_count": 307,
   "id": "b1cb5a1e",
   "metadata": {},
   "outputs": [
    {
     "data": {
      "text/plain": [
       "1"
      ]
     },
     "execution_count": 307,
     "metadata": {},
     "output_type": "execute_result"
    }
   ],
   "source": [
    "new_array_9.ndim"
   ]
  },
  {
   "cell_type": "code",
   "execution_count": 308,
   "id": "bc0f86a1",
   "metadata": {},
   "outputs": [],
   "source": [
    "new_array_9[5]= 218"
   ]
  },
  {
   "cell_type": "code",
   "execution_count": 309,
   "id": "efee23d5",
   "metadata": {},
   "outputs": [
    {
     "name": "stdout",
     "output_type": "stream",
     "text": [
      "[[ 22  23  24  25  26]\n",
      " [218  28  29  30  31]\n",
      " [ 32  33  34  35  36]\n",
      " [ 37  38  39  40  41]]\n",
      "[ 22  23  24  25  26 218  28  29  30  31  32  33  34  35  36  37  38  39\n",
      "  40  41]\n"
     ]
    }
   ],
   "source": [
    "# In both of the arrays our element is modified due to the ravel() function\n",
    "print(array_8)\n",
    "print(new_array_9)"
   ]
  },
  {
   "cell_type": "raw",
   "id": "f760b4b2",
   "metadata": {},
   "source": [
    "When we need to remember or determine spesific functions we must use help(name of function)\n",
    "In other case we can write name of function? such as str?"
   ]
  },
  {
   "cell_type": "code",
   "execution_count": 312,
   "id": "83d3e4e6",
   "metadata": {},
   "outputs": [
    {
     "name": "stdout",
     "output_type": "stream",
     "text": [
      "Help on module random:\n",
      "\n",
      "NAME\n",
      "    random - Random variable generators.\n",
      "\n",
      "MODULE REFERENCE\n",
      "    https://docs.python.org/3.9/library/random\n",
      "    \n",
      "    The following documentation is automatically generated from the Python\n",
      "    source files.  It may be incomplete, incorrect or include features that\n",
      "    are considered implementation detail and may vary between Python\n",
      "    implementations.  When in doubt, consult the module reference at the\n",
      "    location listed above.\n",
      "\n",
      "DESCRIPTION\n",
      "        bytes\n",
      "        -----\n",
      "               uniform bytes (values between 0 and 255)\n",
      "    \n",
      "        integers\n",
      "        --------\n",
      "               uniform within range\n",
      "    \n",
      "        sequences\n",
      "        ---------\n",
      "               pick random element\n",
      "               pick random sample\n",
      "               pick weighted random sample\n",
      "               generate random permutation\n",
      "    \n",
      "        distributions on the real line:\n",
      "        ------------------------------\n",
      "               uniform\n",
      "               triangular\n",
      "               normal (Gaussian)\n",
      "               lognormal\n",
      "               negative exponential\n",
      "               gamma\n",
      "               beta\n",
      "               pareto\n",
      "               Weibull\n",
      "    \n",
      "        distributions on the circle (angles 0 to 2pi)\n",
      "        ---------------------------------------------\n",
      "               circular uniform\n",
      "               von Mises\n",
      "    \n",
      "    General notes on the underlying Mersenne Twister core generator:\n",
      "    \n",
      "    * The period is 2**19937-1.\n",
      "    * It is one of the most extensively tested generators in existence.\n",
      "    * The random() method is implemented in C, executes in a single Python step,\n",
      "      and is, therefore, threadsafe.\n",
      "\n",
      "CLASSES\n",
      "    _random.Random(builtins.object)\n",
      "        Random\n",
      "            SystemRandom\n",
      "    \n",
      "    class Random(_random.Random)\n",
      "     |  Random(x=None)\n",
      "     |  \n",
      "     |  Random number generator base class used by bound module functions.\n",
      "     |  \n",
      "     |  Used to instantiate instances of Random to get generators that don't\n",
      "     |  share state.\n",
      "     |  \n",
      "     |  Class Random can also be subclassed if you want to use a different basic\n",
      "     |  generator of your own devising: in that case, override the following\n",
      "     |  methods:  random(), seed(), getstate(), and setstate().\n",
      "     |  Optionally, implement a getrandbits() method so that randrange()\n",
      "     |  can cover arbitrarily large ranges.\n",
      "     |  \n",
      "     |  Method resolution order:\n",
      "     |      Random\n",
      "     |      _random.Random\n",
      "     |      builtins.object\n",
      "     |  \n",
      "     |  Methods defined here:\n",
      "     |  \n",
      "     |  __getstate__(self)\n",
      "     |      # Issue 17489: Since __reduce__ was defined to fix #759889 this is no\n",
      "     |      # longer called; we leave it here because it has been here since random was\n",
      "     |      # rewritten back in 2001 and why risk breaking something.\n",
      "     |  \n",
      "     |  __init__(self, x=None)\n",
      "     |      Initialize an instance.\n",
      "     |      \n",
      "     |      Optional argument x controls seeding, as for Random.seed().\n",
      "     |  \n",
      "     |  __reduce__(self)\n",
      "     |      Helper for pickle.\n",
      "     |  \n",
      "     |  __setstate__(self, state)\n",
      "     |  \n",
      "     |  betavariate(self, alpha, beta)\n",
      "     |      Beta distribution.\n",
      "     |      \n",
      "     |      Conditions on the parameters are alpha > 0 and beta > 0.\n",
      "     |      Returned values range between 0 and 1.\n",
      "     |  \n",
      "     |  choice(self, seq)\n",
      "     |      Choose a random element from a non-empty sequence.\n",
      "     |  \n",
      "     |  choices(self, population, weights=None, *, cum_weights=None, k=1)\n",
      "     |      Return a k sized list of population elements chosen with replacement.\n",
      "     |      \n",
      "     |      If the relative weights or cumulative weights are not specified,\n",
      "     |      the selections are made with equal probability.\n",
      "     |  \n",
      "     |  expovariate(self, lambd)\n",
      "     |      Exponential distribution.\n",
      "     |      \n",
      "     |      lambd is 1.0 divided by the desired mean.  It should be\n",
      "     |      nonzero.  (The parameter would be called \"lambda\", but that is\n",
      "     |      a reserved word in Python.)  Returned values range from 0 to\n",
      "     |      positive infinity if lambd is positive, and from negative\n",
      "     |      infinity to 0 if lambd is negative.\n",
      "     |  \n",
      "     |  gammavariate(self, alpha, beta)\n",
      "     |      Gamma distribution.  Not the gamma function!\n",
      "     |      \n",
      "     |      Conditions on the parameters are alpha > 0 and beta > 0.\n",
      "     |      \n",
      "     |      The probability distribution function is:\n",
      "     |      \n",
      "     |                  x ** (alpha - 1) * math.exp(-x / beta)\n",
      "     |        pdf(x) =  --------------------------------------\n",
      "     |                    math.gamma(alpha) * beta ** alpha\n",
      "     |  \n",
      "     |  gauss(self, mu, sigma)\n",
      "     |      Gaussian distribution.\n",
      "     |      \n",
      "     |      mu is the mean, and sigma is the standard deviation.  This is\n",
      "     |      slightly faster than the normalvariate() function.\n",
      "     |      \n",
      "     |      Not thread-safe without a lock around calls.\n",
      "     |  \n",
      "     |  getstate(self)\n",
      "     |      Return internal state; can be passed to setstate() later.\n",
      "     |  \n",
      "     |  lognormvariate(self, mu, sigma)\n",
      "     |      Log normal distribution.\n",
      "     |      \n",
      "     |      If you take the natural logarithm of this distribution, you'll get a\n",
      "     |      normal distribution with mean mu and standard deviation sigma.\n",
      "     |      mu can have any value, and sigma must be greater than zero.\n",
      "     |  \n",
      "     |  normalvariate(self, mu, sigma)\n",
      "     |      Normal distribution.\n",
      "     |      \n",
      "     |      mu is the mean, and sigma is the standard deviation.\n",
      "     |  \n",
      "     |  paretovariate(self, alpha)\n",
      "     |      Pareto distribution.  alpha is the shape parameter.\n",
      "     |  \n",
      "     |  randbytes(self, n)\n",
      "     |      Generate n random bytes.\n",
      "     |  \n",
      "     |  randint(self, a, b)\n",
      "     |      Return random integer in range [a, b], including both end points.\n",
      "     |  \n",
      "     |  randrange(self, start, stop=None, step=1)\n",
      "     |      Choose a random item from range(start, stop[, step]).\n",
      "     |      \n",
      "     |      This fixes the problem with randint() which includes the\n",
      "     |      endpoint; in Python this is usually not what you want.\n",
      "     |  \n",
      "     |  sample(self, population, k, *, counts=None)\n",
      "     |      Chooses k unique random elements from a population sequence or set.\n",
      "     |      \n",
      "     |      Returns a new list containing elements from the population while\n",
      "     |      leaving the original population unchanged.  The resulting list is\n",
      "     |      in selection order so that all sub-slices will also be valid random\n",
      "     |      samples.  This allows raffle winners (the sample) to be partitioned\n",
      "     |      into grand prize and second place winners (the subslices).\n",
      "     |      \n",
      "     |      Members of the population need not be hashable or unique.  If the\n",
      "     |      population contains repeats, then each occurrence is a possible\n",
      "     |      selection in the sample.\n",
      "     |      \n",
      "     |      Repeated elements can be specified one at a time or with the optional\n",
      "     |      counts parameter.  For example:\n",
      "     |      \n",
      "     |          sample(['red', 'blue'], counts=[4, 2], k=5)\n",
      "     |      \n",
      "     |      is equivalent to:\n",
      "     |      \n",
      "     |          sample(['red', 'red', 'red', 'red', 'blue', 'blue'], k=5)\n",
      "     |      \n",
      "     |      To choose a sample from a range of integers, use range() for the\n",
      "     |      population argument.  This is especially fast and space efficient\n",
      "     |      for sampling from a large population:\n",
      "     |      \n",
      "     |          sample(range(10000000), 60)\n",
      "     |  \n",
      "     |  seed(self, a=None, version=2)\n",
      "     |      Initialize internal state from a seed.\n",
      "     |      \n",
      "     |      The only supported seed types are None, int, float,\n",
      "     |      str, bytes, and bytearray.\n",
      "     |      \n",
      "     |      None or no argument seeds from current time or from an operating\n",
      "     |      system specific randomness source if available.\n",
      "     |      \n",
      "     |      If *a* is an int, all bits are used.\n",
      "     |      \n",
      "     |      For version 2 (the default), all of the bits are used if *a* is a str,\n",
      "     |      bytes, or bytearray.  For version 1 (provided for reproducing random\n",
      "     |      sequences from older versions of Python), the algorithm for str and\n",
      "     |      bytes generates a narrower range of seeds.\n",
      "     |  \n",
      "     |  setstate(self, state)\n",
      "     |      Restore internal state from object returned by getstate().\n",
      "     |  \n",
      "     |  shuffle(self, x, random=None)\n",
      "     |      Shuffle list x in place, and return None.\n",
      "     |      \n",
      "     |      Optional argument random is a 0-argument function returning a\n",
      "     |      random float in [0.0, 1.0); if it is the default None, the\n",
      "     |      standard random.random will be used.\n",
      "     |  \n",
      "     |  triangular(self, low=0.0, high=1.0, mode=None)\n",
      "     |      Triangular distribution.\n",
      "     |      \n",
      "     |      Continuous distribution bounded by given lower and upper limits,\n",
      "     |      and having a given mode value in-between.\n",
      "     |      \n",
      "     |      http://en.wikipedia.org/wiki/Triangular_distribution\n",
      "     |  \n",
      "     |  uniform(self, a, b)\n",
      "     |      Get a random number in the range [a, b) or [a, b] depending on rounding.\n",
      "     |  \n",
      "     |  vonmisesvariate(self, mu, kappa)\n",
      "     |      Circular data distribution.\n",
      "     |      \n",
      "     |      mu is the mean angle, expressed in radians between 0 and 2*pi, and\n",
      "     |      kappa is the concentration parameter, which must be greater than or\n",
      "     |      equal to zero.  If kappa is equal to zero, this distribution reduces\n",
      "     |      to a uniform random angle over the range 0 to 2*pi.\n",
      "     |  \n",
      "     |  weibullvariate(self, alpha, beta)\n",
      "     |      Weibull distribution.\n",
      "     |      \n",
      "     |      alpha is the scale parameter and beta is the shape parameter.\n",
      "     |  \n",
      "     |  ----------------------------------------------------------------------\n",
      "     |  Class methods defined here:\n",
      "     |  \n",
      "     |  __init_subclass__(**kwargs) from builtins.type\n",
      "     |      Control how subclasses generate random integers.\n",
      "     |      \n",
      "     |      The algorithm a subclass can use depends on the random() and/or\n",
      "     |      getrandbits() implementation available to it and determines\n",
      "     |      whether it can generate random integers from arbitrarily large\n",
      "     |      ranges.\n",
      "     |  \n",
      "     |  ----------------------------------------------------------------------\n",
      "     |  Data descriptors defined here:\n",
      "     |  \n",
      "     |  __dict__\n",
      "     |      dictionary for instance variables (if defined)\n",
      "     |  \n",
      "     |  __weakref__\n",
      "     |      list of weak references to the object (if defined)\n",
      "     |  \n",
      "     |  ----------------------------------------------------------------------\n",
      "     |  Data and other attributes defined here:\n",
      "     |  \n",
      "     |  VERSION = 3\n",
      "     |  \n",
      "     |  ----------------------------------------------------------------------\n",
      "     |  Methods inherited from _random.Random:\n",
      "     |  \n",
      "     |  getrandbits(self, k, /)\n",
      "     |      getrandbits(k) -> x.  Generates an int with k random bits.\n",
      "     |  \n",
      "     |  random(self, /)\n",
      "     |      random() -> x in the interval [0, 1).\n",
      "     |  \n",
      "     |  ----------------------------------------------------------------------\n",
      "     |  Static methods inherited from _random.Random:\n",
      "     |  \n",
      "     |  __new__(*args, **kwargs) from builtins.type\n",
      "     |      Create and return a new object.  See help(type) for accurate signature.\n",
      "    \n",
      "    class SystemRandom(Random)\n",
      "     |  SystemRandom(x=None)\n",
      "     |  \n",
      "     |  Alternate random number generator using sources provided\n",
      "     |  by the operating system (such as /dev/urandom on Unix or\n",
      "     |  CryptGenRandom on Windows).\n",
      "     |  \n",
      "     |   Not available on all systems (see os.urandom() for details).\n",
      "     |  \n",
      "     |  Method resolution order:\n",
      "     |      SystemRandom\n",
      "     |      Random\n",
      "     |      _random.Random\n",
      "     |      builtins.object\n",
      "     |  \n",
      "     |  Methods defined here:\n",
      "     |  \n",
      "     |  getrandbits(self, k)\n",
      "     |      getrandbits(k) -> x.  Generates an int with k random bits.\n",
      "     |  \n",
      "     |  getstate = _notimplemented(self, *args, **kwds)\n",
      "     |  \n",
      "     |  randbytes(self, n)\n",
      "     |      Generate n random bytes.\n",
      "     |  \n",
      "     |  random(self)\n",
      "     |      Get the next random number in the range [0.0, 1.0).\n",
      "     |  \n",
      "     |  seed(self, *args, **kwds)\n",
      "     |      Stub method.  Not used for a system random number generator.\n",
      "     |  \n",
      "     |  setstate = _notimplemented(self, *args, **kwds)\n",
      "     |  \n",
      "     |  ----------------------------------------------------------------------\n",
      "     |  Methods inherited from Random:\n",
      "     |  \n",
      "     |  __getstate__(self)\n",
      "     |      # Issue 17489: Since __reduce__ was defined to fix #759889 this is no\n",
      "     |      # longer called; we leave it here because it has been here since random was\n",
      "     |      # rewritten back in 2001 and why risk breaking something.\n",
      "     |  \n",
      "     |  __init__(self, x=None)\n",
      "     |      Initialize an instance.\n",
      "     |      \n",
      "     |      Optional argument x controls seeding, as for Random.seed().\n",
      "     |  \n",
      "     |  __reduce__(self)\n",
      "     |      Helper for pickle.\n",
      "     |  \n",
      "     |  __setstate__(self, state)\n",
      "     |  \n",
      "     |  betavariate(self, alpha, beta)\n",
      "     |      Beta distribution.\n",
      "     |      \n",
      "     |      Conditions on the parameters are alpha > 0 and beta > 0.\n",
      "     |      Returned values range between 0 and 1.\n",
      "     |  \n",
      "     |  choice(self, seq)\n",
      "     |      Choose a random element from a non-empty sequence.\n",
      "     |  \n",
      "     |  choices(self, population, weights=None, *, cum_weights=None, k=1)\n",
      "     |      Return a k sized list of population elements chosen with replacement.\n",
      "     |      \n",
      "     |      If the relative weights or cumulative weights are not specified,\n",
      "     |      the selections are made with equal probability.\n",
      "     |  \n",
      "     |  expovariate(self, lambd)\n",
      "     |      Exponential distribution.\n",
      "     |      \n",
      "     |      lambd is 1.0 divided by the desired mean.  It should be\n",
      "     |      nonzero.  (The parameter would be called \"lambda\", but that is\n",
      "     |      a reserved word in Python.)  Returned values range from 0 to\n",
      "     |      positive infinity if lambd is positive, and from negative\n",
      "     |      infinity to 0 if lambd is negative.\n",
      "     |  \n",
      "     |  gammavariate(self, alpha, beta)\n",
      "     |      Gamma distribution.  Not the gamma function!\n",
      "     |      \n",
      "     |      Conditions on the parameters are alpha > 0 and beta > 0.\n",
      "     |      \n",
      "     |      The probability distribution function is:\n",
      "     |      \n",
      "     |                  x ** (alpha - 1) * math.exp(-x / beta)\n",
      "     |        pdf(x) =  --------------------------------------\n",
      "     |                    math.gamma(alpha) * beta ** alpha\n",
      "     |  \n",
      "     |  gauss(self, mu, sigma)\n",
      "     |      Gaussian distribution.\n",
      "     |      \n",
      "     |      mu is the mean, and sigma is the standard deviation.  This is\n",
      "     |      slightly faster than the normalvariate() function.\n",
      "     |      \n",
      "     |      Not thread-safe without a lock around calls.\n",
      "     |  \n",
      "     |  lognormvariate(self, mu, sigma)\n",
      "     |      Log normal distribution.\n",
      "     |      \n",
      "     |      If you take the natural logarithm of this distribution, you'll get a\n",
      "     |      normal distribution with mean mu and standard deviation sigma.\n",
      "     |      mu can have any value, and sigma must be greater than zero.\n",
      "     |  \n",
      "     |  normalvariate(self, mu, sigma)\n",
      "     |      Normal distribution.\n",
      "     |      \n",
      "     |      mu is the mean, and sigma is the standard deviation.\n",
      "     |  \n",
      "     |  paretovariate(self, alpha)\n",
      "     |      Pareto distribution.  alpha is the shape parameter.\n",
      "     |  \n",
      "     |  randint(self, a, b)\n",
      "     |      Return random integer in range [a, b], including both end points.\n",
      "     |  \n",
      "     |  randrange(self, start, stop=None, step=1)\n",
      "     |      Choose a random item from range(start, stop[, step]).\n",
      "     |      \n",
      "     |      This fixes the problem with randint() which includes the\n",
      "     |      endpoint; in Python this is usually not what you want.\n",
      "     |  \n",
      "     |  sample(self, population, k, *, counts=None)\n",
      "     |      Chooses k unique random elements from a population sequence or set.\n",
      "     |      \n",
      "     |      Returns a new list containing elements from the population while\n",
      "     |      leaving the original population unchanged.  The resulting list is\n",
      "     |      in selection order so that all sub-slices will also be valid random\n",
      "     |      samples.  This allows raffle winners (the sample) to be partitioned\n",
      "     |      into grand prize and second place winners (the subslices).\n",
      "     |      \n",
      "     |      Members of the population need not be hashable or unique.  If the\n",
      "     |      population contains repeats, then each occurrence is a possible\n",
      "     |      selection in the sample.\n",
      "     |      \n",
      "     |      Repeated elements can be specified one at a time or with the optional\n",
      "     |      counts parameter.  For example:\n",
      "     |      \n",
      "     |          sample(['red', 'blue'], counts=[4, 2], k=5)\n",
      "     |      \n",
      "     |      is equivalent to:\n",
      "     |      \n",
      "     |          sample(['red', 'red', 'red', 'red', 'blue', 'blue'], k=5)\n",
      "     |      \n",
      "     |      To choose a sample from a range of integers, use range() for the\n",
      "     |      population argument.  This is especially fast and space efficient\n",
      "     |      for sampling from a large population:\n",
      "     |      \n",
      "     |          sample(range(10000000), 60)\n",
      "     |  \n",
      "     |  shuffle(self, x, random=None)\n",
      "     |      Shuffle list x in place, and return None.\n",
      "     |      \n",
      "     |      Optional argument random is a 0-argument function returning a\n",
      "     |      random float in [0.0, 1.0); if it is the default None, the\n",
      "     |      standard random.random will be used.\n",
      "     |  \n",
      "     |  triangular(self, low=0.0, high=1.0, mode=None)\n",
      "     |      Triangular distribution.\n",
      "     |      \n",
      "     |      Continuous distribution bounded by given lower and upper limits,\n",
      "     |      and having a given mode value in-between.\n",
      "     |      \n",
      "     |      http://en.wikipedia.org/wiki/Triangular_distribution\n",
      "     |  \n",
      "     |  uniform(self, a, b)\n",
      "     |      Get a random number in the range [a, b) or [a, b] depending on rounding.\n",
      "     |  \n",
      "     |  vonmisesvariate(self, mu, kappa)\n",
      "     |      Circular data distribution.\n",
      "     |      \n",
      "     |      mu is the mean angle, expressed in radians between 0 and 2*pi, and\n",
      "     |      kappa is the concentration parameter, which must be greater than or\n",
      "     |      equal to zero.  If kappa is equal to zero, this distribution reduces\n",
      "     |      to a uniform random angle over the range 0 to 2*pi.\n",
      "     |  \n",
      "     |  weibullvariate(self, alpha, beta)\n",
      "     |      Weibull distribution.\n",
      "     |      \n",
      "     |      alpha is the scale parameter and beta is the shape parameter.\n",
      "     |  \n",
      "     |  ----------------------------------------------------------------------\n",
      "     |  Class methods inherited from Random:\n",
      "     |  \n",
      "     |  __init_subclass__(**kwargs) from builtins.type\n",
      "     |      Control how subclasses generate random integers.\n",
      "     |      \n",
      "     |      The algorithm a subclass can use depends on the random() and/or\n",
      "     |      getrandbits() implementation available to it and determines\n",
      "     |      whether it can generate random integers from arbitrarily large\n",
      "     |      ranges.\n",
      "     |  \n",
      "     |  ----------------------------------------------------------------------\n",
      "     |  Data descriptors inherited from Random:\n",
      "     |  \n",
      "     |  __dict__\n",
      "     |      dictionary for instance variables (if defined)\n",
      "     |  \n",
      "     |  __weakref__\n",
      "     |      list of weak references to the object (if defined)\n",
      "     |  \n",
      "     |  ----------------------------------------------------------------------\n",
      "     |  Data and other attributes inherited from Random:\n",
      "     |  \n",
      "     |  VERSION = 3\n",
      "     |  \n",
      "     |  ----------------------------------------------------------------------\n",
      "     |  Static methods inherited from _random.Random:\n",
      "     |  \n",
      "     |  __new__(*args, **kwargs) from builtins.type\n",
      "     |      Create and return a new object.  See help(type) for accurate signature.\n",
      "\n",
      "FUNCTIONS\n",
      "    betavariate(alpha, beta) method of Random instance\n",
      "        Beta distribution.\n",
      "        \n",
      "        Conditions on the parameters are alpha > 0 and beta > 0.\n",
      "        Returned values range between 0 and 1.\n",
      "    \n",
      "    choice(seq) method of Random instance\n",
      "        Choose a random element from a non-empty sequence.\n",
      "    \n",
      "    choices(population, weights=None, *, cum_weights=None, k=1) method of Random instance\n",
      "        Return a k sized list of population elements chosen with replacement.\n",
      "        \n",
      "        If the relative weights or cumulative weights are not specified,\n",
      "        the selections are made with equal probability.\n",
      "    \n",
      "    expovariate(lambd) method of Random instance\n",
      "        Exponential distribution.\n",
      "        \n",
      "        lambd is 1.0 divided by the desired mean.  It should be\n",
      "        nonzero.  (The parameter would be called \"lambda\", but that is\n",
      "        a reserved word in Python.)  Returned values range from 0 to\n",
      "        positive infinity if lambd is positive, and from negative\n",
      "        infinity to 0 if lambd is negative.\n",
      "    \n",
      "    gammavariate(alpha, beta) method of Random instance\n",
      "        Gamma distribution.  Not the gamma function!\n",
      "        \n",
      "        Conditions on the parameters are alpha > 0 and beta > 0.\n",
      "        \n",
      "        The probability distribution function is:\n",
      "        \n",
      "                    x ** (alpha - 1) * math.exp(-x / beta)\n",
      "          pdf(x) =  --------------------------------------\n",
      "                      math.gamma(alpha) * beta ** alpha\n",
      "    \n",
      "    gauss(mu, sigma) method of Random instance\n",
      "        Gaussian distribution.\n",
      "        \n",
      "        mu is the mean, and sigma is the standard deviation.  This is\n",
      "        slightly faster than the normalvariate() function.\n",
      "        \n",
      "        Not thread-safe without a lock around calls.\n",
      "    \n",
      "    getrandbits(k, /) method of Random instance\n",
      "        getrandbits(k) -> x.  Generates an int with k random bits.\n",
      "    \n",
      "    getstate() method of Random instance\n",
      "        Return internal state; can be passed to setstate() later.\n",
      "    \n",
      "    lognormvariate(mu, sigma) method of Random instance\n",
      "        Log normal distribution.\n",
      "        \n",
      "        If you take the natural logarithm of this distribution, you'll get a\n",
      "        normal distribution with mean mu and standard deviation sigma.\n",
      "        mu can have any value, and sigma must be greater than zero.\n",
      "    \n",
      "    normalvariate(mu, sigma) method of Random instance\n",
      "        Normal distribution.\n",
      "        \n",
      "        mu is the mean, and sigma is the standard deviation.\n",
      "    \n",
      "    paretovariate(alpha) method of Random instance\n",
      "        Pareto distribution.  alpha is the shape parameter.\n",
      "    \n",
      "    randbytes(n) method of Random instance\n",
      "        Generate n random bytes.\n",
      "    \n",
      "    randint(a, b) method of Random instance\n",
      "        Return random integer in range [a, b], including both end points.\n",
      "    \n",
      "    random() method of Random instance\n",
      "        random() -> x in the interval [0, 1).\n",
      "    \n",
      "    randrange(start, stop=None, step=1) method of Random instance\n",
      "        Choose a random item from range(start, stop[, step]).\n",
      "        \n",
      "        This fixes the problem with randint() which includes the\n",
      "        endpoint; in Python this is usually not what you want.\n",
      "    \n",
      "    sample(population, k, *, counts=None) method of Random instance\n",
      "        Chooses k unique random elements from a population sequence or set.\n",
      "        \n",
      "        Returns a new list containing elements from the population while\n",
      "        leaving the original population unchanged.  The resulting list is\n",
      "        in selection order so that all sub-slices will also be valid random\n",
      "        samples.  This allows raffle winners (the sample) to be partitioned\n",
      "        into grand prize and second place winners (the subslices).\n",
      "        \n",
      "        Members of the population need not be hashable or unique.  If the\n",
      "        population contains repeats, then each occurrence is a possible\n",
      "        selection in the sample.\n",
      "        \n",
      "        Repeated elements can be specified one at a time or with the optional\n",
      "        counts parameter.  For example:\n",
      "        \n",
      "            sample(['red', 'blue'], counts=[4, 2], k=5)\n",
      "        \n",
      "        is equivalent to:\n",
      "        \n",
      "            sample(['red', 'red', 'red', 'red', 'blue', 'blue'], k=5)\n",
      "        \n",
      "        To choose a sample from a range of integers, use range() for the\n",
      "        population argument.  This is especially fast and space efficient\n",
      "        for sampling from a large population:\n",
      "        \n",
      "            sample(range(10000000), 60)\n",
      "    \n",
      "    seed(a=None, version=2) method of Random instance\n",
      "        Initialize internal state from a seed.\n",
      "        \n",
      "        The only supported seed types are None, int, float,\n",
      "        str, bytes, and bytearray.\n",
      "        \n",
      "        None or no argument seeds from current time or from an operating\n",
      "        system specific randomness source if available.\n",
      "        \n",
      "        If *a* is an int, all bits are used.\n",
      "        \n",
      "        For version 2 (the default), all of the bits are used if *a* is a str,\n",
      "        bytes, or bytearray.  For version 1 (provided for reproducing random\n",
      "        sequences from older versions of Python), the algorithm for str and\n",
      "        bytes generates a narrower range of seeds.\n",
      "    \n",
      "    setstate(state) method of Random instance\n",
      "        Restore internal state from object returned by getstate().\n",
      "    \n",
      "    shuffle(x, random=None) method of Random instance\n",
      "        Shuffle list x in place, and return None.\n",
      "        \n",
      "        Optional argument random is a 0-argument function returning a\n",
      "        random float in [0.0, 1.0); if it is the default None, the\n",
      "        standard random.random will be used.\n",
      "    \n",
      "    triangular(low=0.0, high=1.0, mode=None) method of Random instance\n",
      "        Triangular distribution.\n",
      "        \n",
      "        Continuous distribution bounded by given lower and upper limits,\n",
      "        and having a given mode value in-between.\n",
      "        \n",
      "        http://en.wikipedia.org/wiki/Triangular_distribution\n",
      "    \n",
      "    uniform(a, b) method of Random instance\n",
      "        Get a random number in the range [a, b) or [a, b] depending on rounding.\n",
      "    \n",
      "    vonmisesvariate(mu, kappa) method of Random instance\n",
      "        Circular data distribution.\n",
      "        \n",
      "        mu is the mean angle, expressed in radians between 0 and 2*pi, and\n",
      "        kappa is the concentration parameter, which must be greater than or\n",
      "        equal to zero.  If kappa is equal to zero, this distribution reduces\n",
      "        to a uniform random angle over the range 0 to 2*pi.\n",
      "    \n",
      "    weibullvariate(alpha, beta) method of Random instance\n",
      "        Weibull distribution.\n",
      "        \n",
      "        alpha is the scale parameter and beta is the shape parameter.\n",
      "\n",
      "DATA\n",
      "    __all__ = ['Random', 'SystemRandom', 'betavariate', 'choice', 'choices...\n",
      "\n",
      "FILE\n",
      "    c:\\users\\acer\\anaconda3\\lib\\random.py\n",
      "\n",
      "\n"
     ]
    }
   ],
   "source": [
    "help(random)"
   ]
  },
  {
   "cell_type": "code",
   "execution_count": 314,
   "id": "7f5bce9e",
   "metadata": {},
   "outputs": [],
   "source": [
    "str?"
   ]
  },
  {
   "cell_type": "raw",
   "id": "109f6405",
   "metadata": {},
   "source": [
    "The mean square error formula (a central formula used in supervised machine learning models that deal with regression)"
   ]
  },
  {
   "cell_type": "raw",
   "id": "4acd1a16",
   "metadata": {},
   "source": [
    "There are several ways to save and load objects with NumPy. The ndarray objects can be saved to and loaded from the disk files with loadtxt and savetxt functions that handle normal text files, load and save functions that handle NumPy binary files with a .npy file extension, and a savez function that handles NumPy files with a .npz file extension.\n",
    "The .npy and .npz files store data, shape, dtype, and other information required to reconstruct the ndarray in a way that allows the array to be correctly retrieved, even when the file is on another machine with different architecture.\n",
    "\n",
    "If you want to store a single ndarray object, store it as a .npy file using np.save. If you want to store more than one ndarray object in a single file, save it as a .npz file using np.savez. You can also save several arrays into a single file in compressed npz format with savez_compressed."
   ]
  },
  {
   "cell_type": "code",
   "execution_count": null,
   "id": "859c7716",
   "metadata": {},
   "outputs": [],
   "source": [
    "# np.save('filename', name of array)\n",
    "# b = np.load('filename.npy') print(b)\n",
    "# You can save a NumPy array as a plain text file like a .csv or .txt file with np.savetxt\n",
    "# np.savetxt('new_file.csv', name of array)\n",
    "# np.loadtxt('new_file.csv')"
   ]
  },
  {
   "cell_type": "raw",
   "id": "54049f4c",
   "metadata": {},
   "source": [
    "The savetxt() and loadtxt() functions accept additional optional parameters such as header, footer, and delimiter. While text files can be easier for sharing, .npy and .npz files are smaller and faster to read. If you need more sophisticated handling of your text file (for example, if you need to work with lines that contain missing values), you will want to use the genfromtxt function.\n",
    "With savetxt, you can specify headers, footers, comments, and more.\n",
    "\n",
    "To deal with files, look at this documentation:\n",
    "https://numpy.org/doc/stable/reference/routines.io.html#routines-io"
   ]
  },
  {
   "cell_type": "markdown",
   "id": "23840591",
   "metadata": {},
   "source": [
    "# Some points about pandas"
   ]
  },
  {
   "cell_type": "code",
   "execution_count": null,
   "id": "47503fab",
   "metadata": {},
   "outputs": [],
   "source": [
    "# Read files \n",
    "# import pandas as pd\n",
    "# x = pd.read_csv('music.csv')"
   ]
  },
  {
   "cell_type": "code",
   "execution_count": null,
   "id": "7a7eb560",
   "metadata": {},
   "outputs": [],
   "source": [
    "# Create data frame with pandas\n",
    "#a = np.array([[-2.58289208,  0.43014843, -1.24082018, 1.59572603],\n",
    "       #       [ 0.99027828, 1.17150989,  0.94125714, -0.14692469],\n",
    "      #        [ 0.76989341,  0.81299683, -0.95068423, 0.11769564],\n",
    "     #         [ 0.20484034,  0.34784527,  1.96979195, 0.51992837]])\n",
    "# df = pd.DataFrame(a)\n",
    "# print(df)\n",
    "\n",
    "# to save data: df.to_csv('pd.csv')"
   ]
  },
  {
   "cell_type": "markdown",
   "id": "33248f17",
   "metadata": {},
   "source": [
    "# Plotting with matplotlib "
   ]
  },
  {
   "cell_type": "code",
   "execution_count": 322,
   "id": "bf5a15be",
   "metadata": {},
   "outputs": [],
   "source": [
    "import matplotlib.pyplot as plt\n",
    "%matplotlib inline"
   ]
  },
  {
   "cell_type": "code",
   "execution_count": 323,
   "id": "5427266b",
   "metadata": {},
   "outputs": [
    {
     "data": {
      "text/plain": [
       "array([ 0,  1,  2,  3,  4,  5,  6,  7,  8,  9, 10, 11, 12, 13, 14, 15, 16,\n",
       "       17, 18, 19, 20, 21, 22, 23, 24, 25, 26, 27, 28, 29, 30, 31, 32, 33,\n",
       "       34, 35, 36, 37, 38, 39, 40, 41, 42, 43, 44, 45, 46, 47, 48, 49, 50,\n",
       "       51, 52, 53, 54, 55, 56, 57, 58, 59, 60, 61, 62, 63, 64, 65, 66, 67,\n",
       "       68, 69, 70, 71, 72, 73, 74, 75, 76, 77, 78, 79, 80, 81, 82, 83, 84,\n",
       "       85, 86, 87, 88, 89, 90, 91, 92, 93, 94, 95, 96, 97, 98, 99])"
      ]
     },
     "execution_count": 323,
     "metadata": {},
     "output_type": "execute_result"
    }
   ],
   "source": [
    "# create a numpy array \n",
    "numpy_array = np.arange(100)\n",
    "numpy_array"
   ]
  },
  {
   "cell_type": "code",
   "execution_count": 324,
   "id": "0f1aae58",
   "metadata": {},
   "outputs": [
    {
     "data": {
      "text/plain": [
       "array([[ 0,  1,  2,  3,  4,  5,  6,  7,  8,  9, 10, 11, 12, 13, 14, 15,\n",
       "        16, 17, 18, 19],\n",
       "       [20, 21, 22, 23, 24, 25, 26, 27, 28, 29, 30, 31, 32, 33, 34, 35,\n",
       "        36, 37, 38, 39],\n",
       "       [40, 41, 42, 43, 44, 45, 46, 47, 48, 49, 50, 51, 52, 53, 54, 55,\n",
       "        56, 57, 58, 59],\n",
       "       [60, 61, 62, 63, 64, 65, 66, 67, 68, 69, 70, 71, 72, 73, 74, 75,\n",
       "        76, 77, 78, 79],\n",
       "       [80, 81, 82, 83, 84, 85, 86, 87, 88, 89, 90, 91, 92, 93, 94, 95,\n",
       "        96, 97, 98, 99]])"
      ]
     },
     "execution_count": 324,
     "metadata": {},
     "output_type": "execute_result"
    }
   ],
   "source": [
    "new_numpy_array = numpy_array.reshape(5,20)\n",
    "new_numpy_array"
   ]
  },
  {
   "cell_type": "code",
   "execution_count": 326,
   "id": "6636ca4a",
   "metadata": {},
   "outputs": [
    {
     "data": {
      "image/png": "[encoded data removed]",
      "text/plain": [
       "<Figure size 432x288 with 1 Axes>"
      ]
     },
     "metadata": {
      "needs_background": "light"
     },
     "output_type": "display_data"
    }
   ],
   "source": [
    "plt.plot(new_numpy_array)\n",
    "plt.show()"
   ]
  },
  {
   "cell_type": "code",
   "execution_count": 327,
   "id": "35824c72",
   "metadata": {},
   "outputs": [
    {
     "data": {
      "image/png": "[encoded data removed]",
      "text/plain": [
       "<Figure size 432x288 with 1 Axes>"
      ]
     },
     "metadata": {
      "needs_background": "light"
     },
     "output_type": "display_data"
    }
   ],
   "source": [
    "nd_array = np.arange(20)\n",
    "plt.plot(nd_array)\n",
    "plt.show()"
   ]
  },
  {
   "cell_type": "code",
   "execution_count": 330,
   "id": "980fe285",
   "metadata": {},
   "outputs": [
    {
     "data": {
      "image/png": "[encoded data removed]",
      "text/plain": [
       "<Figure size 432x288 with 1 Axes>"
      ]
     },
     "metadata": {
      "needs_background": "light"
     },
     "output_type": "display_data"
    }
   ],
   "source": [
    "new_nd_array = np.array([[1,2,3,4,5],[6,7,8,9,10],[1,4,9,16,25],[36,49,64,81,100]])\n",
    "plt.plot(new_nd_array)\n",
    "plt.show()"
   ]
  },
  {
   "cell_type": "code",
   "execution_count": 343,
   "id": "1dbe908f",
   "metadata": {},
   "outputs": [
    {
     "data": {
      "text/plain": [
       "[<matplotlib.lines.Line2D at 0x1a0d1642d30>]"
      ]
     },
     "execution_count": 343,
     "metadata": {},
     "output_type": "execute_result"
    },
    {
     "data": {
      "image/png": "[encoded data removed]",
      "text/plain": [
       "<Figure size 432x288 with 1 Axes>"
      ]
     },
     "metadata": {
      "needs_background": "light"
     },
     "output_type": "display_data"
    }
   ],
   "source": [
    "x = np.linspace(0, 5, 20)\n",
    "y = np.linspace(0, 10, 20)\n",
    "plt.plot(x, y, 'purple') # line\n",
    "plt.plot(x, y, '*')  "
   ]
  },
  {
   "cell_type": "raw",
   "id": "2fe6e8cb",
   "metadata": {},
   "source": [
    "Use this code samples to create 3d visualization patterns "
   ]
  },
  {
   "cell_type": "code",
   "execution_count": 349,
   "id": "9211e3fb",
   "metadata": {},
   "outputs": [
    {
     "data": {
      "text/plain": [
       "<mpl_toolkits.mplot3d.art3d.Poly3DCollection at 0x1a0d39071f0>"
      ]
     },
     "execution_count": 349,
     "metadata": {},
     "output_type": "execute_result"
    },
    {
     "data": {
      "image/png": "[encoded data removed]",
      "text/plain": [
       "<Figure size 432x288 with 1 Axes>"
      ]
     },
     "metadata": {
      "needs_background": "light"
     },
     "output_type": "display_data"
    }
   ],
   "source": [
    "fig = plt.figure()\n",
    "ax = fig.add_subplot(projection='3d')\n",
    "X = np.arange(-5, 5, 0.15)\n",
    "Y = np.arange(-5, 5, 0.15)\n",
    "X, Y = np.meshgrid(X, Y)\n",
    "R = np.sqrt(X**2 + Y**2)\n",
    "Z = np.cos(R)\n",
    "\n",
    "ax.plot_surface(X, Y, Z, rstride=1, cstride=1, cmap='viridis')"
   ]
  },
  {
   "cell_type": "markdown",
   "id": "256ec06a",
   "metadata": {},
   "source": [
    "Pandas documentation : https://pandas.pydata.org/index.html\n",
    "Matplotlib documentation : https://matplotlib.org/"
   ]
  },
  {
   "cell_type": "raw",
   "id": "25c1b0ad",
   "metadata": {},
   "source": [
    "BASICS OF NUMPY COMPLETED "
   ]
  },
  {
   "cell_type": "code",
   "execution_count": null,
   "id": "9ed55113",
   "metadata": {},
   "outputs": [],
   "source": []
  },
  {
   "cell_type": "code",
   "execution_count": null,
   "id": "712f774f",
   "metadata": {},
   "outputs": [],
   "source": []
  }
 ],
 "metadata": {
  "kernelspec": {
   "display_name": "Python 3 (ipykernel)",
   "language": "python",
   "name": "python3"
  },
  "language_info": {
   "codemirror_mode": {
    "name": "ipython",
    "version": 3
   },
   "file_extension": ".py",
   "mimetype": "text/x-python",
   "name": "python",
   "nbconvert_exporter": "python",
   "pygments_lexer": "ipython3",
   "version": "3.9.7"
  }
 },
 "nbformat": 4,
 "nbformat_minor": 5
}
